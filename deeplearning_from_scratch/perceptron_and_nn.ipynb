{
 "metadata": {
  "language_info": {
   "codemirror_mode": {
    "name": "ipython",
    "version": 3
   },
   "file_extension": ".py",
   "mimetype": "text/x-python",
   "name": "python",
   "nbconvert_exporter": "python",
   "pygments_lexer": "ipython3",
   "version": "3.7.7-final"
  },
  "orig_nbformat": 2,
  "kernelspec": {
   "name": "python3",
   "display_name": "Python 3.7.7 64-bit ('venv': conda)",
   "metadata": {
    "interpreter": {
     "hash": "b0fbd356cc5c5b89dd70bc5680998fc740c898d3795764a6f6a48ac42a502a54"
    }
   }
  }
 },
 "nbformat": 4,
 "nbformat_minor": 2,
 "cells": [
  {
   "cell_type": "code",
   "execution_count": 1,
   "metadata": {},
   "outputs": [],
   "source": [
    "def NAND(x1, x2):\n",
    "    w1, w2, theta = (-0.5, -0.5, -0.9)\n",
    "    result = w1 * x1 + w2 * x2\n",
    "    if result > theta:\n",
    "        return 1\n",
    "    else:\n",
    "        return 0"
   ]
  },
  {
   "cell_type": "code",
   "execution_count": 2,
   "metadata": {},
   "outputs": [
    {
     "output_type": "stream",
     "name": "stdout",
     "text": [
      "1\n1\n1\n0\n"
     ]
    }
   ],
   "source": [
    "print(NAND(0, 0))\n",
    "print(NAND(1, 0))\n",
    "print(NAND(0, 1))\n",
    "print(NAND(1, 1))"
   ]
  },
  {
   "cell_type": "code",
   "execution_count": 3,
   "metadata": {},
   "outputs": [],
   "source": [
    "def OR(x1, x2):\n",
    "    w1, w2, theta = (-0.5, -0.5, -0.9)\n",
    "    result = w1 * x1 + w2 * x2\n",
    "    if result > theta:\n",
    "        return 1\n",
    "    else:\n",
    "        return 0"
   ]
  },
  {
   "cell_type": "code",
   "execution_count": 4,
   "metadata": {},
   "outputs": [],
   "source": [
    "import numpy as np\n",
    "def AND(x1, x2):\n",
    "    x = np.array([x1, x2])\n",
    "    w = np.array([0.5, 0.5])\n",
    "    b = -0.9\n",
    "    result = np.sum(w*x) + b\n",
    "    if result > 0:\n",
    "        return 1\n",
    "    else:\n",
    "        return 0"
   ]
  },
  {
   "cell_type": "code",
   "execution_count": 5,
   "metadata": {},
   "outputs": [
    {
     "output_type": "execute_result",
     "data": {
      "text/plain": [
       "0"
      ]
     },
     "metadata": {},
     "execution_count": 5
    }
   ],
   "source": [
    "AND(1, 0)"
   ]
  },
  {
   "cell_type": "code",
   "execution_count": 6,
   "metadata": {},
   "outputs": [
    {
     "output_type": "execute_result",
     "data": {
      "text/plain": [
       "0"
      ]
     },
     "metadata": {},
     "execution_count": 6
    }
   ],
   "source": [
    "AND(0, 1)"
   ]
  },
  {
   "cell_type": "code",
   "execution_count": 7,
   "metadata": {},
   "outputs": [
    {
     "output_type": "execute_result",
     "data": {
      "text/plain": [
       "0"
      ]
     },
     "metadata": {},
     "execution_count": 7
    }
   ],
   "source": [
    "AND(0, 0)"
   ]
  },
  {
   "cell_type": "code",
   "execution_count": 8,
   "metadata": {},
   "outputs": [
    {
     "output_type": "execute_result",
     "data": {
      "text/plain": [
       "1"
      ]
     },
     "metadata": {},
     "execution_count": 8
    }
   ],
   "source": [
    "AND(1, 1)"
   ]
  },
  {
   "cell_type": "code",
   "execution_count": 9,
   "metadata": {},
   "outputs": [],
   "source": [
    "def NAND(x1, x2):\n",
    "    x = np.array([x1, x2])\n",
    "    w = np.array([-0.5, -0.5])\n",
    "    b = 0.9\n",
    "    result = np.sum(w*x) + b\n",
    "    if result > 0:\n",
    "        return 1\n",
    "    else:\n",
    "        return 0"
   ]
  },
  {
   "cell_type": "code",
   "execution_count": 10,
   "metadata": {},
   "outputs": [
    {
     "output_type": "execute_result",
     "data": {
      "text/plain": [
       "1"
      ]
     },
     "metadata": {},
     "execution_count": 10
    }
   ],
   "source": [
    "NAND(0, 1)"
   ]
  },
  {
   "cell_type": "code",
   "execution_count": 11,
   "metadata": {},
   "outputs": [
    {
     "output_type": "execute_result",
     "data": {
      "text/plain": [
       "1"
      ]
     },
     "metadata": {},
     "execution_count": 11
    }
   ],
   "source": [
    "NAND(1, 0)"
   ]
  },
  {
   "cell_type": "code",
   "execution_count": 12,
   "metadata": {},
   "outputs": [
    {
     "output_type": "execute_result",
     "data": {
      "text/plain": [
       "1"
      ]
     },
     "metadata": {},
     "execution_count": 12
    }
   ],
   "source": [
    "NAND(0, 0)"
   ]
  },
  {
   "cell_type": "code",
   "execution_count": 13,
   "metadata": {},
   "outputs": [
    {
     "output_type": "execute_result",
     "data": {
      "text/plain": [
       "0"
      ]
     },
     "metadata": {},
     "execution_count": 13
    }
   ],
   "source": [
    "NAND(1, 1)"
   ]
  },
  {
   "cell_type": "code",
   "execution_count": 14,
   "metadata": {},
   "outputs": [],
   "source": [
    "def OR(x1, x2):\n",
    "    x = np.array([x1, x2])\n",
    "    w = np.array([0.5, 0.5])\n",
    "    b = -0.2\n",
    "    result = np.sum(w*x) + b\n",
    "    if result > 0:\n",
    "        return 1\n",
    "    else:\n",
    "        return 0"
   ]
  },
  {
   "cell_type": "code",
   "execution_count": 15,
   "metadata": {},
   "outputs": [
    {
     "output_type": "execute_result",
     "data": {
      "text/plain": [
       "0"
      ]
     },
     "metadata": {},
     "execution_count": 15
    }
   ],
   "source": [
    "OR(0, 0)"
   ]
  },
  {
   "cell_type": "code",
   "execution_count": 16,
   "metadata": {},
   "outputs": [
    {
     "output_type": "execute_result",
     "data": {
      "text/plain": [
       "1"
      ]
     },
     "metadata": {},
     "execution_count": 16
    }
   ],
   "source": [
    "OR(0, 1)\n"
   ]
  },
  {
   "cell_type": "code",
   "execution_count": 17,
   "metadata": {},
   "outputs": [
    {
     "output_type": "execute_result",
     "data": {
      "text/plain": [
       "1"
      ]
     },
     "metadata": {},
     "execution_count": 17
    }
   ],
   "source": [
    "OR(1, 0)"
   ]
  },
  {
   "cell_type": "code",
   "execution_count": 18,
   "metadata": {},
   "outputs": [
    {
     "output_type": "execute_result",
     "data": {
      "text/plain": [
       "1"
      ]
     },
     "metadata": {},
     "execution_count": 18
    }
   ],
   "source": [
    "OR(1, 1)"
   ]
  },
  {
   "cell_type": "code",
   "execution_count": 19,
   "metadata": {},
   "outputs": [],
   "source": [
    "def XOR(x1, x2):\n",
    "    s1 = NAND(x1, x2)\n",
    "    s2 = OR(x1, x2)\n",
    "    return AND(s1, s2)"
   ]
  },
  {
   "cell_type": "code",
   "execution_count": 20,
   "metadata": {},
   "outputs": [
    {
     "output_type": "execute_result",
     "data": {
      "text/plain": [
       "1"
      ]
     },
     "metadata": {},
     "execution_count": 20
    }
   ],
   "source": [
    "XOR(0, 1)\n"
   ]
  },
  {
   "cell_type": "code",
   "execution_count": 21,
   "metadata": {},
   "outputs": [
    {
     "output_type": "execute_result",
     "data": {
      "text/plain": [
       "1"
      ]
     },
     "metadata": {},
     "execution_count": 21
    }
   ],
   "source": [
    "XOR(1, 0)"
   ]
  },
  {
   "cell_type": "code",
   "execution_count": 22,
   "metadata": {},
   "outputs": [
    {
     "output_type": "execute_result",
     "data": {
      "text/plain": [
       "0"
      ]
     },
     "metadata": {},
     "execution_count": 22
    }
   ],
   "source": [
    "XOR(0, 0)"
   ]
  },
  {
   "cell_type": "code",
   "execution_count": 23,
   "metadata": {},
   "outputs": [
    {
     "output_type": "execute_result",
     "data": {
      "text/plain": [
       "0"
      ]
     },
     "metadata": {},
     "execution_count": 23
    }
   ],
   "source": [
    "XOR(1, 1)"
   ]
  },
  {
   "cell_type": "code",
   "execution_count": 24,
   "metadata": {},
   "outputs": [],
   "source": [
    "def step_function(x):\n",
    "    y = x > 0\n",
    "    return y.astype(np.int)"
   ]
  },
  {
   "cell_type": "code",
   "execution_count": 25,
   "metadata": {},
   "outputs": [
    {
     "output_type": "execute_result",
     "data": {
      "text/plain": [
       "array([1, 0, 1])"
      ]
     },
     "metadata": {},
     "execution_count": 25
    }
   ],
   "source": [
    "x = np.array([1, -5, 6])\n",
    "step_function(x)"
   ]
  },
  {
   "cell_type": "code",
   "execution_count": 26,
   "metadata": {},
   "outputs": [
    {
     "output_type": "execute_result",
     "data": {
      "text/plain": [
       "(-0.1, 1.1)"
      ]
     },
     "metadata": {},
     "execution_count": 26
    },
    {
     "output_type": "display_data",
     "data": {
      "text/plain": "<Figure size 432x288 with 1 Axes>",
      "image/svg+xml": "<?xml version=\"1.0\" encoding=\"utf-8\" standalone=\"no\"?>\r\n<!DOCTYPE svg PUBLIC \"-//W3C//DTD SVG 1.1//EN\"\r\n  \"http://www.w3.org/Graphics/SVG/1.1/DTD/svg11.dtd\">\r\n<!-- Created with matplotlib (https://matplotlib.org/) -->\r\n<svg height=\"248.518125pt\" version=\"1.1\" viewBox=\"0 0 372.103125 248.518125\" width=\"372.103125pt\" xmlns=\"http://www.w3.org/2000/svg\" xmlns:xlink=\"http://www.w3.org/1999/xlink\">\r\n <defs>\r\n  <style type=\"text/css\">\r\n*{stroke-linecap:butt;stroke-linejoin:round;}\r\n  </style>\r\n </defs>\r\n <g id=\"figure_1\">\r\n  <g id=\"patch_1\">\r\n   <path d=\"M 0 248.518125 \r\nL 372.103125 248.518125 \r\nL 372.103125 0 \r\nL 0 0 \r\nz\r\n\" style=\"fill:none;\"/>\r\n  </g>\r\n  <g id=\"axes_1\">\r\n   <g id=\"patch_2\">\r\n    <path d=\"M 30.103125 224.64 \r\nL 364.903125 224.64 \r\nL 364.903125 7.2 \r\nL 30.103125 7.2 \r\nz\r\n\" style=\"fill:#ffffff;\"/>\r\n   </g>\r\n   <g id=\"matplotlib.axis_1\">\r\n    <g id=\"xtick_1\">\r\n     <g id=\"line2d_1\">\r\n      <defs>\r\n       <path d=\"M 0 0 \r\nL 0 3.5 \r\n\" id=\"m0774663876\" style=\"stroke:#000000;stroke-width:0.8;\"/>\r\n      </defs>\r\n      <g>\r\n       <use style=\"stroke:#000000;stroke-width:0.8;\" x=\"76.065108\" xlink:href=\"#m0774663876\" y=\"224.64\"/>\r\n      </g>\r\n     </g>\r\n     <g id=\"text_1\">\r\n      <!-- −4 -->\r\n      <defs>\r\n       <path d=\"M 10.59375 35.5 \r\nL 73.1875 35.5 \r\nL 73.1875 27.203125 \r\nL 10.59375 27.203125 \r\nz\r\n\" id=\"DejaVuSans-8722\"/>\r\n       <path d=\"M 37.796875 64.3125 \r\nL 12.890625 25.390625 \r\nL 37.796875 25.390625 \r\nz\r\nM 35.203125 72.90625 \r\nL 47.609375 72.90625 \r\nL 47.609375 25.390625 \r\nL 58.015625 25.390625 \r\nL 58.015625 17.1875 \r\nL 47.609375 17.1875 \r\nL 47.609375 0 \r\nL 37.796875 0 \r\nL 37.796875 17.1875 \r\nL 4.890625 17.1875 \r\nL 4.890625 26.703125 \r\nz\r\n\" id=\"DejaVuSans-52\"/>\r\n      </defs>\r\n      <g transform=\"translate(68.694015 239.238437)scale(0.1 -0.1)\">\r\n       <use xlink:href=\"#DejaVuSans-8722\"/>\r\n       <use x=\"83.789062\" xlink:href=\"#DejaVuSans-52\"/>\r\n      </g>\r\n     </g>\r\n    </g>\r\n    <g id=\"xtick_2\">\r\n     <g id=\"line2d_2\">\r\n      <g>\r\n       <use style=\"stroke:#000000;stroke-width:0.8;\" x=\"137.552712\" xlink:href=\"#m0774663876\" y=\"224.64\"/>\r\n      </g>\r\n     </g>\r\n     <g id=\"text_2\">\r\n      <!-- −2 -->\r\n      <defs>\r\n       <path d=\"M 19.1875 8.296875 \r\nL 53.609375 8.296875 \r\nL 53.609375 0 \r\nL 7.328125 0 \r\nL 7.328125 8.296875 \r\nQ 12.9375 14.109375 22.625 23.890625 \r\nQ 32.328125 33.6875 34.8125 36.53125 \r\nQ 39.546875 41.84375 41.421875 45.53125 \r\nQ 43.3125 49.21875 43.3125 52.78125 \r\nQ 43.3125 58.59375 39.234375 62.25 \r\nQ 35.15625 65.921875 28.609375 65.921875 \r\nQ 23.96875 65.921875 18.8125 64.3125 \r\nQ 13.671875 62.703125 7.8125 59.421875 \r\nL 7.8125 69.390625 \r\nQ 13.765625 71.78125 18.9375 73 \r\nQ 24.125 74.21875 28.421875 74.21875 \r\nQ 39.75 74.21875 46.484375 68.546875 \r\nQ 53.21875 62.890625 53.21875 53.421875 \r\nQ 53.21875 48.921875 51.53125 44.890625 \r\nQ 49.859375 40.875 45.40625 35.40625 \r\nQ 44.1875 33.984375 37.640625 27.21875 \r\nQ 31.109375 20.453125 19.1875 8.296875 \r\nz\r\n\" id=\"DejaVuSans-50\"/>\r\n      </defs>\r\n      <g transform=\"translate(130.181618 239.238437)scale(0.1 -0.1)\">\r\n       <use xlink:href=\"#DejaVuSans-8722\"/>\r\n       <use x=\"83.789062\" xlink:href=\"#DejaVuSans-50\"/>\r\n      </g>\r\n     </g>\r\n    </g>\r\n    <g id=\"xtick_3\">\r\n     <g id=\"line2d_3\">\r\n      <g>\r\n       <use style=\"stroke:#000000;stroke-width:0.8;\" x=\"199.040315\" xlink:href=\"#m0774663876\" y=\"224.64\"/>\r\n      </g>\r\n     </g>\r\n     <g id=\"text_3\">\r\n      <!-- 0 -->\r\n      <defs>\r\n       <path d=\"M 31.78125 66.40625 \r\nQ 24.171875 66.40625 20.328125 58.90625 \r\nQ 16.5 51.421875 16.5 36.375 \r\nQ 16.5 21.390625 20.328125 13.890625 \r\nQ 24.171875 6.390625 31.78125 6.390625 \r\nQ 39.453125 6.390625 43.28125 13.890625 \r\nQ 47.125 21.390625 47.125 36.375 \r\nQ 47.125 51.421875 43.28125 58.90625 \r\nQ 39.453125 66.40625 31.78125 66.40625 \r\nz\r\nM 31.78125 74.21875 \r\nQ 44.046875 74.21875 50.515625 64.515625 \r\nQ 56.984375 54.828125 56.984375 36.375 \r\nQ 56.984375 17.96875 50.515625 8.265625 \r\nQ 44.046875 -1.421875 31.78125 -1.421875 \r\nQ 19.53125 -1.421875 13.0625 8.265625 \r\nQ 6.59375 17.96875 6.59375 36.375 \r\nQ 6.59375 54.828125 13.0625 64.515625 \r\nQ 19.53125 74.21875 31.78125 74.21875 \r\nz\r\n\" id=\"DejaVuSans-48\"/>\r\n      </defs>\r\n      <g transform=\"translate(195.859065 239.238437)scale(0.1 -0.1)\">\r\n       <use xlink:href=\"#DejaVuSans-48\"/>\r\n      </g>\r\n     </g>\r\n    </g>\r\n    <g id=\"xtick_4\">\r\n     <g id=\"line2d_4\">\r\n      <g>\r\n       <use style=\"stroke:#000000;stroke-width:0.8;\" x=\"260.527918\" xlink:href=\"#m0774663876\" y=\"224.64\"/>\r\n      </g>\r\n     </g>\r\n     <g id=\"text_4\">\r\n      <!-- 2 -->\r\n      <g transform=\"translate(257.346668 239.238437)scale(0.1 -0.1)\">\r\n       <use xlink:href=\"#DejaVuSans-50\"/>\r\n      </g>\r\n     </g>\r\n    </g>\r\n    <g id=\"xtick_5\">\r\n     <g id=\"line2d_5\">\r\n      <g>\r\n       <use style=\"stroke:#000000;stroke-width:0.8;\" x=\"322.015522\" xlink:href=\"#m0774663876\" y=\"224.64\"/>\r\n      </g>\r\n     </g>\r\n     <g id=\"text_5\">\r\n      <!-- 4 -->\r\n      <g transform=\"translate(318.834272 239.238437)scale(0.1 -0.1)\">\r\n       <use xlink:href=\"#DejaVuSans-52\"/>\r\n      </g>\r\n     </g>\r\n    </g>\r\n   </g>\r\n   <g id=\"matplotlib.axis_2\">\r\n    <g id=\"ytick_1\">\r\n     <g id=\"line2d_6\">\r\n      <defs>\r\n       <path d=\"M 0 0 \r\nL -3.5 0 \r\n\" id=\"me3c981909a\" style=\"stroke:#000000;stroke-width:0.8;\"/>\r\n      </defs>\r\n      <g>\r\n       <use style=\"stroke:#000000;stroke-width:0.8;\" x=\"30.103125\" xlink:href=\"#me3c981909a\" y=\"206.52\"/>\r\n      </g>\r\n     </g>\r\n     <g id=\"text_6\">\r\n      <!-- 0.0 -->\r\n      <defs>\r\n       <path d=\"M 10.6875 12.40625 \r\nL 21 12.40625 \r\nL 21 0 \r\nL 10.6875 0 \r\nz\r\n\" id=\"DejaVuSans-46\"/>\r\n      </defs>\r\n      <g transform=\"translate(7.2 210.319219)scale(0.1 -0.1)\">\r\n       <use xlink:href=\"#DejaVuSans-48\"/>\r\n       <use x=\"63.623047\" xlink:href=\"#DejaVuSans-46\"/>\r\n       <use x=\"95.410156\" xlink:href=\"#DejaVuSans-48\"/>\r\n      </g>\r\n     </g>\r\n    </g>\r\n    <g id=\"ytick_2\">\r\n     <g id=\"line2d_7\">\r\n      <g>\r\n       <use style=\"stroke:#000000;stroke-width:0.8;\" x=\"30.103125\" xlink:href=\"#me3c981909a\" y=\"170.28\"/>\r\n      </g>\r\n     </g>\r\n     <g id=\"text_7\">\r\n      <!-- 0.2 -->\r\n      <g transform=\"translate(7.2 174.079219)scale(0.1 -0.1)\">\r\n       <use xlink:href=\"#DejaVuSans-48\"/>\r\n       <use x=\"63.623047\" xlink:href=\"#DejaVuSans-46\"/>\r\n       <use x=\"95.410156\" xlink:href=\"#DejaVuSans-50\"/>\r\n      </g>\r\n     </g>\r\n    </g>\r\n    <g id=\"ytick_3\">\r\n     <g id=\"line2d_8\">\r\n      <g>\r\n       <use style=\"stroke:#000000;stroke-width:0.8;\" x=\"30.103125\" xlink:href=\"#me3c981909a\" y=\"134.04\"/>\r\n      </g>\r\n     </g>\r\n     <g id=\"text_8\">\r\n      <!-- 0.4 -->\r\n      <g transform=\"translate(7.2 137.839219)scale(0.1 -0.1)\">\r\n       <use xlink:href=\"#DejaVuSans-48\"/>\r\n       <use x=\"63.623047\" xlink:href=\"#DejaVuSans-46\"/>\r\n       <use x=\"95.410156\" xlink:href=\"#DejaVuSans-52\"/>\r\n      </g>\r\n     </g>\r\n    </g>\r\n    <g id=\"ytick_4\">\r\n     <g id=\"line2d_9\">\r\n      <g>\r\n       <use style=\"stroke:#000000;stroke-width:0.8;\" x=\"30.103125\" xlink:href=\"#me3c981909a\" y=\"97.8\"/>\r\n      </g>\r\n     </g>\r\n     <g id=\"text_9\">\r\n      <!-- 0.6 -->\r\n      <defs>\r\n       <path d=\"M 33.015625 40.375 \r\nQ 26.375 40.375 22.484375 35.828125 \r\nQ 18.609375 31.296875 18.609375 23.390625 \r\nQ 18.609375 15.53125 22.484375 10.953125 \r\nQ 26.375 6.390625 33.015625 6.390625 \r\nQ 39.65625 6.390625 43.53125 10.953125 \r\nQ 47.40625 15.53125 47.40625 23.390625 \r\nQ 47.40625 31.296875 43.53125 35.828125 \r\nQ 39.65625 40.375 33.015625 40.375 \r\nz\r\nM 52.59375 71.296875 \r\nL 52.59375 62.3125 \r\nQ 48.875 64.0625 45.09375 64.984375 \r\nQ 41.3125 65.921875 37.59375 65.921875 \r\nQ 27.828125 65.921875 22.671875 59.328125 \r\nQ 17.53125 52.734375 16.796875 39.40625 \r\nQ 19.671875 43.65625 24.015625 45.921875 \r\nQ 28.375 48.1875 33.59375 48.1875 \r\nQ 44.578125 48.1875 50.953125 41.515625 \r\nQ 57.328125 34.859375 57.328125 23.390625 \r\nQ 57.328125 12.15625 50.6875 5.359375 \r\nQ 44.046875 -1.421875 33.015625 -1.421875 \r\nQ 20.359375 -1.421875 13.671875 8.265625 \r\nQ 6.984375 17.96875 6.984375 36.375 \r\nQ 6.984375 53.65625 15.1875 63.9375 \r\nQ 23.390625 74.21875 37.203125 74.21875 \r\nQ 40.921875 74.21875 44.703125 73.484375 \r\nQ 48.484375 72.75 52.59375 71.296875 \r\nz\r\n\" id=\"DejaVuSans-54\"/>\r\n      </defs>\r\n      <g transform=\"translate(7.2 101.599219)scale(0.1 -0.1)\">\r\n       <use xlink:href=\"#DejaVuSans-48\"/>\r\n       <use x=\"63.623047\" xlink:href=\"#DejaVuSans-46\"/>\r\n       <use x=\"95.410156\" xlink:href=\"#DejaVuSans-54\"/>\r\n      </g>\r\n     </g>\r\n    </g>\r\n    <g id=\"ytick_5\">\r\n     <g id=\"line2d_10\">\r\n      <g>\r\n       <use style=\"stroke:#000000;stroke-width:0.8;\" x=\"30.103125\" xlink:href=\"#me3c981909a\" y=\"61.56\"/>\r\n      </g>\r\n     </g>\r\n     <g id=\"text_10\">\r\n      <!-- 0.8 -->\r\n      <defs>\r\n       <path d=\"M 31.78125 34.625 \r\nQ 24.75 34.625 20.71875 30.859375 \r\nQ 16.703125 27.09375 16.703125 20.515625 \r\nQ 16.703125 13.921875 20.71875 10.15625 \r\nQ 24.75 6.390625 31.78125 6.390625 \r\nQ 38.8125 6.390625 42.859375 10.171875 \r\nQ 46.921875 13.96875 46.921875 20.515625 \r\nQ 46.921875 27.09375 42.890625 30.859375 \r\nQ 38.875 34.625 31.78125 34.625 \r\nz\r\nM 21.921875 38.8125 \r\nQ 15.578125 40.375 12.03125 44.71875 \r\nQ 8.5 49.078125 8.5 55.328125 \r\nQ 8.5 64.0625 14.71875 69.140625 \r\nQ 20.953125 74.21875 31.78125 74.21875 \r\nQ 42.671875 74.21875 48.875 69.140625 \r\nQ 55.078125 64.0625 55.078125 55.328125 \r\nQ 55.078125 49.078125 51.53125 44.71875 \r\nQ 48 40.375 41.703125 38.8125 \r\nQ 48.828125 37.15625 52.796875 32.3125 \r\nQ 56.78125 27.484375 56.78125 20.515625 \r\nQ 56.78125 9.90625 50.3125 4.234375 \r\nQ 43.84375 -1.421875 31.78125 -1.421875 \r\nQ 19.734375 -1.421875 13.25 4.234375 \r\nQ 6.78125 9.90625 6.78125 20.515625 \r\nQ 6.78125 27.484375 10.78125 32.3125 \r\nQ 14.796875 37.15625 21.921875 38.8125 \r\nz\r\nM 18.3125 54.390625 \r\nQ 18.3125 48.734375 21.84375 45.5625 \r\nQ 25.390625 42.390625 31.78125 42.390625 \r\nQ 38.140625 42.390625 41.71875 45.5625 \r\nQ 45.3125 48.734375 45.3125 54.390625 \r\nQ 45.3125 60.0625 41.71875 63.234375 \r\nQ 38.140625 66.40625 31.78125 66.40625 \r\nQ 25.390625 66.40625 21.84375 63.234375 \r\nQ 18.3125 60.0625 18.3125 54.390625 \r\nz\r\n\" id=\"DejaVuSans-56\"/>\r\n      </defs>\r\n      <g transform=\"translate(7.2 65.359219)scale(0.1 -0.1)\">\r\n       <use xlink:href=\"#DejaVuSans-48\"/>\r\n       <use x=\"63.623047\" xlink:href=\"#DejaVuSans-46\"/>\r\n       <use x=\"95.410156\" xlink:href=\"#DejaVuSans-56\"/>\r\n      </g>\r\n     </g>\r\n    </g>\r\n    <g id=\"ytick_6\">\r\n     <g id=\"line2d_11\">\r\n      <g>\r\n       <use style=\"stroke:#000000;stroke-width:0.8;\" x=\"30.103125\" xlink:href=\"#me3c981909a\" y=\"25.32\"/>\r\n      </g>\r\n     </g>\r\n     <g id=\"text_11\">\r\n      <!-- 1.0 -->\r\n      <defs>\r\n       <path d=\"M 12.40625 8.296875 \r\nL 28.515625 8.296875 \r\nL 28.515625 63.921875 \r\nL 10.984375 60.40625 \r\nL 10.984375 69.390625 \r\nL 28.421875 72.90625 \r\nL 38.28125 72.90625 \r\nL 38.28125 8.296875 \r\nL 54.390625 8.296875 \r\nL 54.390625 0 \r\nL 12.40625 0 \r\nz\r\n\" id=\"DejaVuSans-49\"/>\r\n      </defs>\r\n      <g transform=\"translate(7.2 29.119219)scale(0.1 -0.1)\">\r\n       <use xlink:href=\"#DejaVuSans-49\"/>\r\n       <use x=\"63.623047\" xlink:href=\"#DejaVuSans-46\"/>\r\n       <use x=\"95.410156\" xlink:href=\"#DejaVuSans-48\"/>\r\n      </g>\r\n     </g>\r\n    </g>\r\n   </g>\r\n   <g id=\"line2d_12\">\r\n    <path clip-path=\"url(#p05ea18423a)\" d=\"M 45.321307 206.52 \r\nL 48.395687 206.52 \r\nL 51.470067 206.52 \r\nL 54.544447 206.52 \r\nL 57.618827 206.52 \r\nL 60.693208 206.52 \r\nL 63.767588 206.52 \r\nL 66.841968 206.52 \r\nL 69.916348 206.52 \r\nL 72.990728 206.52 \r\nL 76.065108 206.52 \r\nL 79.139489 206.52 \r\nL 82.213869 206.52 \r\nL 85.288249 206.52 \r\nL 88.362629 206.52 \r\nL 91.437009 206.52 \r\nL 94.511389 206.52 \r\nL 97.58577 206.52 \r\nL 100.66015 206.52 \r\nL 103.73453 206.52 \r\nL 106.80891 206.52 \r\nL 109.88329 206.52 \r\nL 112.95767 206.52 \r\nL 116.032051 206.52 \r\nL 119.106431 206.52 \r\nL 122.180811 206.52 \r\nL 125.255191 206.52 \r\nL 128.329571 206.52 \r\nL 131.403951 206.52 \r\nL 134.478332 206.52 \r\nL 137.552712 206.52 \r\nL 140.627092 206.52 \r\nL 143.701472 206.52 \r\nL 146.775852 206.52 \r\nL 149.850232 206.52 \r\nL 152.924613 206.52 \r\nL 155.998993 206.52 \r\nL 159.073373 206.52 \r\nL 162.147753 206.52 \r\nL 165.222133 206.52 \r\nL 168.296513 206.52 \r\nL 171.370894 206.52 \r\nL 174.445274 206.52 \r\nL 177.519654 206.52 \r\nL 180.594034 206.52 \r\nL 183.668414 206.52 \r\nL 186.742794 206.52 \r\nL 189.817175 206.52 \r\nL 192.891555 206.52 \r\nL 195.965935 206.52 \r\nL 199.040315 206.52 \r\nL 202.114695 25.32 \r\nL 205.189075 25.32 \r\nL 208.263456 25.32 \r\nL 211.337836 25.32 \r\nL 214.412216 25.32 \r\nL 217.486596 25.32 \r\nL 220.560976 25.32 \r\nL 223.635356 25.32 \r\nL 226.709737 25.32 \r\nL 229.784117 25.32 \r\nL 232.858497 25.32 \r\nL 235.932877 25.32 \r\nL 239.007257 25.32 \r\nL 242.081637 25.32 \r\nL 245.156018 25.32 \r\nL 248.230398 25.32 \r\nL 251.304778 25.32 \r\nL 254.379158 25.32 \r\nL 257.453538 25.32 \r\nL 260.527918 25.32 \r\nL 263.602299 25.32 \r\nL 266.676679 25.32 \r\nL 269.751059 25.32 \r\nL 272.825439 25.32 \r\nL 275.899819 25.32 \r\nL 278.974199 25.32 \r\nL 282.04858 25.32 \r\nL 285.12296 25.32 \r\nL 288.19734 25.32 \r\nL 291.27172 25.32 \r\nL 294.3461 25.32 \r\nL 297.42048 25.32 \r\nL 300.494861 25.32 \r\nL 303.569241 25.32 \r\nL 306.643621 25.32 \r\nL 309.718001 25.32 \r\nL 312.792381 25.32 \r\nL 315.866761 25.32 \r\nL 318.941142 25.32 \r\nL 322.015522 25.32 \r\nL 325.089902 25.32 \r\nL 328.164282 25.32 \r\nL 331.238662 25.32 \r\nL 334.313042 25.32 \r\nL 337.387423 25.32 \r\nL 340.461803 25.32 \r\nL 343.536183 25.32 \r\nL 346.610563 25.32 \r\nL 349.684943 25.32 \r\n\" style=\"fill:none;stroke:#1f77b4;stroke-linecap:square;stroke-width:1.5;\"/>\r\n   </g>\r\n   <g id=\"patch_3\">\r\n    <path d=\"M 30.103125 224.64 \r\nL 30.103125 7.2 \r\n\" style=\"fill:none;stroke:#000000;stroke-linecap:square;stroke-linejoin:miter;stroke-width:0.8;\"/>\r\n   </g>\r\n   <g id=\"patch_4\">\r\n    <path d=\"M 364.903125 224.64 \r\nL 364.903125 7.2 \r\n\" style=\"fill:none;stroke:#000000;stroke-linecap:square;stroke-linejoin:miter;stroke-width:0.8;\"/>\r\n   </g>\r\n   <g id=\"patch_5\">\r\n    <path d=\"M 30.103125 224.64 \r\nL 364.903125 224.64 \r\n\" style=\"fill:none;stroke:#000000;stroke-linecap:square;stroke-linejoin:miter;stroke-width:0.8;\"/>\r\n   </g>\r\n   <g id=\"patch_6\">\r\n    <path d=\"M 30.103125 7.2 \r\nL 364.903125 7.2 \r\n\" style=\"fill:none;stroke:#000000;stroke-linecap:square;stroke-linejoin:miter;stroke-width:0.8;\"/>\r\n   </g>\r\n  </g>\r\n </g>\r\n <defs>\r\n  <clipPath id=\"p05ea18423a\">\r\n   <rect height=\"217.44\" width=\"334.8\" x=\"30.103125\" y=\"7.2\"/>\r\n  </clipPath>\r\n </defs>\r\n</svg>\r\n",
      "image/png": "[encoded data removed]"
     },
     "metadata": {
      "needs_background": "light"
     }
    }
   ],
   "source": [
    "import matplotlib.pylab as plt\n",
    "x = np.array([-1, 0, 1, 2, 3])\n",
    "y = step_function(x)\n",
    "\n",
    "x = np.arange(-5, 5, 0.1)\n",
    "y = step_function(x)\n",
    "plt.plot(x, y)\n",
    "plt.ylim(-0.1, 1.1)"
   ]
  },
  {
   "cell_type": "code",
   "execution_count": 27,
   "metadata": {},
   "outputs": [
    {
     "output_type": "stream",
     "name": "stdout",
     "text": [
      "[1 2]\n"
     ]
    }
   ],
   "source": [
    "X = np.array([1, 2])\n",
    "X.shape\n",
    "print(X)"
   ]
  },
  {
   "cell_type": "code",
   "execution_count": 28,
   "metadata": {},
   "outputs": [
    {
     "output_type": "stream",
     "name": "stdout",
     "text": [
      "[[1 3 5]\n [2 4 6]]\n"
     ]
    },
    {
     "output_type": "execute_result",
     "data": {
      "text/plain": [
       "(2, 3)"
      ]
     },
     "metadata": {},
     "execution_count": 28
    }
   ],
   "source": [
    "W = np.array([[1, 3, 5], [2, 4, 6]])\n",
    "print(W)\n",
    "W.shape"
   ]
  },
  {
   "cell_type": "code",
   "execution_count": 29,
   "metadata": {},
   "outputs": [
    {
     "output_type": "execute_result",
     "data": {
      "text/plain": [
       "array([ 5, 11, 17])"
      ]
     },
     "metadata": {},
     "execution_count": 29
    }
   ],
   "source": [
    "np.dot(X, W)\n"
   ]
  },
  {
   "cell_type": "code",
   "execution_count": 30,
   "metadata": {},
   "outputs": [],
   "source": [
    "def init_network():\n",
    "    network = {}\n",
    "    network['W1'] = np.array([[0.1, 0.3, 0.5], [0.2, 0.4, 0.6]]) \n",
    "    network['b1'] = np.array([0.1, 0.2, 0.3])\n",
    "    network['W2'] = np.array([[0.1, 0.4], [0.2, 0.5], [0.3, 0.6]])\n",
    "    network['b2'] = np.array([0.1, 0.2])\n",
    "    network['W3'] = np.array([[0.1, 0.3], [0.2, 0.4]])\n",
    "    network['b3'] = np.array([0.1, 0.2])\n",
    "    return network\n"
   ]
  },
  {
   "cell_type": "code",
   "execution_count": 31,
   "metadata": {},
   "outputs": [],
   "source": [
    "def sigmoid(x):\n",
    "    return 1 / (1 + np.exp(-x))"
   ]
  },
  {
   "cell_type": "code",
   "execution_count": 32,
   "metadata": {},
   "outputs": [],
   "source": [
    "def identify_function(x):\n",
    "    return x"
   ]
  },
  {
   "cell_type": "code",
   "execution_count": 33,
   "metadata": {},
   "outputs": [],
   "source": [
    "def forward(network, x):\n",
    "    A1 = np.dot(x, network['W1']) + network['b1']\n",
    "    Z1 = sigmoid(A1)\n",
    "    A2 = np.dot(Z1, network['W2']) + network['b2']\n",
    "    Z2 = sigmoid(A2)\n",
    "    A3 = np.dot(Z2, network['W3']) + network['b3']\n",
    "    Z3 = identify_function(A3)\n",
    "\n",
    "    return Z3\n",
    "    "
   ]
  },
  {
   "cell_type": "code",
   "execution_count": 42,
   "metadata": {},
   "outputs": [
    {
     "output_type": "stream",
     "name": "stdout",
     "text": [
      "(2,)\n[0.31682708 0.69627909]\n"
     ]
    }
   ],
   "source": [
    "x = np.array([1.0, 0.5])\n",
    "print(x.shape)\n",
    "network = init_network()\n",
    "print(network['W1'].shape)\n",
    "y = forward(network, x)\n",
    "print(y)"
   ]
  },
  {
   "cell_type": "code",
   "execution_count": 41,
   "metadata": {},
   "outputs": [
    {
     "output_type": "stream",
     "name": "stdout",
     "text": [
      "(200, 1)\n"
     ]
    }
   ],
   "source": [
    "print(x.shape)"
   ]
  },
  {
   "cell_type": "code",
   "execution_count": 35,
   "metadata": {},
   "outputs": [],
   "source": [
    "def softmax(a):\n",
    "    return np.exp(a - np.max(a)) / np.sum(np.exp(a - np.max(a)))"
   ]
  },
  {
   "cell_type": "code",
   "execution_count": 36,
   "metadata": {},
   "outputs": [
    {
     "output_type": "execute_result",
     "data": {
      "text/plain": [
       "array([1.23353201e-04, 3.35308764e-04, 9.99541338e-01])"
      ]
     },
     "metadata": {},
     "execution_count": 36
    }
   ],
   "source": [
    "a = np.array([1, 2, 10])\n",
    "softmax(a)"
   ]
  },
  {
   "cell_type": "code",
   "execution_count": 40,
   "metadata": {},
   "outputs": [
    {
     "output_type": "stream",
     "name": "stdout",
     "text": [
      "(200, 1)\n(200, 100)\n"
     ]
    }
   ],
   "source": [
    "print(x.shape)\n",
    "print(y.shape)"
   ]
  },
  {
   "cell_type": "code",
   "execution_count": 37,
   "metadata": {},
   "outputs": [],
   "source": [
    "import tsensor"
   ]
  },
  {
   "cell_type": "code",
   "execution_count": 38,
   "metadata": {},
   "outputs": [
    {
     "output_type": "display_data",
     "data": {
      "text/plain": "<IPython.core.display.SVG object>",
      "image/svg+xml": "<svg height=\"45.589466pt\" version=\"1.1\" viewBox=\"0 0 142.68645 45.589466\" width=\"142.68645pt\" xmlns=\"http://www.w3.org/2000/svg\" xmlns:xlink=\"http://www.w3.org/1999/xlink\">\n <defs>\n  <style type=\"text/css\">\n*{stroke-linecap:butt;stroke-linejoin:round;}\n  </style>\n </defs>\n <g id=\"figure_1\">\n  <g id=\"patch_1\">\n   <path d=\"M 0 45.589466  L 142.68645 45.589466  L 142.68645 0  L 0 0  z \" style=\"fill:#ffffff;\"/>\n  </g>\n  <g id=\"axes_1\">\n   <g id=\"patch_2\">\n    <path clip-path=\"url(#pfa37732a08)\" d=\"M 8.230781 44.774066  L 31.080881 44.774066  L 31.080881 22.513646  L 8.230781 22.513646  z \" style=\"fill:#cfe2d4;stroke:#808080;stroke-linejoin:miter;stroke-width:0.7;\"/>\n   </g>\n   <g id=\"patch_3\">\n    <path clip-path=\"url(#pfa37732a08)\" d=\"M 50.666681 44.774066  L 73.516781 44.774066  L 73.516781 22.513646  L 50.666681 22.513646  z \" style=\"fill:#cfe2d4;stroke:#808080;stroke-linejoin:miter;stroke-width:0.7;\"/>\n   </g>\n   <g id=\"patch_4\">\n    <path clip-path=\"url(#pfa37732a08)\" d=\"M 93.102581 44.774066  L 115.952681 44.774066  L 115.952681 22.513646  L 93.102581 22.513646  z \" style=\"fill:#cfe2d4;stroke:#808080;stroke-linejoin:miter;stroke-width:0.7;\"/>\n   </g>\n   <g id=\"patch_5\">\n    <path clip-path=\"url(#pfa37732a08)\" d=\"M 136.191341 44.774066  L 141.414221 44.774066  L 141.414221 22.513646  L 136.191341 22.513646  z \" style=\"fill:#cfe2d4;stroke:#808080;stroke-linejoin:miter;stroke-width:0.7;\"/>\n   </g>\n   <g id=\"line2d_1\">\n    <path clip-path=\"url(#pfa37732a08)\" d=\"M 15.738671 12.786403  L 23.572991 12.786403  \" style=\"fill:none;stroke:#c2c2c2;stroke-linecap:square;stroke-width:0.5;\"/>\n   </g>\n   <g id=\"line2d_2\">\n    <path clip-path=\"url(#pfa37732a08)\" d=\"M 58.174571 12.786403  L 66.008891 12.786403  \" style=\"fill:none;stroke:#c2c2c2;stroke-linecap:square;stroke-width:0.5;\"/>\n   </g>\n   <g id=\"line2d_3\">\n    <path clip-path=\"url(#pfa37732a08)\" d=\"M 100.610471 12.786403  L 108.444791 12.786403  \" style=\"fill:none;stroke:#c2c2c2;stroke-linecap:square;stroke-width:0.5;\"/>\n   </g>\n   <g id=\"line2d_4\">\n    <path clip-path=\"url(#pfa37732a08)\" d=\"M 134.885621 12.786403  L 142.719941 12.786403  \" style=\"fill:none;stroke:#c2c2c2;stroke-linecap:square;stroke-width:0.5;\"/>\n   </g>\n   <g id=\"text_1\">\n    <!-- y -->\n    <defs>\n     <path d=\"M 51.421875 49.03125  L 34.71875 5.171875  Q 32.125 -1.515625 29.359375 -6.34375  Q 26.609375 -11.1875 23.328125 -14.28125  Q 20.0625 -17.390625 16.15625 -18.84375  Q 12.25 -20.3125 7.421875 -20.3125  Q 6.15625 -20.3125 5.125 -20.265625  Q 4.109375 -20.21875 2.875 -20.125  L 2.875 -12.40625  Q 3.953125 -12.546875 5.21875 -12.671875  Q 6.5 -12.796875 7.90625 -12.796875  Q 10.25 -12.796875 12.28125 -12.109375  Q 14.3125 -11.421875 16.109375 -9.875  Q 17.921875 -8.34375 19.578125 -5.90625  Q 21.234375 -3.46875 22.796875 0  L 3.21875 49.03125  L 12.890625 49.03125  L 25.296875 16.609375  L 27.78125 8.984375  L 30.609375 16.796875  L 42.09375 49.03125  z \" id=\"Consolas-121\"/>\n    </defs>\n    <g style=\"fill:#444443;\" transform=\"translate(16.391531 9.045156)scale(0.13 -0.13)\">\n     <use xlink:href=\"#Consolas-121\"/>\n    </g>\n   </g>\n   <g id=\"text_2\">\n    <!--   -->\n    <defs>\n     <path id=\"Consolas-32\"/>\n    </defs>\n    <g style=\"fill:#444443;\" transform=\"translate(31.080881 9.045156)scale(0.13 -0.13)\">\n     <use xlink:href=\"#Consolas-32\"/>\n    </g>\n   </g>\n   <g id=\"text_3\">\n    <!-- = -->\n    <defs>\n     <path d=\"M 48.484375 31.546875  L 6.5 31.546875  L 6.5 38.71875  L 48.484375 38.71875  z M 48.484375 14.546875  L 6.5 14.546875  L 6.5 21.734375  L 48.484375 21.734375  z \" id=\"Consolas-61\"/>\n    </defs>\n    <g style=\"fill:#444443;\" transform=\"translate(37.609481 9.045156)scale(0.13 -0.13)\">\n     <use xlink:href=\"#Consolas-61\"/>\n    </g>\n   </g>\n   <g id=\"text_4\">\n    <!--   -->\n    <g style=\"fill:#444443;\" transform=\"translate(44.138081 9.045156)scale(0.13 -0.13)\">\n     <use xlink:href=\"#Consolas-32\"/>\n    </g>\n   </g>\n   <g id=\"text_5\">\n    <!-- w -->\n    <defs>\n     <path d=\"M 53.21875 49.03125  L 46.09375 0  L 35.796875 0  L 28.71875 20.515625  L 27.296875 25.484375  L 25.6875 20.21875  L 18.890625 0  L 8.890625 0  L 1.8125 49.03125  L 10.109375 49.03125  L 14.203125 15.71875  L 15.09375 8.296875  L 17.1875 14.796875  L 24.3125 36.8125  L 30.421875 36.8125  L 38.09375 15.09375  L 40.28125 8.59375  L 41.015625 15.484375  L 44.828125 49.03125  z \" id=\"Consolas-119\"/>\n    </defs>\n    <g style=\"fill:#444443;\" transform=\"translate(58.827431 9.045156)scale(0.13 -0.13)\">\n     <use xlink:href=\"#Consolas-119\"/>\n    </g>\n   </g>\n   <g id=\"text_6\">\n    <!--   -->\n    <g style=\"fill:#444443;\" transform=\"translate(73.516781 9.045156)scale(0.13 -0.13)\">\n     <use xlink:href=\"#Consolas-32\"/>\n    </g>\n   </g>\n   <g id=\"text_7\">\n    <!-- @ -->\n    <defs>\n     <path d=\"M 38.09375 19.921875  Q 37.640625 16.796875 37.59375 14.75  Q 37.546875 12.703125 37.859375 11.53125  Q 38.1875 10.359375 38.859375 9.890625  Q 39.546875 9.421875 40.578125 9.421875  Q 41.9375 9.421875 43.15625 10.859375  Q 44.390625 12.3125 45.34375 15.3125  Q 46.296875 18.3125 46.84375 22.890625  Q 47.40625 27.484375 47.40625 33.796875  Q 47.40625 40.828125 46.53125 46.34375  Q 45.65625 51.859375 43.75 55.71875  Q 41.84375 59.578125 38.796875 61.59375  Q 35.75 63.625 31.390625 63.625  Q 28.078125 63.625 24.96875 61.9375  Q 21.875 60.25 19.203125 57.203125  Q 16.546875 54.15625 14.375 49.875  Q 12.203125 45.609375 10.65625 40.421875  Q 9.125 35.25 8.265625 29.296875  Q 7.421875 23.34375 7.421875 16.890625  Q 7.421875 1.171875 12.15625 -6.5625  Q 16.890625 -14.3125 25.484375 -14.3125  Q 29.828125 -14.3125 33.59375 -13.3125  Q 37.359375 -12.3125 41.40625 -10.296875  L 41.40625 -16.609375  Q 37.40625 -18.453125 33.390625 -19.375  Q 29.390625 -20.3125 25 -20.3125  Q 12.546875 -20.3125 6.5625 -10.984375  Q 0.59375 -1.65625 0.484375 16.796875  Q 0.4375 24.171875 1.453125 30.9375  Q 2.484375 37.703125 4.40625 43.5625  Q 6.34375 49.421875 9.09375 54.21875  Q 11.859375 59.03125 15.34375 62.421875  Q 18.84375 65.828125 22.9375 67.703125  Q 27.046875 69.578125 31.6875 69.578125  Q 37.5 69.578125 41.765625 67.203125  Q 46.046875 64.84375 48.828125 60.375  Q 51.609375 55.90625 52.953125 49.40625  Q 54.296875 42.921875 54.296875 34.625  Q 54.25 26.21875 53.203125 20.234375  Q 52.15625 14.265625 50.25 10.453125  Q 48.34375 6.640625 45.625 4.859375  Q 42.921875 3.078125 39.59375 3.078125  Q 35.796875 3.078125 33.9375 5.03125  Q 32.078125 6.984375 32.078125 10.296875  Q 30.21875 6.546875 28.0625 4.8125  Q 25.921875 3.078125 22.90625 3.078125  Q 18.3125 3.078125 16.015625 6.515625  Q 13.71875 9.96875 13.71875 17.390625  Q 13.71875 20.0625 14.03125 23.140625  Q 14.359375 26.21875 15.109375 29.3125  Q 15.875 32.421875 17.09375 35.28125  Q 18.3125 38.140625 20.09375 40.3125  Q 21.875 42.484375 24.3125 43.796875  Q 26.765625 45.125 29.890625 45.125  Q 31.734375 45.125 33.34375 44.671875  Q 34.96875 44.234375 35.6875 43.796875  L 42 45.3125  z M 33.109375 37.3125  Q 32.671875 37.890625 31.765625 38.34375  Q 30.859375 38.8125 29.5 38.8125  Q 28.03125 38.8125 26.859375 37.78125  Q 25.6875 36.765625 24.78125 35.046875  Q 23.875 33.34375 23.265625 31.171875  Q 22.65625 29 22.234375 26.703125  Q 21.828125 24.421875 21.65625 22.1875  Q 21.484375 19.96875 21.484375 18.21875  Q 21.484375 13.53125 22.0625 11.46875  Q 22.65625 9.421875 24.3125 9.421875  Q 24.90625 9.421875 25.484375 9.65625  Q 26.078125 9.90625 26.734375 10.609375  Q 27.390625 11.328125 28.171875 12.59375  Q 28.953125 13.875 29.890625 15.921875  z \" id=\"Consolas-64\"/>\n    </defs>\n    <g style=\"fill:#444443;\" transform=\"translate(80.045381 9.045156)scale(0.13 -0.13)\">\n     <use xlink:href=\"#Consolas-64\"/>\n    </g>\n   </g>\n   <g id=\"text_8\">\n    <!--   -->\n    <g style=\"fill:#444443;\" transform=\"translate(86.573981 9.045156)scale(0.13 -0.13)\">\n     <use xlink:href=\"#Consolas-32\"/>\n    </g>\n   </g>\n   <g id=\"text_9\">\n    <!-- z -->\n    <defs>\n     <path d=\"M 47.515625 0  L 8.015625 0  L 8.015625 6.109375  L 35.6875 41.890625  L 8.6875 41.890625  L 8.6875 49.03125  L 45.90625 49.03125  L 45.90625 42.390625  L 18.703125 7.171875  L 47.515625 7.171875  z \" id=\"Consolas-122\"/>\n    </defs>\n    <g style=\"fill:#444443;\" transform=\"translate(101.263331 9.045156)scale(0.13 -0.13)\">\n     <use xlink:href=\"#Consolas-122\"/>\n    </g>\n   </g>\n   <g id=\"text_10\">\n    <!--   -->\n    <g style=\"fill:#444443;\" transform=\"translate(115.952681 9.045156)scale(0.13 -0.13)\">\n     <use xlink:href=\"#Consolas-32\"/>\n    </g>\n   </g>\n   <g id=\"text_11\">\n    <!-- + -->\n    <defs>\n     <path d=\"M 50.875 22.90625  L 31.6875 22.90625  L 31.6875 2.984375  L 23.296875 2.984375  L 23.296875 22.90625  L 4.109375 22.90625  L 4.109375 30.328125  L 23.296875 30.328125  L 23.296875 50.09375  L 31.6875 50.09375  L 31.6875 30.328125  L 50.875 30.328125  z \" id=\"Consolas-43\"/>\n    </defs>\n    <g style=\"fill:#444443;\" transform=\"translate(122.481281 9.045156)scale(0.13 -0.13)\">\n     <use xlink:href=\"#Consolas-43\"/>\n    </g>\n   </g>\n   <g id=\"text_12\">\n    <!--   -->\n    <g style=\"fill:#444443;\" transform=\"translate(129.009881 9.045156)scale(0.13 -0.13)\">\n     <use xlink:href=\"#Consolas-32\"/>\n    </g>\n   </g>\n   <g id=\"text_13\">\n    <!-- x -->\n    <defs>\n     <path d=\"M 52 0  L 40.71875 0  L 27.484375 18.703125  L 14.40625 0  L 3.421875 0  L 22.40625 24.609375  L 4.296875 49.03125  L 15.1875 49.03125  L 28.078125 30.171875  L 40.71875 49.03125  L 51.21875 49.03125  L 32.8125 24.421875  z \" id=\"Consolas-120\"/>\n    </defs>\n    <g style=\"fill:#444443;\" transform=\"translate(135.538481 9.045156)scale(0.13 -0.13)\">\n     <use xlink:href=\"#Consolas-120\"/>\n    </g>\n   </g>\n   <g id=\"text_14\">\n    <!-- 200 -->\n    <defs>\n     <path d=\"M 50.34375 8.453125  L 50.34375 0  L 3.03125 0  Q 2.9375 3.171875 4.046875 6.109375  Q 5.859375 10.9375 9.828125 15.625  Q 13.8125 20.3125 21.34375 26.46875  Q 33.015625 36.03125 37.109375 41.625  Q 41.21875 47.21875 41.21875 52.203125  Q 41.21875 57.421875 37.46875 61  Q 33.734375 64.59375 27.734375 64.59375  Q 21.390625 64.59375 17.578125 60.78125  Q 13.765625 56.984375 13.71875 50.25  L 4.6875 51.171875  Q 5.609375 61.28125 11.65625 66.578125  Q 17.71875 71.875 27.9375 71.875  Q 38.234375 71.875 44.234375 66.15625  Q 50.25 60.453125 50.25 52  Q 50.25 47.703125 48.484375 43.546875  Q 46.734375 39.40625 42.65625 34.8125  Q 38.578125 30.21875 29.109375 22.21875  Q 21.1875 15.578125 18.9375 13.203125  Q 16.703125 10.84375 15.234375 8.453125  z \" id=\"ArialMT-50\"/>\n     <path d=\"M 4.15625 35.296875  Q 4.15625 48 6.765625 55.734375  Q 9.375 63.484375 14.515625 67.671875  Q 19.671875 71.875 27.484375 71.875  Q 33.25 71.875 37.59375 69.546875  Q 41.9375 67.234375 44.765625 62.859375  Q 47.609375 58.5 49.21875 52.21875  Q 50.828125 45.953125 50.828125 35.296875  Q 50.828125 22.703125 48.234375 14.96875  Q 45.65625 7.234375 40.5 3  Q 35.359375 -1.21875 27.484375 -1.21875  Q 17.140625 -1.21875 11.234375 6.203125  Q 4.15625 15.140625 4.15625 35.296875  z M 13.1875 35.296875  Q 13.1875 17.671875 17.3125 11.828125  Q 21.4375 6 27.484375 6  Q 33.546875 6 37.671875 11.859375  Q 41.796875 17.71875 41.796875 35.296875  Q 41.796875 52.984375 37.671875 58.78125  Q 33.546875 64.59375 27.390625 64.59375  Q 21.34375 64.59375 17.71875 59.46875  Q 13.1875 52.9375 13.1875 35.296875  z \" id=\"ArialMT-48\"/>\n    </defs>\n    <g transform=\"translate(6.442031 41.151121)rotate(-90)scale(0.09 -0.09)\">\n     <use xlink:href=\"#ArialMT-50\"/>\n     <use x=\"55.615234\" xlink:href=\"#ArialMT-48\"/>\n     <use x=\"111.230469\" xlink:href=\"#ArialMT-48\"/>\n    </g>\n   </g>\n   <g id=\"text_15\">\n    <!-- 100 -->\n    <defs>\n     <path d=\"M 37.25 0  L 28.46875 0  L 28.46875 56  Q 25.296875 52.984375 20.140625 49.953125  Q 14.984375 46.921875 10.890625 45.40625  L 10.890625 53.90625  Q 18.265625 57.375 23.78125 62.296875  Q 29.296875 67.234375 31.59375 71.875  L 37.25 71.875  z \" id=\"ArialMT-49\"/>\n    </defs>\n    <g transform=\"translate(12.148566 21.154646)scale(0.09 -0.09)\">\n     <use xlink:href=\"#ArialMT-49\"/>\n     <use x=\"55.615234\" xlink:href=\"#ArialMT-48\"/>\n     <use x=\"111.230469\" xlink:href=\"#ArialMT-48\"/>\n    </g>\n   </g>\n   <g id=\"text_16\">\n    <!-- 200 -->\n    <g transform=\"translate(48.877931 41.151121)rotate(-90)scale(0.09 -0.09)\">\n     <use xlink:href=\"#ArialMT-50\"/>\n     <use x=\"55.615234\" xlink:href=\"#ArialMT-48\"/>\n     <use x=\"111.230469\" xlink:href=\"#ArialMT-48\"/>\n    </g>\n   </g>\n   <g id=\"text_17\">\n    <!-- 764 -->\n    <defs>\n     <path d=\"M 4.734375 62.203125  L 4.734375 70.65625  L 51.078125 70.65625  L 51.078125 63.8125  Q 44.234375 56.546875 37.515625 44.484375  Q 30.8125 32.421875 27.15625 19.671875  Q 24.515625 10.6875 23.78125 0  L 14.75 0  Q 14.890625 8.453125 18.0625 20.40625  Q 21.234375 32.375 27.171875 43.484375  Q 33.109375 54.59375 39.796875 62.203125  z \" id=\"ArialMT-55\"/>\n     <path d=\"M 49.75 54.046875  L 41.015625 53.375  Q 39.84375 58.546875 37.703125 60.890625  Q 34.125 64.65625 28.90625 64.65625  Q 24.703125 64.65625 21.53125 62.3125  Q 17.390625 59.28125 14.984375 53.46875  Q 12.59375 47.65625 12.5 36.921875  Q 15.671875 41.75 20.265625 44.09375  Q 24.859375 46.4375 29.890625 46.4375  Q 38.671875 46.4375 44.84375 39.96875  Q 51.03125 33.5 51.03125 23.25  Q 51.03125 16.5 48.125 10.71875  Q 45.21875 4.9375 40.140625 1.859375  Q 35.0625 -1.21875 28.609375 -1.21875  Q 17.625 -1.21875 10.6875 6.859375  Q 3.765625 14.9375 3.765625 33.5  Q 3.765625 54.25 11.421875 63.671875  Q 18.109375 71.875 29.4375 71.875  Q 37.890625 71.875 43.28125 67.140625  Q 48.6875 62.40625 49.75 54.046875  z M 13.875 23.1875  Q 13.875 18.65625 15.796875 14.5  Q 17.71875 10.359375 21.1875 8.171875  Q 24.65625 6 28.46875 6  Q 34.03125 6 38.03125 10.484375  Q 42.046875 14.984375 42.046875 22.703125  Q 42.046875 30.125 38.078125 34.390625  Q 34.125 38.671875 28.125 38.671875  Q 22.171875 38.671875 18.015625 34.390625  Q 13.875 30.125 13.875 23.1875  z \" id=\"ArialMT-54\"/>\n     <path d=\"M 32.328125 0  L 32.328125 17.140625  L 1.265625 17.140625  L 1.265625 25.203125  L 33.9375 71.578125  L 41.109375 71.578125  L 41.109375 25.203125  L 50.78125 25.203125  L 50.78125 17.140625  L 41.109375 17.140625  L 41.109375 0  z M 32.328125 25.203125  L 32.328125 57.46875  L 9.90625 25.203125  z \" id=\"ArialMT-52\"/>\n    </defs>\n    <g transform=\"translate(54.584466 21.154646)scale(0.09 -0.09)\">\n     <use xlink:href=\"#ArialMT-55\"/>\n     <use x=\"55.615234\" xlink:href=\"#ArialMT-54\"/>\n     <use x=\"111.230469\" xlink:href=\"#ArialMT-52\"/>\n    </g>\n   </g>\n   <g id=\"text_18\">\n    <!-- 764 -->\n    <g transform=\"translate(91.313831 41.151121)rotate(-90)scale(0.09 -0.09)\">\n     <use xlink:href=\"#ArialMT-55\"/>\n     <use x=\"55.615234\" xlink:href=\"#ArialMT-54\"/>\n     <use x=\"111.230469\" xlink:href=\"#ArialMT-52\"/>\n    </g>\n   </g>\n   <g id=\"text_19\">\n    <!-- 100 -->\n    <g transform=\"translate(97.020366 21.154646)scale(0.09 -0.09)\">\n     <use xlink:href=\"#ArialMT-49\"/>\n     <use x=\"55.615234\" xlink:href=\"#ArialMT-48\"/>\n     <use x=\"111.230469\" xlink:href=\"#ArialMT-48\"/>\n    </g>\n   </g>\n   <g id=\"text_20\">\n    <!-- 200 -->\n    <g transform=\"translate(134.402591 41.151121)rotate(-90)scale(0.09 -0.09)\">\n     <use xlink:href=\"#ArialMT-50\"/>\n     <use x=\"55.615234\" xlink:href=\"#ArialMT-48\"/>\n     <use x=\"111.230469\" xlink:href=\"#ArialMT-48\"/>\n    </g>\n   </g>\n   <g id=\"text_21\">\n    <!-- 1 -->\n    <g transform=\"translate(136.300359 21.154646)scale(0.09 -0.09)\">\n     <use xlink:href=\"#ArialMT-49\"/>\n    </g>\n   </g>\n  </g>\n </g>\n <defs>\n  <clipPath id=\"pfa37732a08\">\n   <rect height=\"41.491069\" width=\"140.8113\" x=\"1.255781\" y=\"4.098396\"/>\n  </clipPath>\n </defs>\n</svg>"
     },
     "metadata": {}
    }
   ],
   "source": [
    "w = np.random.rand(200, 764)\n",
    "z = np.random.rand(764, 100)\n",
    "x = np.random.rand(200, 1)\n",
    "\n",
    "with tsensor.explain(): \n",
    "    y = w @ z + x"
   ]
  },
  {
   "cell_type": "code",
   "execution_count": 1,
   "metadata": {},
   "outputs": [],
   "source": [
    "from dataset import mnist"
   ]
  },
  {
   "cell_type": "code",
   "execution_count": null,
   "metadata": {},
   "outputs": [],
   "source": []
  }
 ]
}