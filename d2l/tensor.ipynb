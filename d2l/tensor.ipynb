{
 "metadata": {
  "language_info": {
   "codemirror_mode": {
    "name": "ipython",
    "version": 3
   },
   "file_extension": ".py",
   "mimetype": "text/x-python",
   "name": "python",
   "nbconvert_exporter": "python",
   "pygments_lexer": "ipython3",
   "version": "3.7.10-final"
  },
  "orig_nbformat": 2,
  "kernelspec": {
   "name": "python3",
   "display_name": "Python 3.7.10 64-bit ('venv': conda)",
   "metadata": {
    "interpreter": {
     "hash": "2b4894a7a9bda35182548179f194e83d4f184c930c8cee31214dcbbb1860267d"
    }
   }
  }
 },
 "nbformat": 4,
 "nbformat_minor": 2,
 "cells": [
  {
   "cell_type": "code",
   "execution_count": 1,
   "metadata": {},
   "outputs": [],
   "source": [
    "import torch\n"
   ]
  },
  {
   "cell_type": "code",
   "execution_count": 3,
   "metadata": {},
   "outputs": [],
   "source": [
    "a = torch.ones(5)"
   ]
  },
  {
   "cell_type": "code",
   "execution_count": 4,
   "metadata": {},
   "outputs": [
    {
     "output_type": "execute_result",
     "data": {
      "text/plain": [
       "tensor([1., 1., 1., 1., 1.])"
      ]
     },
     "metadata": {},
     "execution_count": 4
    }
   ],
   "source": [
    "a\n"
   ]
  },
  {
   "cell_type": "code",
   "execution_count": 5,
   "metadata": {},
   "outputs": [
    {
     "output_type": "execute_result",
     "data": {
      "text/plain": [
       "5"
      ]
     },
     "metadata": {},
     "execution_count": 5
    }
   ],
   "source": [
    "a.numel()"
   ]
  },
  {
   "cell_type": "code",
   "execution_count": 6,
   "metadata": {},
   "outputs": [],
   "source": [
    "import numpy as np\n",
    "n = np.array([1, 2, 3, 4, 5])"
   ]
  },
  {
   "cell_type": "code",
   "execution_count": 7,
   "metadata": {},
   "outputs": [],
   "source": [
    "b = torch.from_numpy(n)"
   ]
  },
  {
   "cell_type": "code",
   "execution_count": 8,
   "metadata": {},
   "outputs": [
    {
     "output_type": "execute_result",
     "data": {
      "text/plain": [
       "tensor([1, 2, 3, 4, 5])"
      ]
     },
     "metadata": {},
     "execution_count": 8
    }
   ],
   "source": [
    "b"
   ]
  },
  {
   "cell_type": "code",
   "execution_count": 9,
   "metadata": {},
   "outputs": [
    {
     "output_type": "execute_result",
     "data": {
      "text/plain": [
       "array([1, 2, 3, 4, 5])"
      ]
     },
     "metadata": {},
     "execution_count": 9
    }
   ],
   "source": [
    "n"
   ]
  },
  {
   "cell_type": "code",
   "execution_count": 13,
   "metadata": {},
   "outputs": [],
   "source": [
    "a = torch.arange(12).reshape(3,4)"
   ]
  },
  {
   "cell_type": "code",
   "execution_count": 21,
   "metadata": {},
   "outputs": [
    {
     "output_type": "execute_result",
     "data": {
      "text/plain": [
       "torch.Size([3, 4])"
      ]
     },
     "metadata": {},
     "execution_count": 21
    }
   ],
   "source": [
    "a.shape"
   ]
  },
  {
   "cell_type": "code",
   "execution_count": 22,
   "metadata": {},
   "outputs": [
    {
     "output_type": "execute_result",
     "data": {
      "text/plain": [
       "tensor([ 0,  1,  2,  3,  4,  5,  6,  7,  8,  9, 10, 11])"
      ]
     },
     "metadata": {},
     "execution_count": 22
    }
   ],
   "source": [
    "a = torch.arange(12)\n",
    "a"
   ]
  },
  {
   "cell_type": "code",
   "execution_count": 23,
   "metadata": {},
   "outputs": [
    {
     "output_type": "execute_result",
     "data": {
      "text/plain": [
       "torch.Size([12])"
      ]
     },
     "metadata": {},
     "execution_count": 23
    }
   ],
   "source": [
    "a.size()"
   ]
  },
  {
   "cell_type": "code",
   "execution_count": 24,
   "metadata": {},
   "outputs": [
    {
     "output_type": "execute_result",
     "data": {
      "text/plain": [
       "torch.Size([12])"
      ]
     },
     "metadata": {},
     "execution_count": 24
    }
   ],
   "source": [
    "a.shape"
   ]
  },
  {
   "cell_type": "code",
   "execution_count": 25,
   "metadata": {},
   "outputs": [
    {
     "output_type": "error",
     "ename": "TypeError",
     "evalue": "view() received an invalid combination of arguments - got (), but expected one of:\n * (tuple of ints size)\n * (torch.dtype dtype)\n",
     "traceback": [
      "\u001b[0;31m---------------------------------------------------------------------------\u001b[0m",
      "\u001b[0;31mTypeError\u001b[0m                                 Traceback (most recent call last)",
      "\u001b[0;32m<ipython-input-25-e900549bf5c0>\u001b[0m in \u001b[0;36m<module>\u001b[0;34m\u001b[0m\n\u001b[0;32m----> 1\u001b[0;31m \u001b[0ma\u001b[0m\u001b[0;34m.\u001b[0m\u001b[0mview\u001b[0m\u001b[0;34m(\u001b[0m\u001b[0;34m)\u001b[0m\u001b[0;34m\u001b[0m\u001b[0;34m\u001b[0m\u001b[0m\n\u001b[0m",
      "\u001b[0;31mTypeError\u001b[0m: view() received an invalid combination of arguments - got (), but expected one of:\n * (tuple of ints size)\n * (torch.dtype dtype)\n"
     ]
    }
   ],
   "source": [
    "a.view()"
   ]
  },
  {
   "cell_type": "code",
   "execution_count": 26,
   "metadata": {},
   "outputs": [
    {
     "output_type": "execute_result",
     "data": {
      "text/plain": [
       "True"
      ]
     },
     "metadata": {},
     "execution_count": 26
    }
   ],
   "source": [
    "a.is_contiguous()"
   ]
  },
  {
   "cell_type": "code",
   "execution_count": 27,
   "metadata": {},
   "outputs": [],
   "source": [
    "A = np.array([\n",
    "    [1,2],\n",
    "    [3,4]\n",
    "])"
   ]
  },
  {
   "cell_type": "code",
   "execution_count": 28,
   "metadata": {},
   "outputs": [],
   "source": [
    "B = A.copy()\n"
   ]
  },
  {
   "cell_type": "code",
   "execution_count": 29,
   "metadata": {},
   "outputs": [
    {
     "output_type": "execute_result",
     "data": {
      "text/plain": [
       "array([[ 1,  4],\n",
       "       [ 9, 16]])"
      ]
     },
     "metadata": {},
     "execution_count": 29
    }
   ],
   "source": [
    "A * B"
   ]
  },
  {
   "cell_type": "code",
   "execution_count": 30,
   "metadata": {},
   "outputs": [
    {
     "output_type": "execute_result",
     "data": {
      "text/plain": [
       "array([[ 7, 10],\n",
       "       [15, 22]])"
      ]
     },
     "metadata": {},
     "execution_count": 30
    }
   ],
   "source": [
    "np.dot(A, B)"
   ]
  },
  {
   "cell_type": "code",
   "execution_count": 31,
   "metadata": {},
   "outputs": [],
   "source": [
    "A = torch.from_numpy(A)"
   ]
  },
  {
   "cell_type": "code",
   "execution_count": 32,
   "metadata": {},
   "outputs": [
    {
     "output_type": "error",
     "ename": "TypeError",
     "evalue": "copy_() received an invalid combination of arguments - got (), but expected (Tensor other, bool non_blocking)",
     "traceback": [
      "\u001b[0;31m---------------------------------------------------------------------------\u001b[0m",
      "\u001b[0;31mTypeError\u001b[0m                                 Traceback (most recent call last)",
      "\u001b[0;32m<ipython-input-32-33ed8a309905>\u001b[0m in \u001b[0;36m<module>\u001b[0;34m\u001b[0m\n\u001b[0;32m----> 1\u001b[0;31m \u001b[0mB\u001b[0m \u001b[0;34m=\u001b[0m \u001b[0mA\u001b[0m\u001b[0;34m.\u001b[0m\u001b[0mcopy_\u001b[0m\u001b[0;34m(\u001b[0m\u001b[0;34m)\u001b[0m\u001b[0;34m\u001b[0m\u001b[0;34m\u001b[0m\u001b[0m\n\u001b[0m",
      "\u001b[0;31mTypeError\u001b[0m: copy_() received an invalid combination of arguments - got (), but expected (Tensor other, bool non_blocking)"
     ]
    }
   ],
   "source": [
    "B = A.copy_()"
   ]
  },
  {
   "cell_type": "code",
   "execution_count": 33,
   "metadata": {},
   "outputs": [
    {
     "output_type": "error",
     "ename": "AttributeError",
     "evalue": "'Tensor' object has no attribute 'copy'",
     "traceback": [
      "\u001b[0;31m---------------------------------------------------------------------------\u001b[0m",
      "\u001b[0;31mAttributeError\u001b[0m                            Traceback (most recent call last)",
      "\u001b[0;32m<ipython-input-33-9bfde33e5696>\u001b[0m in \u001b[0;36m<module>\u001b[0;34m\u001b[0m\n\u001b[0;32m----> 1\u001b[0;31m \u001b[0mB\u001b[0m \u001b[0;34m=\u001b[0m \u001b[0mA\u001b[0m\u001b[0;34m.\u001b[0m\u001b[0mcopy\u001b[0m\u001b[0;34m(\u001b[0m\u001b[0;34m)\u001b[0m\u001b[0;34m\u001b[0m\u001b[0;34m\u001b[0m\u001b[0m\n\u001b[0m",
      "\u001b[0;31mAttributeError\u001b[0m: 'Tensor' object has no attribute 'copy'"
     ]
    }
   ],
   "source": [
    "B = A.copy()"
   ]
  },
  {
   "cell_type": "code",
   "execution_count": 36,
   "metadata": {},
   "outputs": [
    {
     "output_type": "execute_result",
     "data": {
      "text/plain": [
       "tensor([3, 7])"
      ]
     },
     "metadata": {},
     "execution_count": 36
    }
   ],
   "source": [
    "A.sum(axis=1)\n"
   ]
  },
  {
   "cell_type": "code",
   "execution_count": 37,
   "metadata": {},
   "outputs": [
    {
     "output_type": "execute_result",
     "data": {
      "text/plain": [
       "tensor([[1, 2],\n",
       "        [3, 4]])"
      ]
     },
     "metadata": {},
     "execution_count": 37
    }
   ],
   "source": [
    "A"
   ]
  },
  {
   "cell_type": "code",
   "execution_count": 44,
   "metadata": {},
   "outputs": [
    {
     "output_type": "execute_result",
     "data": {
      "text/plain": [
       "tensor([[1, 1],\n",
       "        [1, 1]])"
      ]
     },
     "metadata": {},
     "execution_count": 44
    }
   ],
   "source": [
    "B = torch.full_like(A, 1)\n",
    "B"
   ]
  },
  {
   "cell_type": "code",
   "execution_count": 45,
   "metadata": {},
   "outputs": [
    {
     "output_type": "execute_result",
     "data": {
      "text/plain": [
       "tensor([[1, 2],\n",
       "        [3, 4]])"
      ]
     },
     "metadata": {},
     "execution_count": 45
    }
   ],
   "source": [
    "A\n"
   ]
  },
  {
   "cell_type": "code",
   "execution_count": 46,
   "metadata": {},
   "outputs": [
    {
     "output_type": "execute_result",
     "data": {
      "text/plain": [
       "tensor([3, 7])"
      ]
     },
     "metadata": {},
     "execution_count": 46
    }
   ],
   "source": [
    "A.sum(axis=1)"
   ]
  },
  {
   "cell_type": "code",
   "execution_count": 48,
   "metadata": {},
   "outputs": [
    {
     "output_type": "execute_result",
     "data": {
      "text/plain": [
       "tensor([[3],\n",
       "        [7]])"
      ]
     },
     "metadata": {},
     "execution_count": 48
    }
   ],
   "source": [
    "A.sum(axis=1, keepdims=True)"
   ]
  },
  {
   "cell_type": "code",
   "execution_count": 49,
   "metadata": {},
   "outputs": [
    {
     "output_type": "execute_result",
     "data": {
      "text/plain": [
       "tensor([[0.3333, 0.2857],\n",
       "        [1.0000, 0.5714]])"
      ]
     },
     "metadata": {},
     "execution_count": 49
    }
   ],
   "source": [
    "A / A.sum(axis=1)"
   ]
  },
  {
   "cell_type": "code",
   "execution_count": 50,
   "metadata": {},
   "outputs": [
    {
     "output_type": "execute_result",
     "data": {
      "text/plain": [
       "tensor([[0.3333, 0.6667],\n",
       "        [0.4286, 0.5714]])"
      ]
     },
     "metadata": {},
     "execution_count": 50
    }
   ],
   "source": [
    "A / A.sum(axis=1, keepdims=True)"
   ]
  },
  {
   "cell_type": "code",
   "execution_count": 51,
   "metadata": {},
   "outputs": [
    {
     "output_type": "execute_result",
     "data": {
      "text/plain": [
       "tensor(11)"
      ]
     },
     "metadata": {},
     "execution_count": 51
    }
   ],
   "source": [
    "x = torch.tensor([1, 2])\n",
    "y = torch.tensor([3, 4])\n",
    "torch.dot(x, y)"
   ]
  },
  {
   "cell_type": "code",
   "execution_count": 52,
   "metadata": {},
   "outputs": [
    {
     "output_type": "execute_result",
     "data": {
      "text/plain": [
       "tensor(11)"
      ]
     },
     "metadata": {},
     "execution_count": 52
    }
   ],
   "source": [
    "torch.sum(x * y)"
   ]
  },
  {
   "cell_type": "code",
   "execution_count": 53,
   "metadata": {},
   "outputs": [],
   "source": [
    "c = torch.tensor([5, 6])"
   ]
  },
  {
   "cell_type": "code",
   "execution_count": 55,
   "metadata": {},
   "outputs": [
    {
     "output_type": "error",
     "ename": "RuntimeError",
     "evalue": "vector + matrix @ vector expected, got 1, 1, 1",
     "traceback": [
      "\u001b[0;31m---------------------------------------------------------------------------\u001b[0m",
      "\u001b[0;31mRuntimeError\u001b[0m                              Traceback (most recent call last)",
      "\u001b[0;32m<ipython-input-55-5a084899c8b2>\u001b[0m in \u001b[0;36m<module>\u001b[0;34m\u001b[0m\n\u001b[0;32m----> 1\u001b[0;31m \u001b[0mtorch\u001b[0m\u001b[0;34m.\u001b[0m\u001b[0mmv\u001b[0m\u001b[0;34m(\u001b[0m\u001b[0ma\u001b[0m\u001b[0;34m,\u001b[0m \u001b[0mc\u001b[0m\u001b[0;34m,\u001b[0m \u001b[0mout\u001b[0m\u001b[0;34m=\u001b[0m\u001b[0;32mNone\u001b[0m\u001b[0;34m)\u001b[0m\u001b[0;34m\u001b[0m\u001b[0;34m\u001b[0m\u001b[0m\n\u001b[0m",
      "\u001b[0;31mRuntimeError\u001b[0m: vector + matrix @ vector expected, got 1, 1, 1"
     ]
    }
   ],
   "source": [
    "torch.mv(a, c, out=None)"
   ]
  },
  {
   "cell_type": "code",
   "execution_count": 56,
   "metadata": {},
   "outputs": [
    {
     "output_type": "execute_result",
     "data": {
      "text/plain": [
       "tensor([[1, 2],\n",
       "        [3, 4]])"
      ]
     },
     "metadata": {},
     "execution_count": 56
    }
   ],
   "source": [
    "A\n"
   ]
  },
  {
   "cell_type": "code",
   "execution_count": 57,
   "metadata": {},
   "outputs": [
    {
     "output_type": "execute_result",
     "data": {
      "text/plain": [
       "tensor([5, 6])"
      ]
     },
     "metadata": {},
     "execution_count": 57
    }
   ],
   "source": [
    "c"
   ]
  },
  {
   "cell_type": "code",
   "execution_count": 58,
   "metadata": {},
   "outputs": [
    {
     "output_type": "execute_result",
     "data": {
      "text/plain": [
       "array([17, 39])"
      ]
     },
     "metadata": {},
     "execution_count": 58
    }
   ],
   "source": [
    "np.dot(A, c)"
   ]
  },
  {
   "cell_type": "code",
   "execution_count": 59,
   "metadata": {},
   "outputs": [
    {
     "output_type": "execute_result",
     "data": {
      "text/plain": [
       "tensor([-2.4473, -0.8687])"
      ]
     },
     "metadata": {},
     "execution_count": 59
    }
   ],
   "source": [
    "mat = torch.randn(2, 3)\n",
    "vec = torch.randn(3)\n",
    "torch.mv(mat, vec, out=None)"
   ]
  },
  {
   "cell_type": "code",
   "execution_count": 60,
   "metadata": {},
   "outputs": [
    {
     "output_type": "execute_result",
     "data": {
      "text/plain": [
       "tensor([[-1.1131, -1.5231, -0.0615],\n",
       "        [ 0.3777, -0.5022,  0.1391]])"
      ]
     },
     "metadata": {},
     "execution_count": 60
    }
   ],
   "source": [
    "mat"
   ]
  },
  {
   "cell_type": "code",
   "execution_count": 61,
   "metadata": {},
   "outputs": [
    {
     "output_type": "execute_result",
     "data": {
      "text/plain": [
       "tensor([-0.1924,  1.7268,  0.5115])"
      ]
     },
     "metadata": {},
     "execution_count": 61
    }
   ],
   "source": [
    "vec"
   ]
  },
  {
   "cell_type": "code",
   "execution_count": null,
   "metadata": {},
   "outputs": [],
   "source": []
  },
  {
   "cell_type": "code",
   "execution_count": 62,
   "metadata": {},
   "outputs": [
    {
     "output_type": "error",
     "ename": "RuntimeError",
     "evalue": "1D tensors expected, but got 2D and 1D tensors",
     "traceback": [
      "\u001b[0;31m---------------------------------------------------------------------------\u001b[0m",
      "\u001b[0;31mRuntimeError\u001b[0m                              Traceback (most recent call last)",
      "\u001b[0;32m<ipython-input-62-b93367e0be38>\u001b[0m in \u001b[0;36m<module>\u001b[0;34m\u001b[0m\n\u001b[0;32m----> 1\u001b[0;31m \u001b[0mtorch\u001b[0m\u001b[0;34m.\u001b[0m\u001b[0mdot\u001b[0m\u001b[0;34m(\u001b[0m\u001b[0mA\u001b[0m\u001b[0;34m,\u001b[0m \u001b[0mc\u001b[0m\u001b[0;34m)\u001b[0m\u001b[0;34m\u001b[0m\u001b[0;34m\u001b[0m\u001b[0m\n\u001b[0m",
      "\u001b[0;31mRuntimeError\u001b[0m: 1D tensors expected, but got 2D and 1D tensors"
     ]
    }
   ],
   "source": [
    "torch.dot(A, c)"
   ]
  },
  {
   "cell_type": "code",
   "execution_count": 63,
   "metadata": {},
   "outputs": [
    {
     "output_type": "error",
     "ename": "RuntimeError",
     "evalue": "1D tensors expected, but got 2D and 2D tensors",
     "traceback": [
      "\u001b[0;31m---------------------------------------------------------------------------\u001b[0m",
      "\u001b[0;31mRuntimeError\u001b[0m                              Traceback (most recent call last)",
      "\u001b[0;32m<ipython-input-63-6a13f74e48c9>\u001b[0m in \u001b[0;36m<module>\u001b[0;34m\u001b[0m\n\u001b[0;32m----> 1\u001b[0;31m \u001b[0mtorch\u001b[0m\u001b[0;34m.\u001b[0m\u001b[0mdot\u001b[0m\u001b[0;34m(\u001b[0m\u001b[0mA\u001b[0m\u001b[0;34m,\u001b[0m \u001b[0mB\u001b[0m\u001b[0;34m)\u001b[0m\u001b[0;34m\u001b[0m\u001b[0;34m\u001b[0m\u001b[0m\n\u001b[0m",
      "\u001b[0;31mRuntimeError\u001b[0m: 1D tensors expected, but got 2D and 2D tensors"
     ]
    }
   ],
   "source": [
    "torch.dot(A, B)"
   ]
  },
  {
   "cell_type": "code",
   "execution_count": 64,
   "metadata": {},
   "outputs": [
    {
     "output_type": "execute_result",
     "data": {
      "text/plain": [
       "tensor([[1, 1],\n",
       "        [1, 1]])"
      ]
     },
     "metadata": {},
     "execution_count": 64
    }
   ],
   "source": [
    "B\n"
   ]
  },
  {
   "cell_type": "code",
   "execution_count": 65,
   "metadata": {},
   "outputs": [
    {
     "output_type": "execute_result",
     "data": {
      "text/plain": [
       "tensor([[1, 2],\n",
       "        [3, 4]])"
      ]
     },
     "metadata": {},
     "execution_count": 65
    }
   ],
   "source": [
    "A"
   ]
  },
  {
   "cell_type": "code",
   "execution_count": 66,
   "metadata": {},
   "outputs": [
    {
     "output_type": "execute_result",
     "data": {
      "text/plain": [
       "tensor([17, 39])"
      ]
     },
     "metadata": {},
     "execution_count": 66
    }
   ],
   "source": [
    "torch.mv(A, c)"
   ]
  },
  {
   "cell_type": "code",
   "execution_count": 67,
   "metadata": {},
   "outputs": [
    {
     "output_type": "execute_result",
     "data": {
      "text/plain": [
       "tensor([[3, 3],\n",
       "        [7, 7]])"
      ]
     },
     "metadata": {},
     "execution_count": 67
    }
   ],
   "source": [
    "torch.mm(A, B)"
   ]
  },
  {
   "cell_type": "code",
   "execution_count": 97,
   "metadata": {},
   "outputs": [
    {
     "output_type": "execute_result",
     "data": {
      "text/plain": [
       "tensor([0., 1., 2., 3.])"
      ]
     },
     "metadata": {},
     "execution_count": 97
    }
   ],
   "source": [
    "x = torch.arange(4.0)\n",
    "x"
   ]
  },
  {
   "cell_type": "code",
   "execution_count": 98,
   "metadata": {},
   "outputs": [],
   "source": [
    "x.requires_grad_(True)\n",
    "x.grad"
   ]
  },
  {
   "cell_type": "code",
   "execution_count": 99,
   "metadata": {},
   "outputs": [
    {
     "output_type": "execute_result",
     "data": {
      "text/plain": [
       "tensor([0., 1., 2., 3.], requires_grad=True)"
      ]
     },
     "metadata": {},
     "execution_count": 99
    }
   ],
   "source": [
    "x"
   ]
  },
  {
   "cell_type": "code",
   "execution_count": 100,
   "metadata": {},
   "outputs": [
    {
     "output_type": "stream",
     "name": "stdout",
     "text": [
      "None\n"
     ]
    }
   ],
   "source": [
    "print(x.grad)"
   ]
  },
  {
   "cell_type": "code",
   "execution_count": 101,
   "metadata": {},
   "outputs": [],
   "source": [
    "y = 2 * torch.dot(x, x)"
   ]
  },
  {
   "cell_type": "code",
   "execution_count": 102,
   "metadata": {},
   "outputs": [
    {
     "output_type": "execute_result",
     "data": {
      "text/plain": [
       "tensor(28., grad_fn=<MulBackward0>)"
      ]
     },
     "metadata": {},
     "execution_count": 102
    }
   ],
   "source": [
    "y"
   ]
  },
  {
   "cell_type": "code",
   "execution_count": 103,
   "metadata": {},
   "outputs": [],
   "source": [
    "y.backward()\n"
   ]
  },
  {
   "cell_type": "code",
   "execution_count": 104,
   "metadata": {},
   "outputs": [
    {
     "output_type": "execute_result",
     "data": {
      "text/plain": [
       "tensor([ 0.,  4.,  8., 12.])"
      ]
     },
     "metadata": {},
     "execution_count": 104
    }
   ],
   "source": [
    "x.grad"
   ]
  },
  {
   "cell_type": "code",
   "execution_count": 105,
   "metadata": {},
   "outputs": [
    {
     "output_type": "execute_result",
     "data": {
      "text/plain": [
       "tensor([True, True, True, True])"
      ]
     },
     "metadata": {},
     "execution_count": 105
    }
   ],
   "source": [
    "x.grad == 4 * x"
   ]
  },
  {
   "cell_type": "code",
   "execution_count": 116,
   "metadata": {},
   "outputs": [
    {
     "output_type": "execute_result",
     "data": {
      "text/plain": [
       "tensor([1., 1., 1., 1.])"
      ]
     },
     "metadata": {},
     "execution_count": 116
    }
   ],
   "source": [
    "x.grad.zero_()\n",
    "y = sum(x)\n",
    "y.backward()\n",
    "x.grad"
   ]
  },
  {
   "cell_type": "code",
   "execution_count": 117,
   "metadata": {},
   "outputs": [
    {
     "output_type": "execute_result",
     "data": {
      "text/plain": [
       "tensor([0., 2., 4., 6.])"
      ]
     },
     "metadata": {},
     "execution_count": 117
    }
   ],
   "source": [
    "x.grad.zero_()\n",
    "y = torch.dot(x, x)\n",
    "y.sum().backward()\n",
    "x.grad"
   ]
  },
  {
   "cell_type": "code",
   "execution_count": 123,
   "metadata": {},
   "outputs": [],
   "source": [
    "x.grad.zero_()\n",
    "y = x * x\n",
    "u = y.detach()\n",
    "z = u * x\n",
    "\n",
    "z.sum().backward()\n"
   ]
  },
  {
   "cell_type": "code",
   "execution_count": 124,
   "metadata": {},
   "outputs": [
    {
     "output_type": "execute_result",
     "data": {
      "text/plain": [
       "tensor([0., 1., 4., 9.])"
      ]
     },
     "metadata": {},
     "execution_count": 124
    }
   ],
   "source": [
    "u"
   ]
  },
  {
   "cell_type": "code",
   "execution_count": 125,
   "metadata": {},
   "outputs": [
    {
     "output_type": "execute_result",
     "data": {
      "text/plain": [
       "tensor([ 0.,  3., 12., 27.])"
      ]
     },
     "metadata": {},
     "execution_count": 125
    }
   ],
   "source": [
    "x.grad.zero_()\n",
    "y = x * x\n",
    "z = y * x\n",
    "z.sum().backward()\n",
    "x.grad"
   ]
  },
  {
   "cell_type": "code",
   "execution_count": 127,
   "metadata": {},
   "outputs": [],
   "source": [
    "from torch.distributions import multinomial\n",
    "from d2l import torch as d2l\n"
   ]
  },
  {
   "cell_type": "code",
   "execution_count": 128,
   "metadata": {},
   "outputs": [
    {
     "output_type": "execute_result",
     "data": {
      "text/plain": [
       "tensor([0., 0., 0., 0., 0., 1.])"
      ]
     },
     "metadata": {},
     "execution_count": 128
    }
   ],
   "source": [
    "fair_probs = torch.ones([6]) / 6\n",
    "multinomial.Multinomial(1, fair_probs).sample()"
   ]
  },
  {
   "cell_type": "code",
   "execution_count": 129,
   "metadata": {},
   "outputs": [],
   "source": [
    "counts = multinomial.Multinomial(1000, fair_probs).sample()"
   ]
  },
  {
   "cell_type": "code",
   "execution_count": 131,
   "metadata": {},
   "outputs": [
    {
     "output_type": "execute_result",
     "data": {
      "text/plain": [
       "tensor([0.1710, 0.1670, 0.1660, 0.1750, 0.1510, 0.1700])"
      ]
     },
     "metadata": {},
     "execution_count": 131
    }
   ],
   "source": [
    "counts/1000"
   ]
  },
  {
   "cell_type": "code",
   "execution_count": 141,
   "metadata": {},
   "outputs": [
    {
     "output_type": "stream",
     "name": "stdout",
     "text": [
      "torch.Size([500, 6])\ntensor([[  0.,   0.,   1.,   2.,   3.,   4.],\n        [  1.,   1.,   3.,   3.,   6.,   6.],\n        [  4.,   1.,   3.,   6.,   7.,   9.],\n        ...,\n        [811., 837., 820., 849., 837., 826.],\n        [813., 840., 821., 850., 839., 827.],\n        [815., 841., 822., 853., 839., 830.]])\ntensor([[0.0000, 0.0000, 0.1000, 0.2000, 0.3000, 0.4000],\n        [0.0500, 0.0500, 0.1500, 0.1500, 0.3000, 0.3000],\n        [0.1333, 0.0333, 0.1000, 0.2000, 0.2333, 0.3000],\n        ...,\n        [0.1629, 0.1681, 0.1647, 0.1705, 0.1681, 0.1659],\n        [0.1629, 0.1683, 0.1645, 0.1703, 0.1681, 0.1657],\n        [0.1630, 0.1682, 0.1644, 0.1706, 0.1678, 0.1660]])\n"
     ]
    },
    {
     "output_type": "execute_result",
     "data": {
      "text/plain": [
       "<matplotlib.legend.Legend at 0x7f8153a4c5d0>"
      ]
     },
     "metadata": {},
     "execution_count": 141
    },
    {
     "output_type": "display_data",
     "data": {
      "text/plain": "<Figure size 432x324 with 1 Axes>",
      "image/svg+xml": "<?xml version=\"1.0\" encoding=\"utf-8\" standalone=\"no\"?>\n<!DOCTYPE svg PUBLIC \"-//W3C//DTD SVG 1.1//EN\"\n  \"http://www.w3.org/Graphics/SVG/1.1/DTD/svg11.dtd\">\n<!-- Created with matplotlib (https://matplotlib.org/) -->\n<svg height=\"289.37625pt\" version=\"1.1\" viewBox=\"0 0 392.14375 289.37625\" width=\"392.14375pt\" xmlns=\"http://www.w3.org/2000/svg\" xmlns:xlink=\"http://www.w3.org/1999/xlink\">\n <metadata>\n  <rdf:RDF xmlns:cc=\"http://creativecommons.org/ns#\" xmlns:dc=\"http://purl.org/dc/elements/1.1/\" xmlns:rdf=\"http://www.w3.org/1999/02/22-rdf-syntax-ns#\">\n   <cc:Work>\n    <dc:type rdf:resource=\"http://purl.org/dc/dcmitype/StillImage\"/>\n    <dc:date>2021-03-26T16:20:03.879011</dc:date>\n    <dc:format>image/svg+xml</dc:format>\n    <dc:creator>\n     <cc:Agent>\n      <dc:title>Matplotlib v3.3.4, https://matplotlib.org/</dc:title>\n     </cc:Agent>\n    </dc:creator>\n   </cc:Work>\n  </rdf:RDF>\n </metadata>\n <defs>\n  <style type=\"text/css\">*{stroke-linecap:butt;stroke-linejoin:round;}</style>\n </defs>\n <g id=\"figure_1\">\n  <g id=\"patch_1\">\n   <path d=\"M 0 289.37625 \nL 392.14375 289.37625 \nL 392.14375 0 \nL 0 0 \nz\n\" style=\"fill:none;\"/>\n  </g>\n  <g id=\"axes_1\">\n   <g id=\"patch_2\">\n    <path d=\"M 50.14375 251.82 \nL 384.94375 251.82 \nL 384.94375 7.2 \nL 50.14375 7.2 \nz\n\" style=\"fill:#ffffff;\"/>\n   </g>\n   <g id=\"matplotlib.axis_1\">\n    <g id=\"xtick_1\">\n     <g id=\"line2d_1\">\n      <defs>\n       <path d=\"M 0 0 \nL 0 3.5 \n\" id=\"m11d3c1ff0b\" style=\"stroke:#000000;stroke-width:0.8;\"/>\n      </defs>\n      <g>\n       <use style=\"stroke:#000000;stroke-width:0.8;\" x=\"65.361932\" xlink:href=\"#m11d3c1ff0b\" y=\"251.82\"/>\n      </g>\n     </g>\n     <g id=\"text_1\">\n      <!-- 0 -->\n      <g transform=\"translate(62.180682 266.418437)scale(0.1 -0.1)\">\n       <defs>\n        <path d=\"M 31.78125 66.40625 \nQ 24.171875 66.40625 20.328125 58.90625 \nQ 16.5 51.421875 16.5 36.375 \nQ 16.5 21.390625 20.328125 13.890625 \nQ 24.171875 6.390625 31.78125 6.390625 \nQ 39.453125 6.390625 43.28125 13.890625 \nQ 47.125 21.390625 47.125 36.375 \nQ 47.125 51.421875 43.28125 58.90625 \nQ 39.453125 66.40625 31.78125 66.40625 \nz\nM 31.78125 74.21875 \nQ 44.046875 74.21875 50.515625 64.515625 \nQ 56.984375 54.828125 56.984375 36.375 \nQ 56.984375 17.96875 50.515625 8.265625 \nQ 44.046875 -1.421875 31.78125 -1.421875 \nQ 19.53125 -1.421875 13.0625 8.265625 \nQ 6.59375 17.96875 6.59375 36.375 \nQ 6.59375 54.828125 13.0625 64.515625 \nQ 19.53125 74.21875 31.78125 74.21875 \nz\n\" id=\"DejaVuSans-48\"/>\n       </defs>\n       <use xlink:href=\"#DejaVuSans-48\"/>\n      </g>\n     </g>\n    </g>\n    <g id=\"xtick_2\">\n     <g id=\"line2d_2\">\n      <g>\n       <use style=\"stroke:#000000;stroke-width:0.8;\" x=\"126.356649\" xlink:href=\"#m11d3c1ff0b\" y=\"251.82\"/>\n      </g>\n     </g>\n     <g id=\"text_2\">\n      <!-- 100 -->\n      <g transform=\"translate(116.812899 266.418437)scale(0.1 -0.1)\">\n       <defs>\n        <path d=\"M 12.40625 8.296875 \nL 28.515625 8.296875 \nL 28.515625 63.921875 \nL 10.984375 60.40625 \nL 10.984375 69.390625 \nL 28.421875 72.90625 \nL 38.28125 72.90625 \nL 38.28125 8.296875 \nL 54.390625 8.296875 \nL 54.390625 0 \nL 12.40625 0 \nz\n\" id=\"DejaVuSans-49\"/>\n       </defs>\n       <use xlink:href=\"#DejaVuSans-49\"/>\n       <use x=\"63.623047\" xlink:href=\"#DejaVuSans-48\"/>\n       <use x=\"127.246094\" xlink:href=\"#DejaVuSans-48\"/>\n      </g>\n     </g>\n    </g>\n    <g id=\"xtick_3\">\n     <g id=\"line2d_3\">\n      <g>\n       <use style=\"stroke:#000000;stroke-width:0.8;\" x=\"187.351365\" xlink:href=\"#m11d3c1ff0b\" y=\"251.82\"/>\n      </g>\n     </g>\n     <g id=\"text_3\">\n      <!-- 200 -->\n      <g transform=\"translate(177.807615 266.418437)scale(0.1 -0.1)\">\n       <defs>\n        <path d=\"M 19.1875 8.296875 \nL 53.609375 8.296875 \nL 53.609375 0 \nL 7.328125 0 \nL 7.328125 8.296875 \nQ 12.9375 14.109375 22.625 23.890625 \nQ 32.328125 33.6875 34.8125 36.53125 \nQ 39.546875 41.84375 41.421875 45.53125 \nQ 43.3125 49.21875 43.3125 52.78125 \nQ 43.3125 58.59375 39.234375 62.25 \nQ 35.15625 65.921875 28.609375 65.921875 \nQ 23.96875 65.921875 18.8125 64.3125 \nQ 13.671875 62.703125 7.8125 59.421875 \nL 7.8125 69.390625 \nQ 13.765625 71.78125 18.9375 73 \nQ 24.125 74.21875 28.421875 74.21875 \nQ 39.75 74.21875 46.484375 68.546875 \nQ 53.21875 62.890625 53.21875 53.421875 \nQ 53.21875 48.921875 51.53125 44.890625 \nQ 49.859375 40.875 45.40625 35.40625 \nQ 44.1875 33.984375 37.640625 27.21875 \nQ 31.109375 20.453125 19.1875 8.296875 \nz\n\" id=\"DejaVuSans-50\"/>\n       </defs>\n       <use xlink:href=\"#DejaVuSans-50\"/>\n       <use x=\"63.623047\" xlink:href=\"#DejaVuSans-48\"/>\n       <use x=\"127.246094\" xlink:href=\"#DejaVuSans-48\"/>\n      </g>\n     </g>\n    </g>\n    <g id=\"xtick_4\">\n     <g id=\"line2d_4\">\n      <g>\n       <use style=\"stroke:#000000;stroke-width:0.8;\" x=\"248.346082\" xlink:href=\"#m11d3c1ff0b\" y=\"251.82\"/>\n      </g>\n     </g>\n     <g id=\"text_4\">\n      <!-- 300 -->\n      <g transform=\"translate(238.802332 266.418437)scale(0.1 -0.1)\">\n       <defs>\n        <path d=\"M 40.578125 39.3125 \nQ 47.65625 37.796875 51.625 33 \nQ 55.609375 28.21875 55.609375 21.1875 \nQ 55.609375 10.40625 48.1875 4.484375 \nQ 40.765625 -1.421875 27.09375 -1.421875 \nQ 22.515625 -1.421875 17.65625 -0.515625 \nQ 12.796875 0.390625 7.625 2.203125 \nL 7.625 11.71875 \nQ 11.71875 9.328125 16.59375 8.109375 \nQ 21.484375 6.890625 26.8125 6.890625 \nQ 36.078125 6.890625 40.9375 10.546875 \nQ 45.796875 14.203125 45.796875 21.1875 \nQ 45.796875 27.640625 41.28125 31.265625 \nQ 36.765625 34.90625 28.71875 34.90625 \nL 20.21875 34.90625 \nL 20.21875 43.015625 \nL 29.109375 43.015625 \nQ 36.375 43.015625 40.234375 45.921875 \nQ 44.09375 48.828125 44.09375 54.296875 \nQ 44.09375 59.90625 40.109375 62.90625 \nQ 36.140625 65.921875 28.71875 65.921875 \nQ 24.65625 65.921875 20.015625 65.03125 \nQ 15.375 64.15625 9.8125 62.3125 \nL 9.8125 71.09375 \nQ 15.4375 72.65625 20.34375 73.4375 \nQ 25.25 74.21875 29.59375 74.21875 \nQ 40.828125 74.21875 47.359375 69.109375 \nQ 53.90625 64.015625 53.90625 55.328125 \nQ 53.90625 49.265625 50.4375 45.09375 \nQ 46.96875 40.921875 40.578125 39.3125 \nz\n\" id=\"DejaVuSans-51\"/>\n       </defs>\n       <use xlink:href=\"#DejaVuSans-51\"/>\n       <use x=\"63.623047\" xlink:href=\"#DejaVuSans-48\"/>\n       <use x=\"127.246094\" xlink:href=\"#DejaVuSans-48\"/>\n      </g>\n     </g>\n    </g>\n    <g id=\"xtick_5\">\n     <g id=\"line2d_5\">\n      <g>\n       <use style=\"stroke:#000000;stroke-width:0.8;\" x=\"309.340799\" xlink:href=\"#m11d3c1ff0b\" y=\"251.82\"/>\n      </g>\n     </g>\n     <g id=\"text_5\">\n      <!-- 400 -->\n      <g transform=\"translate(299.797049 266.418437)scale(0.1 -0.1)\">\n       <defs>\n        <path d=\"M 37.796875 64.3125 \nL 12.890625 25.390625 \nL 37.796875 25.390625 \nz\nM 35.203125 72.90625 \nL 47.609375 72.90625 \nL 47.609375 25.390625 \nL 58.015625 25.390625 \nL 58.015625 17.1875 \nL 47.609375 17.1875 \nL 47.609375 0 \nL 37.796875 0 \nL 37.796875 17.1875 \nL 4.890625 17.1875 \nL 4.890625 26.703125 \nz\n\" id=\"DejaVuSans-52\"/>\n       </defs>\n       <use xlink:href=\"#DejaVuSans-52\"/>\n       <use x=\"63.623047\" xlink:href=\"#DejaVuSans-48\"/>\n       <use x=\"127.246094\" xlink:href=\"#DejaVuSans-48\"/>\n      </g>\n     </g>\n    </g>\n    <g id=\"xtick_6\">\n     <g id=\"line2d_6\">\n      <g>\n       <use style=\"stroke:#000000;stroke-width:0.8;\" x=\"370.335515\" xlink:href=\"#m11d3c1ff0b\" y=\"251.82\"/>\n      </g>\n     </g>\n     <g id=\"text_6\">\n      <!-- 500 -->\n      <g transform=\"translate(360.791765 266.418437)scale(0.1 -0.1)\">\n       <defs>\n        <path d=\"M 10.796875 72.90625 \nL 49.515625 72.90625 \nL 49.515625 64.59375 \nL 19.828125 64.59375 \nL 19.828125 46.734375 \nQ 21.96875 47.46875 24.109375 47.828125 \nQ 26.265625 48.1875 28.421875 48.1875 \nQ 40.625 48.1875 47.75 41.5 \nQ 54.890625 34.8125 54.890625 23.390625 \nQ 54.890625 11.625 47.5625 5.09375 \nQ 40.234375 -1.421875 26.90625 -1.421875 \nQ 22.3125 -1.421875 17.546875 -0.640625 \nQ 12.796875 0.140625 7.71875 1.703125 \nL 7.71875 11.625 \nQ 12.109375 9.234375 16.796875 8.0625 \nQ 21.484375 6.890625 26.703125 6.890625 \nQ 35.15625 6.890625 40.078125 11.328125 \nQ 45.015625 15.765625 45.015625 23.390625 \nQ 45.015625 31 40.078125 35.4375 \nQ 35.15625 39.890625 26.703125 39.890625 \nQ 22.75 39.890625 18.8125 39.015625 \nQ 14.890625 38.140625 10.796875 36.28125 \nz\n\" id=\"DejaVuSans-53\"/>\n       </defs>\n       <use xlink:href=\"#DejaVuSans-53\"/>\n       <use x=\"63.623047\" xlink:href=\"#DejaVuSans-48\"/>\n       <use x=\"127.246094\" xlink:href=\"#DejaVuSans-48\"/>\n      </g>\n     </g>\n    </g>\n    <g id=\"text_7\">\n     <!-- Groups of experiments -->\n     <g transform=\"translate(160.397656 280.096562)scale(0.1 -0.1)\">\n      <defs>\n       <path d=\"M 59.515625 10.40625 \nL 59.515625 29.984375 \nL 43.40625 29.984375 \nL 43.40625 38.09375 \nL 69.28125 38.09375 \nL 69.28125 6.78125 \nQ 63.578125 2.734375 56.6875 0.65625 \nQ 49.8125 -1.421875 42 -1.421875 \nQ 24.90625 -1.421875 15.25 8.5625 \nQ 5.609375 18.5625 5.609375 36.375 \nQ 5.609375 54.25 15.25 64.234375 \nQ 24.90625 74.21875 42 74.21875 \nQ 49.125 74.21875 55.546875 72.453125 \nQ 61.96875 70.703125 67.390625 67.28125 \nL 67.390625 56.78125 \nQ 61.921875 61.421875 55.765625 63.765625 \nQ 49.609375 66.109375 42.828125 66.109375 \nQ 29.4375 66.109375 22.71875 58.640625 \nQ 16.015625 51.171875 16.015625 36.375 \nQ 16.015625 21.625 22.71875 14.15625 \nQ 29.4375 6.6875 42.828125 6.6875 \nQ 48.046875 6.6875 52.140625 7.59375 \nQ 56.25 8.5 59.515625 10.40625 \nz\n\" id=\"DejaVuSans-71\"/>\n       <path d=\"M 41.109375 46.296875 \nQ 39.59375 47.171875 37.8125 47.578125 \nQ 36.03125 48 33.890625 48 \nQ 26.265625 48 22.1875 43.046875 \nQ 18.109375 38.09375 18.109375 28.8125 \nL 18.109375 0 \nL 9.078125 0 \nL 9.078125 54.6875 \nL 18.109375 54.6875 \nL 18.109375 46.1875 \nQ 20.953125 51.171875 25.484375 53.578125 \nQ 30.03125 56 36.53125 56 \nQ 37.453125 56 38.578125 55.875 \nQ 39.703125 55.765625 41.0625 55.515625 \nz\n\" id=\"DejaVuSans-114\"/>\n       <path d=\"M 30.609375 48.390625 \nQ 23.390625 48.390625 19.1875 42.75 \nQ 14.984375 37.109375 14.984375 27.296875 \nQ 14.984375 17.484375 19.15625 11.84375 \nQ 23.34375 6.203125 30.609375 6.203125 \nQ 37.796875 6.203125 41.984375 11.859375 \nQ 46.1875 17.53125 46.1875 27.296875 \nQ 46.1875 37.015625 41.984375 42.703125 \nQ 37.796875 48.390625 30.609375 48.390625 \nz\nM 30.609375 56 \nQ 42.328125 56 49.015625 48.375 \nQ 55.71875 40.765625 55.71875 27.296875 \nQ 55.71875 13.875 49.015625 6.21875 \nQ 42.328125 -1.421875 30.609375 -1.421875 \nQ 18.84375 -1.421875 12.171875 6.21875 \nQ 5.515625 13.875 5.515625 27.296875 \nQ 5.515625 40.765625 12.171875 48.375 \nQ 18.84375 56 30.609375 56 \nz\n\" id=\"DejaVuSans-111\"/>\n       <path d=\"M 8.5 21.578125 \nL 8.5 54.6875 \nL 17.484375 54.6875 \nL 17.484375 21.921875 \nQ 17.484375 14.15625 20.5 10.265625 \nQ 23.53125 6.390625 29.59375 6.390625 \nQ 36.859375 6.390625 41.078125 11.03125 \nQ 45.3125 15.671875 45.3125 23.6875 \nL 45.3125 54.6875 \nL 54.296875 54.6875 \nL 54.296875 0 \nL 45.3125 0 \nL 45.3125 8.40625 \nQ 42.046875 3.421875 37.71875 1 \nQ 33.40625 -1.421875 27.6875 -1.421875 \nQ 18.265625 -1.421875 13.375 4.4375 \nQ 8.5 10.296875 8.5 21.578125 \nz\nM 31.109375 56 \nz\n\" id=\"DejaVuSans-117\"/>\n       <path d=\"M 18.109375 8.203125 \nL 18.109375 -20.796875 \nL 9.078125 -20.796875 \nL 9.078125 54.6875 \nL 18.109375 54.6875 \nL 18.109375 46.390625 \nQ 20.953125 51.265625 25.265625 53.625 \nQ 29.59375 56 35.59375 56 \nQ 45.5625 56 51.78125 48.09375 \nQ 58.015625 40.1875 58.015625 27.296875 \nQ 58.015625 14.40625 51.78125 6.484375 \nQ 45.5625 -1.421875 35.59375 -1.421875 \nQ 29.59375 -1.421875 25.265625 0.953125 \nQ 20.953125 3.328125 18.109375 8.203125 \nz\nM 48.6875 27.296875 \nQ 48.6875 37.203125 44.609375 42.84375 \nQ 40.53125 48.484375 33.40625 48.484375 \nQ 26.265625 48.484375 22.1875 42.84375 \nQ 18.109375 37.203125 18.109375 27.296875 \nQ 18.109375 17.390625 22.1875 11.75 \nQ 26.265625 6.109375 33.40625 6.109375 \nQ 40.53125 6.109375 44.609375 11.75 \nQ 48.6875 17.390625 48.6875 27.296875 \nz\n\" id=\"DejaVuSans-112\"/>\n       <path d=\"M 44.28125 53.078125 \nL 44.28125 44.578125 \nQ 40.484375 46.53125 36.375 47.5 \nQ 32.28125 48.484375 27.875 48.484375 \nQ 21.1875 48.484375 17.84375 46.4375 \nQ 14.5 44.390625 14.5 40.28125 \nQ 14.5 37.15625 16.890625 35.375 \nQ 19.28125 33.59375 26.515625 31.984375 \nL 29.59375 31.296875 \nQ 39.15625 29.25 43.1875 25.515625 \nQ 47.21875 21.78125 47.21875 15.09375 \nQ 47.21875 7.46875 41.1875 3.015625 \nQ 35.15625 -1.421875 24.609375 -1.421875 \nQ 20.21875 -1.421875 15.453125 -0.5625 \nQ 10.6875 0.296875 5.421875 2 \nL 5.421875 11.28125 \nQ 10.40625 8.6875 15.234375 7.390625 \nQ 20.0625 6.109375 24.8125 6.109375 \nQ 31.15625 6.109375 34.5625 8.28125 \nQ 37.984375 10.453125 37.984375 14.40625 \nQ 37.984375 18.0625 35.515625 20.015625 \nQ 33.0625 21.96875 24.703125 23.78125 \nL 21.578125 24.515625 \nQ 13.234375 26.265625 9.515625 29.90625 \nQ 5.8125 33.546875 5.8125 39.890625 \nQ 5.8125 47.609375 11.28125 51.796875 \nQ 16.75 56 26.8125 56 \nQ 31.78125 56 36.171875 55.265625 \nQ 40.578125 54.546875 44.28125 53.078125 \nz\n\" id=\"DejaVuSans-115\"/>\n       <path id=\"DejaVuSans-32\"/>\n       <path d=\"M 37.109375 75.984375 \nL 37.109375 68.5 \nL 28.515625 68.5 \nQ 23.6875 68.5 21.796875 66.546875 \nQ 19.921875 64.59375 19.921875 59.515625 \nL 19.921875 54.6875 \nL 34.71875 54.6875 \nL 34.71875 47.703125 \nL 19.921875 47.703125 \nL 19.921875 0 \nL 10.890625 0 \nL 10.890625 47.703125 \nL 2.296875 47.703125 \nL 2.296875 54.6875 \nL 10.890625 54.6875 \nL 10.890625 58.5 \nQ 10.890625 67.625 15.140625 71.796875 \nQ 19.390625 75.984375 28.609375 75.984375 \nz\n\" id=\"DejaVuSans-102\"/>\n       <path d=\"M 56.203125 29.59375 \nL 56.203125 25.203125 \nL 14.890625 25.203125 \nQ 15.484375 15.921875 20.484375 11.0625 \nQ 25.484375 6.203125 34.421875 6.203125 \nQ 39.59375 6.203125 44.453125 7.46875 \nQ 49.3125 8.734375 54.109375 11.28125 \nL 54.109375 2.78125 \nQ 49.265625 0.734375 44.1875 -0.34375 \nQ 39.109375 -1.421875 33.890625 -1.421875 \nQ 20.796875 -1.421875 13.15625 6.1875 \nQ 5.515625 13.8125 5.515625 26.8125 \nQ 5.515625 40.234375 12.765625 48.109375 \nQ 20.015625 56 32.328125 56 \nQ 43.359375 56 49.78125 48.890625 \nQ 56.203125 41.796875 56.203125 29.59375 \nz\nM 47.21875 32.234375 \nQ 47.125 39.59375 43.09375 43.984375 \nQ 39.0625 48.390625 32.421875 48.390625 \nQ 24.90625 48.390625 20.390625 44.140625 \nQ 15.875 39.890625 15.1875 32.171875 \nz\n\" id=\"DejaVuSans-101\"/>\n       <path d=\"M 54.890625 54.6875 \nL 35.109375 28.078125 \nL 55.90625 0 \nL 45.3125 0 \nL 29.390625 21.484375 \nL 13.484375 0 \nL 2.875 0 \nL 24.125 28.609375 \nL 4.6875 54.6875 \nL 15.28125 54.6875 \nL 29.78125 35.203125 \nL 44.28125 54.6875 \nz\n\" id=\"DejaVuSans-120\"/>\n       <path d=\"M 9.421875 54.6875 \nL 18.40625 54.6875 \nL 18.40625 0 \nL 9.421875 0 \nz\nM 9.421875 75.984375 \nL 18.40625 75.984375 \nL 18.40625 64.59375 \nL 9.421875 64.59375 \nz\n\" id=\"DejaVuSans-105\"/>\n       <path d=\"M 52 44.1875 \nQ 55.375 50.25 60.0625 53.125 \nQ 64.75 56 71.09375 56 \nQ 79.640625 56 84.28125 50.015625 \nQ 88.921875 44.046875 88.921875 33.015625 \nL 88.921875 0 \nL 79.890625 0 \nL 79.890625 32.71875 \nQ 79.890625 40.578125 77.09375 44.375 \nQ 74.3125 48.1875 68.609375 48.1875 \nQ 61.625 48.1875 57.5625 43.546875 \nQ 53.515625 38.921875 53.515625 30.90625 \nL 53.515625 0 \nL 44.484375 0 \nL 44.484375 32.71875 \nQ 44.484375 40.625 41.703125 44.40625 \nQ 38.921875 48.1875 33.109375 48.1875 \nQ 26.21875 48.1875 22.15625 43.53125 \nQ 18.109375 38.875 18.109375 30.90625 \nL 18.109375 0 \nL 9.078125 0 \nL 9.078125 54.6875 \nL 18.109375 54.6875 \nL 18.109375 46.1875 \nQ 21.1875 51.21875 25.484375 53.609375 \nQ 29.78125 56 35.6875 56 \nQ 41.65625 56 45.828125 52.96875 \nQ 50 49.953125 52 44.1875 \nz\n\" id=\"DejaVuSans-109\"/>\n       <path d=\"M 54.890625 33.015625 \nL 54.890625 0 \nL 45.90625 0 \nL 45.90625 32.71875 \nQ 45.90625 40.484375 42.875 44.328125 \nQ 39.84375 48.1875 33.796875 48.1875 \nQ 26.515625 48.1875 22.3125 43.546875 \nQ 18.109375 38.921875 18.109375 30.90625 \nL 18.109375 0 \nL 9.078125 0 \nL 9.078125 54.6875 \nL 18.109375 54.6875 \nL 18.109375 46.1875 \nQ 21.34375 51.125 25.703125 53.5625 \nQ 30.078125 56 35.796875 56 \nQ 45.21875 56 50.046875 50.171875 \nQ 54.890625 44.34375 54.890625 33.015625 \nz\n\" id=\"DejaVuSans-110\"/>\n       <path d=\"M 18.3125 70.21875 \nL 18.3125 54.6875 \nL 36.8125 54.6875 \nL 36.8125 47.703125 \nL 18.3125 47.703125 \nL 18.3125 18.015625 \nQ 18.3125 11.328125 20.140625 9.421875 \nQ 21.96875 7.515625 27.59375 7.515625 \nL 36.8125 7.515625 \nL 36.8125 0 \nL 27.59375 0 \nQ 17.1875 0 13.234375 3.875 \nQ 9.28125 7.765625 9.28125 18.015625 \nL 9.28125 47.703125 \nL 2.6875 47.703125 \nL 2.6875 54.6875 \nL 9.28125 54.6875 \nL 9.28125 70.21875 \nz\n\" id=\"DejaVuSans-116\"/>\n      </defs>\n      <use xlink:href=\"#DejaVuSans-71\"/>\n      <use x=\"77.490234\" xlink:href=\"#DejaVuSans-114\"/>\n      <use x=\"116.353516\" xlink:href=\"#DejaVuSans-111\"/>\n      <use x=\"177.535156\" xlink:href=\"#DejaVuSans-117\"/>\n      <use x=\"240.914062\" xlink:href=\"#DejaVuSans-112\"/>\n      <use x=\"304.390625\" xlink:href=\"#DejaVuSans-115\"/>\n      <use x=\"356.490234\" xlink:href=\"#DejaVuSans-32\"/>\n      <use x=\"388.277344\" xlink:href=\"#DejaVuSans-111\"/>\n      <use x=\"449.458984\" xlink:href=\"#DejaVuSans-102\"/>\n      <use x=\"484.664062\" xlink:href=\"#DejaVuSans-32\"/>\n      <use x=\"516.451172\" xlink:href=\"#DejaVuSans-101\"/>\n      <use x=\"576.224609\" xlink:href=\"#DejaVuSans-120\"/>\n      <use x=\"635.404297\" xlink:href=\"#DejaVuSans-112\"/>\n      <use x=\"698.880859\" xlink:href=\"#DejaVuSans-101\"/>\n      <use x=\"760.404297\" xlink:href=\"#DejaVuSans-114\"/>\n      <use x=\"801.517578\" xlink:href=\"#DejaVuSans-105\"/>\n      <use x=\"829.300781\" xlink:href=\"#DejaVuSans-109\"/>\n      <use x=\"926.712891\" xlink:href=\"#DejaVuSans-101\"/>\n      <use x=\"988.236328\" xlink:href=\"#DejaVuSans-110\"/>\n      <use x=\"1051.615234\" xlink:href=\"#DejaVuSans-116\"/>\n      <use x=\"1090.824219\" xlink:href=\"#DejaVuSans-115\"/>\n     </g>\n    </g>\n   </g>\n   <g id=\"matplotlib.axis_2\">\n    <g id=\"ytick_1\">\n     <g id=\"line2d_7\">\n      <defs>\n       <path d=\"M 0 0 \nL -3.5 0 \n\" id=\"mdf3e51ae0e\" style=\"stroke:#000000;stroke-width:0.8;\"/>\n      </defs>\n      <g>\n       <use style=\"stroke:#000000;stroke-width:0.8;\" x=\"50.14375\" xlink:href=\"#mdf3e51ae0e\" y=\"240.700909\"/>\n      </g>\n     </g>\n     <g id=\"text_8\">\n      <!-- 0.00 -->\n      <g transform=\"translate(20.878125 244.500128)scale(0.1 -0.1)\">\n       <defs>\n        <path d=\"M 10.6875 12.40625 \nL 21 12.40625 \nL 21 0 \nL 10.6875 0 \nz\n\" id=\"DejaVuSans-46\"/>\n       </defs>\n       <use xlink:href=\"#DejaVuSans-48\"/>\n       <use x=\"63.623047\" xlink:href=\"#DejaVuSans-46\"/>\n       <use x=\"95.410156\" xlink:href=\"#DejaVuSans-48\"/>\n       <use x=\"159.033203\" xlink:href=\"#DejaVuSans-48\"/>\n      </g>\n     </g>\n    </g>\n    <g id=\"ytick_2\">\n     <g id=\"line2d_8\">\n      <g>\n       <use style=\"stroke:#000000;stroke-width:0.8;\" x=\"50.14375\" xlink:href=\"#mdf3e51ae0e\" y=\"212.903182\"/>\n      </g>\n     </g>\n     <g id=\"text_9\">\n      <!-- 0.05 -->\n      <g transform=\"translate(20.878125 216.702401)scale(0.1 -0.1)\">\n       <use xlink:href=\"#DejaVuSans-48\"/>\n       <use x=\"63.623047\" xlink:href=\"#DejaVuSans-46\"/>\n       <use x=\"95.410156\" xlink:href=\"#DejaVuSans-48\"/>\n       <use x=\"159.033203\" xlink:href=\"#DejaVuSans-53\"/>\n      </g>\n     </g>\n    </g>\n    <g id=\"ytick_3\">\n     <g id=\"line2d_9\">\n      <g>\n       <use style=\"stroke:#000000;stroke-width:0.8;\" x=\"50.14375\" xlink:href=\"#mdf3e51ae0e\" y=\"185.105455\"/>\n      </g>\n     </g>\n     <g id=\"text_10\">\n      <!-- 0.10 -->\n      <g transform=\"translate(20.878125 188.904674)scale(0.1 -0.1)\">\n       <use xlink:href=\"#DejaVuSans-48\"/>\n       <use x=\"63.623047\" xlink:href=\"#DejaVuSans-46\"/>\n       <use x=\"95.410156\" xlink:href=\"#DejaVuSans-49\"/>\n       <use x=\"159.033203\" xlink:href=\"#DejaVuSans-48\"/>\n      </g>\n     </g>\n    </g>\n    <g id=\"ytick_4\">\n     <g id=\"line2d_10\">\n      <g>\n       <use style=\"stroke:#000000;stroke-width:0.8;\" x=\"50.14375\" xlink:href=\"#mdf3e51ae0e\" y=\"157.307729\"/>\n      </g>\n     </g>\n     <g id=\"text_11\">\n      <!-- 0.15 -->\n      <g transform=\"translate(20.878125 161.106947)scale(0.1 -0.1)\">\n       <use xlink:href=\"#DejaVuSans-48\"/>\n       <use x=\"63.623047\" xlink:href=\"#DejaVuSans-46\"/>\n       <use x=\"95.410156\" xlink:href=\"#DejaVuSans-49\"/>\n       <use x=\"159.033203\" xlink:href=\"#DejaVuSans-53\"/>\n      </g>\n     </g>\n    </g>\n    <g id=\"ytick_5\">\n     <g id=\"line2d_11\">\n      <g>\n       <use style=\"stroke:#000000;stroke-width:0.8;\" x=\"50.14375\" xlink:href=\"#mdf3e51ae0e\" y=\"129.510002\"/>\n      </g>\n     </g>\n     <g id=\"text_12\">\n      <!-- 0.20 -->\n      <g transform=\"translate(20.878125 133.30922)scale(0.1 -0.1)\">\n       <use xlink:href=\"#DejaVuSans-48\"/>\n       <use x=\"63.623047\" xlink:href=\"#DejaVuSans-46\"/>\n       <use x=\"95.410156\" xlink:href=\"#DejaVuSans-50\"/>\n       <use x=\"159.033203\" xlink:href=\"#DejaVuSans-48\"/>\n      </g>\n     </g>\n    </g>\n    <g id=\"ytick_6\">\n     <g id=\"line2d_12\">\n      <g>\n       <use style=\"stroke:#000000;stroke-width:0.8;\" x=\"50.14375\" xlink:href=\"#mdf3e51ae0e\" y=\"101.712275\"/>\n      </g>\n     </g>\n     <g id=\"text_13\">\n      <!-- 0.25 -->\n      <g transform=\"translate(20.878125 105.511494)scale(0.1 -0.1)\">\n       <use xlink:href=\"#DejaVuSans-48\"/>\n       <use x=\"63.623047\" xlink:href=\"#DejaVuSans-46\"/>\n       <use x=\"95.410156\" xlink:href=\"#DejaVuSans-50\"/>\n       <use x=\"159.033203\" xlink:href=\"#DejaVuSans-53\"/>\n      </g>\n     </g>\n    </g>\n    <g id=\"ytick_7\">\n     <g id=\"line2d_13\">\n      <g>\n       <use style=\"stroke:#000000;stroke-width:0.8;\" x=\"50.14375\" xlink:href=\"#mdf3e51ae0e\" y=\"73.914548\"/>\n      </g>\n     </g>\n     <g id=\"text_14\">\n      <!-- 0.30 -->\n      <g transform=\"translate(20.878125 77.713767)scale(0.1 -0.1)\">\n       <use xlink:href=\"#DejaVuSans-48\"/>\n       <use x=\"63.623047\" xlink:href=\"#DejaVuSans-46\"/>\n       <use x=\"95.410156\" xlink:href=\"#DejaVuSans-51\"/>\n       <use x=\"159.033203\" xlink:href=\"#DejaVuSans-48\"/>\n      </g>\n     </g>\n    </g>\n    <g id=\"ytick_8\">\n     <g id=\"line2d_14\">\n      <g>\n       <use style=\"stroke:#000000;stroke-width:0.8;\" x=\"50.14375\" xlink:href=\"#mdf3e51ae0e\" y=\"46.116821\"/>\n      </g>\n     </g>\n     <g id=\"text_15\">\n      <!-- 0.35 -->\n      <g transform=\"translate(20.878125 49.91604)scale(0.1 -0.1)\">\n       <use xlink:href=\"#DejaVuSans-48\"/>\n       <use x=\"63.623047\" xlink:href=\"#DejaVuSans-46\"/>\n       <use x=\"95.410156\" xlink:href=\"#DejaVuSans-51\"/>\n       <use x=\"159.033203\" xlink:href=\"#DejaVuSans-53\"/>\n      </g>\n     </g>\n    </g>\n    <g id=\"ytick_9\">\n     <g id=\"line2d_15\">\n      <g>\n       <use style=\"stroke:#000000;stroke-width:0.8;\" x=\"50.14375\" xlink:href=\"#mdf3e51ae0e\" y=\"18.319094\"/>\n      </g>\n     </g>\n     <g id=\"text_16\">\n      <!-- 0.40 -->\n      <g transform=\"translate(20.878125 22.118313)scale(0.1 -0.1)\">\n       <use xlink:href=\"#DejaVuSans-48\"/>\n       <use x=\"63.623047\" xlink:href=\"#DejaVuSans-46\"/>\n       <use x=\"95.410156\" xlink:href=\"#DejaVuSans-52\"/>\n       <use x=\"159.033203\" xlink:href=\"#DejaVuSans-48\"/>\n      </g>\n     </g>\n    </g>\n    <g id=\"text_17\">\n     <!-- Estimated probability -->\n     <g transform=\"translate(14.798438 183.033437)rotate(-90)scale(0.1 -0.1)\">\n      <defs>\n       <path d=\"M 9.8125 72.90625 \nL 55.90625 72.90625 \nL 55.90625 64.59375 \nL 19.671875 64.59375 \nL 19.671875 43.015625 \nL 54.390625 43.015625 \nL 54.390625 34.71875 \nL 19.671875 34.71875 \nL 19.671875 8.296875 \nL 56.78125 8.296875 \nL 56.78125 0 \nL 9.8125 0 \nz\n\" id=\"DejaVuSans-69\"/>\n       <path d=\"M 34.28125 27.484375 \nQ 23.390625 27.484375 19.1875 25 \nQ 14.984375 22.515625 14.984375 16.5 \nQ 14.984375 11.71875 18.140625 8.90625 \nQ 21.296875 6.109375 26.703125 6.109375 \nQ 34.1875 6.109375 38.703125 11.40625 \nQ 43.21875 16.703125 43.21875 25.484375 \nL 43.21875 27.484375 \nz\nM 52.203125 31.203125 \nL 52.203125 0 \nL 43.21875 0 \nL 43.21875 8.296875 \nQ 40.140625 3.328125 35.546875 0.953125 \nQ 30.953125 -1.421875 24.3125 -1.421875 \nQ 15.921875 -1.421875 10.953125 3.296875 \nQ 6 8.015625 6 15.921875 \nQ 6 25.140625 12.171875 29.828125 \nQ 18.359375 34.515625 30.609375 34.515625 \nL 43.21875 34.515625 \nL 43.21875 35.40625 \nQ 43.21875 41.609375 39.140625 45 \nQ 35.0625 48.390625 27.6875 48.390625 \nQ 23 48.390625 18.546875 47.265625 \nQ 14.109375 46.140625 10.015625 43.890625 \nL 10.015625 52.203125 \nQ 14.9375 54.109375 19.578125 55.046875 \nQ 24.21875 56 28.609375 56 \nQ 40.484375 56 46.34375 49.84375 \nQ 52.203125 43.703125 52.203125 31.203125 \nz\n\" id=\"DejaVuSans-97\"/>\n       <path d=\"M 45.40625 46.390625 \nL 45.40625 75.984375 \nL 54.390625 75.984375 \nL 54.390625 0 \nL 45.40625 0 \nL 45.40625 8.203125 \nQ 42.578125 3.328125 38.25 0.953125 \nQ 33.9375 -1.421875 27.875 -1.421875 \nQ 17.96875 -1.421875 11.734375 6.484375 \nQ 5.515625 14.40625 5.515625 27.296875 \nQ 5.515625 40.1875 11.734375 48.09375 \nQ 17.96875 56 27.875 56 \nQ 33.9375 56 38.25 53.625 \nQ 42.578125 51.265625 45.40625 46.390625 \nz\nM 14.796875 27.296875 \nQ 14.796875 17.390625 18.875 11.75 \nQ 22.953125 6.109375 30.078125 6.109375 \nQ 37.203125 6.109375 41.296875 11.75 \nQ 45.40625 17.390625 45.40625 27.296875 \nQ 45.40625 37.203125 41.296875 42.84375 \nQ 37.203125 48.484375 30.078125 48.484375 \nQ 22.953125 48.484375 18.875 42.84375 \nQ 14.796875 37.203125 14.796875 27.296875 \nz\n\" id=\"DejaVuSans-100\"/>\n       <path d=\"M 48.6875 27.296875 \nQ 48.6875 37.203125 44.609375 42.84375 \nQ 40.53125 48.484375 33.40625 48.484375 \nQ 26.265625 48.484375 22.1875 42.84375 \nQ 18.109375 37.203125 18.109375 27.296875 \nQ 18.109375 17.390625 22.1875 11.75 \nQ 26.265625 6.109375 33.40625 6.109375 \nQ 40.53125 6.109375 44.609375 11.75 \nQ 48.6875 17.390625 48.6875 27.296875 \nz\nM 18.109375 46.390625 \nQ 20.953125 51.265625 25.265625 53.625 \nQ 29.59375 56 35.59375 56 \nQ 45.5625 56 51.78125 48.09375 \nQ 58.015625 40.1875 58.015625 27.296875 \nQ 58.015625 14.40625 51.78125 6.484375 \nQ 45.5625 -1.421875 35.59375 -1.421875 \nQ 29.59375 -1.421875 25.265625 0.953125 \nQ 20.953125 3.328125 18.109375 8.203125 \nL 18.109375 0 \nL 9.078125 0 \nL 9.078125 75.984375 \nL 18.109375 75.984375 \nz\n\" id=\"DejaVuSans-98\"/>\n       <path d=\"M 9.421875 75.984375 \nL 18.40625 75.984375 \nL 18.40625 0 \nL 9.421875 0 \nz\n\" id=\"DejaVuSans-108\"/>\n       <path d=\"M 32.171875 -5.078125 \nQ 28.375 -14.84375 24.75 -17.8125 \nQ 21.140625 -20.796875 15.09375 -20.796875 \nL 7.90625 -20.796875 \nL 7.90625 -13.28125 \nL 13.1875 -13.28125 \nQ 16.890625 -13.28125 18.9375 -11.515625 \nQ 21 -9.765625 23.484375 -3.21875 \nL 25.09375 0.875 \nL 2.984375 54.6875 \nL 12.5 54.6875 \nL 29.59375 11.921875 \nL 46.6875 54.6875 \nL 56.203125 54.6875 \nz\n\" id=\"DejaVuSans-121\"/>\n      </defs>\n      <use xlink:href=\"#DejaVuSans-69\"/>\n      <use x=\"63.183594\" xlink:href=\"#DejaVuSans-115\"/>\n      <use x=\"115.283203\" xlink:href=\"#DejaVuSans-116\"/>\n      <use x=\"154.492188\" xlink:href=\"#DejaVuSans-105\"/>\n      <use x=\"182.275391\" xlink:href=\"#DejaVuSans-109\"/>\n      <use x=\"279.6875\" xlink:href=\"#DejaVuSans-97\"/>\n      <use x=\"340.966797\" xlink:href=\"#DejaVuSans-116\"/>\n      <use x=\"380.175781\" xlink:href=\"#DejaVuSans-101\"/>\n      <use x=\"441.699219\" xlink:href=\"#DejaVuSans-100\"/>\n      <use x=\"505.175781\" xlink:href=\"#DejaVuSans-32\"/>\n      <use x=\"536.962891\" xlink:href=\"#DejaVuSans-112\"/>\n      <use x=\"600.439453\" xlink:href=\"#DejaVuSans-114\"/>\n      <use x=\"639.302734\" xlink:href=\"#DejaVuSans-111\"/>\n      <use x=\"700.484375\" xlink:href=\"#DejaVuSans-98\"/>\n      <use x=\"763.960938\" xlink:href=\"#DejaVuSans-97\"/>\n      <use x=\"825.240234\" xlink:href=\"#DejaVuSans-98\"/>\n      <use x=\"888.716797\" xlink:href=\"#DejaVuSans-105\"/>\n      <use x=\"916.5\" xlink:href=\"#DejaVuSans-108\"/>\n      <use x=\"944.283203\" xlink:href=\"#DejaVuSans-105\"/>\n      <use x=\"972.066406\" xlink:href=\"#DejaVuSans-116\"/>\n      <use x=\"1011.275391\" xlink:href=\"#DejaVuSans-121\"/>\n     </g>\n    </g>\n   </g>\n   <g id=\"line2d_16\">\n    <path clip-path=\"url(#p9809218395)\" d=\"M 65.361932 240.700909 \nL 65.971879 212.903182 \nL 66.581826 166.573634 \nL 67.191773 185.105455 \nL 67.80172 196.224547 \nL 68.411668 203.637271 \nL 69.021615 193.047662 \nL 69.631562 199.004317 \nL 70.241509 191.282727 \nL 70.851456 190.664999 \nL 71.461403 180.051323 \nL 72.681298 180.828881 \nL 73.291245 177.163247 \nL 73.901192 181.39909 \nL 74.511139 181.630738 \nL 75.121086 172.024172 \nL 75.731034 172.75091 \nL 76.340981 170.475074 \nL 77.560875 177.163247 \nL 78.170822 177.524255 \nL 78.780769 173.019489 \nL 79.390717 175.839546 \nL 80.610611 176.552308 \nL 81.830505 169.221036 \nL 83.0504 170.280002 \nL 83.660347 172.551642 \nL 84.270294 172.943948 \nL 84.880241 169.94306 \nL 85.490188 170.389008 \nL 86.100135 169.221036 \nL 86.710083 169.66227 \nL 88.539924 175.126784 \nL 89.149871 175.376251 \nL 90.369766 173.192144 \nL 91.58966 173.73366 \nL 92.199607 175.221818 \nL 92.809554 175.436681 \nL 94.029449 173.523071 \nL 95.249343 173.986366 \nL 95.85929 173.114279 \nL 96.469237 174.414022 \nL 97.079185 173.566775 \nL 97.689132 174.810002 \nL 98.299079 174.997192 \nL 98.909026 172.19937 \nL 99.518973 172.42579 \nL 100.12892 173.602949 \nL 101.958762 174.168643 \nL 102.568709 173.448346 \nL 103.178656 174.515845 \nL 104.398551 174.841677 \nL 105.008498 175.839546 \nL 105.618445 175.977845 \nL 106.228392 175.294493 \nL 106.838339 175.436681 \nL 107.448286 173.192144 \nL 108.058234 173.359935 \nL 108.668181 171.206592 \nL 109.278128 171.396987 \nL 109.888075 169.328368 \nL 111.717917 167.777004 \nL 112.327864 168.71192 \nL 113.547758 169.121764 \nL 114.157705 168.63273 \nL 114.767652 168.833618 \nL 115.3776 169.699483 \nL 115.987547 167.897335 \nL 116.597494 167.445721 \nL 117.817388 165.295579 \nL 118.427335 165.52069 \nL 119.037283 166.365414 \nL 119.64723 165.95591 \nL 120.257177 166.77728 \nL 121.477071 164.780234 \nL 122.087018 165.587901 \nL 122.696966 164.037706 \nL 123.306913 161.940684 \nL 123.91686 162.752643 \nL 124.526807 162.413431 \nL 125.136754 160.957934 \nL 125.746701 160.087504 \nL 126.356649 160.885653 \nL 126.966596 160.032992 \nL 128.796437 160.74935 \nL 129.406384 161.503609 \nL 130.626279 161.940684 \nL 131.236226 162.663254 \nL 131.846173 162.361861 \nL 132.45612 163.067614 \nL 133.066067 163.264385 \nL 133.676015 162.965675 \nL 134.285962 163.159877 \nL 134.895909 162.867274 \nL 136.115803 161.346711 \nL 136.72575 161.076914 \nL 137.335698 160.344451 \nL 137.945645 161.014094 \nL 138.555592 160.294265 \nL 139.165539 160.497629 \nL 139.775486 160.245702 \nL 140.385433 160.446184 \nL 141.605328 159.955128 \nL 142.215275 160.153165 \nL 142.825222 159.479423 \nL 143.435169 160.109051 \nL 144.045116 160.301331 \nL 144.655064 158.793104 \nL 145.265011 159.41362 \nL 145.874958 158.770769 \nL 146.484905 158.552402 \nL 147.094852 158.749089 \nL 147.704799 157.716517 \nL 148.314747 157.916436 \nL 148.924694 156.904865 \nL 149.534641 156.70778 \nL 150.144588 155.719289 \nL 150.754535 155.533404 \nL 151.364482 155.741657 \nL 153.194324 155.198939 \nL 153.804271 155.403779 \nL 155.634113 154.882427 \nL 156.24406 155.083911 \nL 156.854007 155.65091 \nL 158.073901 155.309196 \nL 159.293796 155.693665 \nL 159.903743 156.238586 \nL 160.51369 155.714227 \nL 161.123637 155.900252 \nL 161.733584 155.384617 \nL 162.343531 154.527955 \nL 162.953479 154.372565 \nL 164.173373 154.749653 \nL 164.78332 155.273747 \nL 165.393267 155.117603 \nL 166.613162 154.14511 \nL 167.223109 154.329404 \nL 168.443003 155.345539 \nL 170.882792 154.751617 \nL 171.492739 154.925066 \nL 172.102686 154.464779 \nL 173.932528 155.910078 \nL 175.152422 155.61836 \nL 175.762369 156.085847 \nL 176.372316 155.636826 \nL 177.592211 155.95541 \nL 178.202158 155.514325 \nL 178.812105 154.780662 \nL 179.422052 154.646248 \nL 180.641946 155.552085 \nL 181.251894 155.706812 \nL 181.861841 155.570369 \nL 182.471788 154.859222 \nL 183.081735 155.301707 \nL 183.691682 154.88434 \nL 184.301629 155.038529 \nL 184.911577 154.908937 \nL 185.521524 153.657525 \nL 186.131471 153.536175 \nL 186.741418 153.13807 \nL 187.961312 151.803226 \nL 188.57126 151.693409 \nL 189.181207 152.129722 \nL 189.791154 152.290579 \nL 190.401101 152.719751 \nL 191.011048 152.60763 \nL 191.620995 151.962013 \nL 192.230943 151.588578 \nL 192.84089 151.748185 \nL 193.450837 151.115814 \nL 194.060784 151.27615 \nL 194.670731 150.912947 \nL 195.280678 150.293351 \nL 195.890626 150.455269 \nL 196.500573 150.100913 \nL 197.11052 150.006024 \nL 197.720467 150.167031 \nL 198.330414 150.072705 \nL 198.940361 149.726534 \nL 199.550309 150.138176 \nL 200.160256 150.045259 \nL 201.38015 150.3583 \nL 202.600044 150.173799 \nL 203.819939 150.480213 \nL 205.039833 150.297866 \nL 205.64978 150.44855 \nL 207.479622 150.180103 \nL 208.089569 150.328725 \nL 208.699516 150.240513 \nL 209.91941 149.599112 \nL 211.139305 149.895005 \nL 211.749252 149.810413 \nL 212.359199 149.95626 \nL 212.969146 149.872124 \nL 213.579093 150.244373 \nL 214.189041 150.15974 \nL 215.408935 150.892866 \nL 217.238776 150.636274 \nL 217.848724 150.773604 \nL 219.068618 150.605506 \nL 220.288512 150.876098 \nL 221.508407 150.709822 \nL 222.118354 150.843143 \nL 222.728301 150.760771 \nL 223.338248 150.892866 \nL 223.948195 150.384926 \nL 224.558142 150.093051 \nL 226.997931 150.619556 \nL 227.607878 150.54049 \nL 228.827773 149.970782 \nL 229.43772 149.895005 \nL 230.047667 150.024929 \nL 230.657614 150.3583 \nL 231.877508 150.206116 \nL 232.487456 149.928698 \nL 233.70735 150.18268 \nL 234.317297 149.908335 \nL 234.927244 149.835225 \nL 235.537191 150.15974 \nL 236.147139 149.888402 \nL 236.757086 149.816146 \nL 237.367033 149.940843 \nL 238.586927 150.577753 \nL 239.806822 150.430937 \nL 240.416769 150.165258 \nL 241.636663 150.406225 \nL 242.24661 150.334416 \nL 243.466505 150.951254 \nL 244.076452 150.878318 \nL 244.686399 151.182802 \nL 245.906293 150.288098 \nL 246.51624 150.031813 \nL 247.126188 149.963177 \nL 247.736135 150.265639 \nL 248.346082 150.19668 \nL 249.565976 150.427102 \nL 250.175923 150.3583 \nL 250.785871 150.654499 \nL 251.395818 150.767084 \nL 252.005765 150.516755 \nL 253.835606 150.313465 \nL 254.445554 149.88904 \nL 256.275395 150.225502 \nL 256.885342 149.98325 \nL 258.105237 149.85408 \nL 259.325131 150.075091 \nL 259.935078 150.010829 \nL 260.545025 150.293351 \nL 261.154972 150.228807 \nL 262.984814 150.550746 \nL 263.594761 150.31566 \nL 264.814655 150.188802 \nL 265.424603 150.463909 \nL 266.03455 150.400418 \nL 266.644497 150.505265 \nL 267.254444 150.442022 \nL 267.864391 150.045259 \nL 268.474338 149.817323 \nL 270.30418 149.636549 \nL 270.914127 149.248029 \nL 271.524074 149.025809 \nL 272.134021 149.131924 \nL 272.743969 148.911344 \nL 273.963863 148.149878 \nL 275.183757 147.71953 \nL 276.403652 147.614575 \nL 277.013599 147.402794 \nL 277.623546 147.670122 \nL 279.453387 147.041521 \nL 280.063335 147.306844 \nL 281.893176 147.625378 \nL 282.503123 147.263169 \nL 283.11307 147.524168 \nL 284.332965 147.732959 \nL 284.942912 147.990487 \nL 285.552859 147.785855 \nL 286.772753 147.990909 \nL 287.382701 148.244908 \nL 287.992648 148.345621 \nL 288.602595 148.142812 \nL 289.822489 148.041817 \nL 290.432436 148.292253 \nL 291.042384 148.091772 \nL 291.652331 147.742917 \nL 292.262278 147.843083 \nL 292.872225 147.794064 \nL 293.482172 148.041817 \nL 294.092119 147.992533 \nL 294.702067 147.796036 \nL 295.312014 147.894744 \nL 295.921961 148.139614 \nL 298.971697 148.620936 \nL 299.581644 148.860105 \nL 300.191591 148.665945 \nL 301.411485 148.567203 \nL 302.021433 148.661131 \nL 302.63138 148.897136 \nL 303.241327 148.705362 \nL 303.851274 148.656393 \nL 304.461221 148.890608 \nL 305.071168 148.559209 \nL 306.90101 148.835376 \nL 307.510957 149.066195 \nL 308.120904 149.156512 \nL 308.730851 149.107402 \nL 309.340799 149.197171 \nL 310.560693 148.823563 \nL 311.17064 148.913365 \nL 311.780587 148.728185 \nL 313.000482 148.906945 \nL 313.610429 149.131924 \nL 314.830323 149.307403 \nL 315.44027 149.259238 \nL 316.050217 149.34624 \nL 316.660165 149.298216 \nL 317.270112 149.384705 \nL 317.880059 149.336813 \nL 318.490006 149.422796 \nL 319.7099 149.327518 \nL 320.929795 149.762629 \nL 322.149689 149.666646 \nL 322.759636 149.881858 \nL 323.369583 149.702692 \nL 323.979531 149.916801 \nL 324.589478 149.738397 \nL 325.199425 149.691019 \nL 325.809372 149.903662 \nL 327.029266 149.808806 \nL 327.639214 149.890706 \nL 328.249161 149.714828 \nL 328.859108 149.668171 \nL 329.469055 149.749822 \nL 330.688949 149.146927 \nL 331.908844 149.057265 \nL 332.518791 148.886093 \nL 333.128738 149.09476 \nL 333.738685 148.798221 \nL 334.348632 148.754579 \nL 334.95858 148.836636 \nL 335.568527 148.542681 \nL 337.398368 148.788064 \nL 338.008315 148.745035 \nL 338.618263 148.826015 \nL 339.22821 148.783094 \nL 339.838157 148.617083 \nL 340.448104 148.820813 \nL 342.277946 149.060048 \nL 342.887893 149.261019 \nL 343.49784 149.217799 \nL 344.107787 149.417544 \nL 344.717734 149.495293 \nL 345.327681 149.693571 \nL 345.937629 149.649788 \nL 346.547576 149.846865 \nL 347.157523 149.802941 \nL 347.76747 149.879025 \nL 348.377417 149.596105 \nL 348.987365 149.672305 \nL 349.597312 149.867219 \nL 350.207259 149.942516 \nL 350.817206 149.898957 \nL 351.427153 149.618995 \nL 352.0371 149.576297 \nL 353.866942 149.801168 \nL 354.476889 149.407321 \nL 355.086836 149.248725 \nL 355.696783 149.44045 \nL 357.526625 149.663358 \nL 358.136572 149.621455 \nL 359.356466 149.88349 \nL 360.576361 149.799478 \nL 361.796255 150.05863 \nL 362.406202 150.01652 \nL 363.016149 150.088279 \nL 363.626097 149.932823 \nL 364.236044 150.117689 \nL 364.845991 150.075803 \nL 365.455938 150.14685 \nL 366.065885 150.10508 \nL 366.675832 150.288098 \nL 367.28578 150.246213 \nL 367.895727 149.980765 \nL 368.505674 150.16293 \nL 369.725568 150.080318 \nL 369.725568 150.080318 \n\" style=\"fill:none;stroke:#1f77b4;stroke-linecap:square;stroke-width:1.5;\"/>\n   </g>\n   <g id=\"line2d_17\">\n    <path clip-path=\"url(#p9809218395)\" d=\"M 65.361932 240.700909 \nL 65.971879 212.903182 \nL 66.581826 222.16909 \nL 67.191773 199.004317 \nL 67.80172 196.224547 \nL 68.411668 166.573634 \nL 69.021615 153.336622 \nL 69.631562 150.3583 \nL 70.241509 154.219089 \nL 70.851456 157.307725 \nL 71.461403 149.726534 \nL 72.681298 155.169439 \nL 73.291245 157.307725 \nL 73.901192 151.748185 \nL 74.511139 150.3583 \nL 75.731034 154.219089 \nL 76.340981 155.844689 \nL 76.950928 151.748185 \nL 78.170822 149.726534 \nL 78.780769 151.264743 \nL 80.000664 145.076725 \nL 81.220558 139.805457 \nL 81.830505 143.408867 \nL 82.440452 144.846677 \nL 83.0504 140.629088 \nL 83.660347 142.063817 \nL 84.270294 138.19679 \nL 84.880241 136.248845 \nL 85.490188 137.685802 \nL 86.100135 134.275326 \nL 86.710083 135.687272 \nL 87.32003 134.01774 \nL 87.929977 129.51 \nL 88.539924 132.361049 \nL 89.149871 132.289778 \nL 89.759819 133.577964 \nL 90.369766 132.157402 \nL 90.979713 134.681674 \nL 91.58966 134.564136 \nL 92.199607 131.980912 \nL 92.809554 133.135795 \nL 94.029449 132.984721 \nL 94.639396 134.048409 \nL 95.249343 136.18146 \nL 96.469237 135.92486 \nL 97.079185 134.754858 \nL 97.689132 132.598636 \nL 98.299079 133.55331 \nL 98.909026 132.48833 \nL 99.518973 130.48536 \nL 100.738868 128.567703 \nL 101.348815 129.51 \nL 103.178656 129.51 \nL 103.788603 131.247356 \nL 104.398551 131.220631 \nL 105.008498 132.037064 \nL 105.618445 131.169566 \nL 106.228392 131.962745 \nL 106.838339 131.927196 \nL 108.668181 134.142958 \nL 109.278128 134.079492 \nL 109.888075 135.520317 \nL 110.498022 135.440183 \nL 111.107969 136.09367 \nL 111.717917 135.286151 \nL 112.327864 136.637622 \nL 112.937811 135.139924 \nL 114.767652 136.967928 \nL 116.597494 136.704709 \nL 117.207441 135.974591 \nL 117.817388 136.539311 \nL 118.427335 136.459433 \nL 119.037283 137.006019 \nL 119.64723 136.922728 \nL 120.257177 137.452207 \nL 120.867124 137.365884 \nL 122.087018 138.381614 \nL 122.696966 138.288232 \nL 124.526807 139.721412 \nL 125.136754 139.056699 \nL 125.746701 139.517185 \nL 126.356649 139.418104 \nL 126.966596 140.411069 \nL 127.576543 139.765476 \nL 128.18649 140.736006 \nL 130.016332 141.980012 \nL 130.626279 141.864545 \nL 131.236226 142.771302 \nL 131.846173 142.650748 \nL 132.45612 141.029778 \nL 133.676015 141.809884 \nL 134.285962 141.701989 \nL 134.895909 142.079408 \nL 135.505856 142.929591 \nL 136.72575 143.644441 \nL 137.335698 142.591282 \nL 137.945645 142.018982 \nL 139.165539 141.81391 \nL 140.995381 142.852911 \nL 142.215275 142.642786 \nL 142.825222 142.974526 \nL 144.045116 142.767375 \nL 145.265011 141.724158 \nL 145.874958 141.632317 \nL 146.484905 141.956741 \nL 147.094852 141.452729 \nL 148.314747 142.089995 \nL 148.924694 141.998834 \nL 149.534641 142.308951 \nL 150.144588 143.011756 \nL 150.754535 143.310291 \nL 151.364482 143.996137 \nL 151.97443 143.894836 \nL 152.584377 144.181028 \nL 153.194324 144.079843 \nL 155.024165 144.911444 \nL 155.634113 145.554328 \nL 156.24406 145.076725 \nL 156.854007 145.341817 \nL 157.463954 144.871903 \nL 158.073901 145.134865 \nL 158.683848 144.672399 \nL 160.51369 144.382669 \nL 161.123637 144.992283 \nL 161.733584 144.894908 \nL 162.343531 145.146223 \nL 162.953479 145.739732 \nL 164.173373 144.858441 \nL 164.78332 144.086859 \nL 165.393267 144.335457 \nL 166.003214 144.915967 \nL 166.613162 145.156628 \nL 167.833056 144.313528 \nL 168.443003 144.553476 \nL 170.882792 144.207654 \nL 172.102686 145.304164 \nL 172.712633 144.900832 \nL 173.932528 144.728865 \nL 174.542475 144.953181 \nL 175.152422 145.482179 \nL 175.762369 145.699884 \nL 176.372316 145.003815 \nL 176.982263 145.523907 \nL 177.592211 145.437344 \nL 178.202158 145.949517 \nL 178.812105 146.158904 \nL 179.422052 146.66179 \nL 182.471788 144.777146 \nL 183.081735 144.698453 \nL 184.301629 145.110766 \nL 184.911577 145.595998 \nL 185.521524 145.795535 \nL 186.741418 145.632681 \nL 187.961312 146.023504 \nL 188.57126 146.489898 \nL 189.181207 145.861603 \nL 189.791154 145.781841 \nL 190.401101 145.97273 \nL 191.011048 145.8932 \nL 192.84089 146.45338 \nL 193.450837 146.37308 \nL 194.060784 146.555775 \nL 195.890626 146.317931 \nL 196.500573 146.75489 \nL 197.11052 145.650617 \nL 197.720467 146.086631 \nL 198.330414 146.264795 \nL 198.940361 146.188637 \nL 199.550309 145.61004 \nL 200.160256 145.787947 \nL 201.38015 145.642614 \nL 201.990097 145.818002 \nL 202.600044 145.745846 \nL 203.209992 145.429408 \nL 203.819939 144.871903 \nL 204.429886 144.804824 \nL 205.039833 144.980039 \nL 205.64978 144.431721 \nL 206.259727 144.36741 \nL 209.309463 145.226863 \nL 209.91941 145.628009 \nL 211.139305 145.030399 \nL 211.749252 145.42737 \nL 212.969146 145.296369 \nL 213.579093 144.77597 \nL 214.189041 144.713655 \nL 214.798988 144.425856 \nL 215.408935 144.365471 \nL 216.018882 143.857217 \nL 216.628829 143.576319 \nL 217.238776 143.964822 \nL 217.848724 144.128729 \nL 218.458671 143.8501 \nL 219.068618 144.013162 \nL 219.678565 143.737185 \nL 220.288512 144.117437 \nL 220.898459 143.843208 \nL 221.508407 143.787429 \nL 222.118354 143.516605 \nL 222.728301 143.677181 \nL 223.338248 143.408867 \nL 224.558142 144.151552 \nL 225.16809 144.095881 \nL 225.778037 144.251221 \nL 226.997931 143.722372 \nL 228.217825 144.031205 \nL 228.827773 143.977224 \nL 230.047667 144.691047 \nL 231.267561 144.172536 \nL 231.877508 143.713218 \nL 232.487456 143.45941 \nL 233.097403 143.610301 \nL 233.70735 143.358688 \nL 234.317297 143.508859 \nL 234.927244 143.458681 \nL 235.537191 143.210307 \nL 236.147139 143.557248 \nL 236.757086 143.704586 \nL 237.367033 143.065074 \nL 237.97698 142.625828 \nL 238.586927 142.579809 \nL 239.806822 142.876157 \nL 240.416769 142.443663 \nL 241.026716 142.20654 \nL 241.636663 142.546174 \nL 242.24661 142.119281 \nL 243.466505 142.033206 \nL 244.076452 141.801517 \nL 244.686399 141.759847 \nL 246.51624 142.196209 \nL 247.126188 142.153785 \nL 247.736135 142.482277 \nL 248.346082 142.439173 \nL 248.956029 142.580455 \nL 249.565976 142.904282 \nL 250.175923 143.043104 \nL 250.785871 142.998733 \nL 251.395818 143.136336 \nL 252.005765 143.454141 \nL 252.615712 143.589367 \nL 253.225659 143.543803 \nL 253.835606 143.319197 \nL 254.445554 143.453553 \nL 255.055501 143.052482 \nL 255.665448 143.009221 \nL 256.275395 142.789171 \nL 256.885342 142.92351 \nL 258.105237 143.540398 \nL 258.715184 143.496283 \nL 259.325131 143.626712 \nL 259.935078 143.930069 \nL 260.545025 143.885152 \nL 261.154972 143.49519 \nL 261.76492 143.62402 \nL 262.374867 143.580453 \nL 262.984814 143.708222 \nL 263.594761 144.005747 \nL 264.204708 143.961418 \nL 264.814655 144.256358 \nL 265.424603 144.042555 \nL 266.03455 143.998515 \nL 266.644497 144.290663 \nL 268.474338 144.157906 \nL 269.084286 144.280134 \nL 269.694233 144.567104 \nL 270.914127 144.478006 \nL 272.743969 144.835435 \nL 273.353916 145.115745 \nL 273.963863 145.070247 \nL 274.57381 145.186626 \nL 275.183757 145.463481 \nL 275.793704 145.578054 \nL 276.403652 145.371525 \nL 277.013599 145.485708 \nL 277.623546 145.280629 \nL 278.233493 145.394414 \nL 279.453387 145.93593 \nL 280.063335 145.731903 \nL 280.673282 145.843129 \nL 281.283229 146.110333 \nL 281.893176 146.219869 \nL 282.503123 146.173062 \nL 283.11307 145.971222 \nL 283.723018 146.080236 \nL 284.332965 146.343066 \nL 284.942912 146.296441 \nL 285.552859 146.09649 \nL 286.162806 146.203955 \nL 286.772753 146.463562 \nL 289.212542 146.279284 \nL 289.822489 146.083168 \nL 290.432436 146.038383 \nL 291.652331 146.248417 \nL 292.262278 145.905444 \nL 292.872225 146.158904 \nL 294.092119 146.366071 \nL 294.702067 146.321361 \nL 295.921961 145.645886 \nL 297.141855 145.85302 \nL 297.751802 146.101311 \nL 298.36175 145.912842 \nL 299.581644 146.116439 \nL 300.191591 146.361474 \nL 300.801538 146.174272 \nL 301.411485 145.844744 \nL 302.021433 146.088595 \nL 302.63138 145.90353 \nL 303.241327 146.145981 \nL 303.851274 145.96172 \nL 304.461221 145.919859 \nL 305.071168 146.019313 \nL 306.291063 145.93593 \nL 308.730851 146.327624 \nL 309.950746 146.24396 \nL 310.560693 146.34039 \nL 311.17064 146.298728 \nL 312.390534 146.489898 \nL 313.000482 146.448178 \nL 313.610429 146.270395 \nL 315.44027 146.553861 \nL 316.050217 146.377554 \nL 317.270112 146.296068 \nL 318.490006 146.749936 \nL 319.7099 146.933459 \nL 320.319848 147.157245 \nL 320.929795 146.982859 \nL 321.539742 147.073407 \nL 322.149689 147.031795 \nL 323.369583 147.211383 \nL 323.979531 146.777299 \nL 325.809372 146.656265 \nL 326.419319 146.4867 \nL 327.639214 146.665908 \nL 328.249161 146.626192 \nL 330.079002 146.891565 \nL 330.688949 147.106727 \nL 333.128738 147.452169 \nL 333.738685 147.285421 \nL 334.348632 147.370982 \nL 336.178474 147.250577 \nL 336.788421 147.33545 \nL 337.398368 147.295569 \nL 338.618263 147.46399 \nL 339.22821 147.671182 \nL 339.838157 147.754184 \nL 340.448104 147.959818 \nL 341.667998 147.87854 \nL 342.277946 147.715984 \nL 342.887893 147.676062 \nL 343.49784 147.757961 \nL 344.717734 147.193961 \nL 345.937629 147.11724 \nL 346.547576 147.319801 \nL 347.76747 147.243038 \nL 348.377417 147.444017 \nL 348.987365 147.524839 \nL 350.817206 147.05398 \nL 352.0371 147.215559 \nL 352.647048 147.178047 \nL 353.256995 147.37577 \nL 353.866942 147.338076 \nL 356.306731 147.654125 \nL 357.526625 147.578522 \nL 358.136572 147.425377 \nL 358.746519 147.388205 \nL 359.356466 147.466293 \nL 359.966414 147.429196 \nL 360.576361 147.506879 \nL 361.186308 147.469847 \nL 361.796255 147.204657 \nL 362.406202 147.282322 \nL 363.016149 147.132284 \nL 363.626097 147.209776 \nL 364.845991 147.476823 \nL 366.065885 147.629164 \nL 367.895727 147.519794 \nL 369.115621 147.113371 \nL 369.725568 147.189355 \nL 369.725568 147.189355 \n\" style=\"fill:none;stroke:#ff7f0e;stroke-linecap:square;stroke-width:1.5;\"/>\n   </g>\n   <g id=\"line2d_18\">\n    <path clip-path=\"url(#p9809218395)\" d=\"M 65.361932 185.105455 \nL 65.971879 157.307725 \nL 66.581826 185.105455 \nL 67.191773 199.004317 \nL 67.80172 173.986366 \nL 68.411668 166.573634 \nL 69.021615 161.278829 \nL 69.631562 157.307725 \nL 70.241509 160.396361 \nL 70.851456 162.867274 \nL 72.071351 157.307725 \nL 73.291245 161.278829 \nL 73.901192 162.867274 \nL 74.511139 167.731879 \nL 75.731034 163.484997 \nL 76.340981 164.622922 \nL 76.950928 162.867274 \nL 77.560875 158.631426 \nL 78.170822 162.361861 \nL 78.780769 160.93352 \nL 79.390717 157.307725 \nL 80.000664 160.643459 \nL 80.610611 157.307725 \nL 81.220558 160.396361 \nL 82.440452 154.432105 \nL 83.0504 155.454545 \nL 83.660347 151.030825 \nL 84.880241 153.095952 \nL 85.490188 150.767084 \nL 86.100135 151.748185 \nL 86.710083 149.586139 \nL 87.32003 149.043538 \nL 87.929977 149.992537 \nL 88.539924 146.616292 \nL 89.149871 146.188637 \nL 89.759819 144.425856 \nL 90.369766 145.394414 \nL 91.58966 144.672399 \nL 92.199607 141.864545 \nL 92.809554 142.804564 \nL 93.419502 140.155943 \nL 94.639396 139.721412 \nL 95.85929 141.501176 \nL 97.079185 141.048683 \nL 97.689132 138.775908 \nL 98.299079 139.618263 \nL 99.518973 143.165025 \nL 100.12892 142.929591 \nL 100.738868 143.644441 \nL 101.348815 143.408867 \nL 101.958762 145.003815 \nL 102.568709 144.753917 \nL 103.178656 141.864545 \nL 104.398551 141.484408 \nL 105.008498 139.618263 \nL 106.228392 139.320962 \nL 107.448286 140.629088 \nL 108.058234 142.038558 \nL 108.668181 142.636706 \nL 109.278128 141.695303 \nL 110.498022 142.852911 \nL 111.107969 141.945831 \nL 111.717917 142.506343 \nL 112.327864 140.914195 \nL 113.547758 140.629088 \nL 114.157705 139.805457 \nL 114.767652 140.357891 \nL 115.3776 140.227197 \nL 115.987547 141.423311 \nL 117.207441 141.146257 \nL 118.427335 143.408867 \nL 119.037283 142.003366 \nL 119.64723 142.482277 \nL 120.257177 141.72878 \nL 120.867124 142.200269 \nL 121.477071 142.063817 \nL 122.087018 142.521702 \nL 123.306913 142.250629 \nL 123.91686 142.692426 \nL 124.526807 142.557913 \nL 127.576543 144.62333 \nL 128.796437 143.276491 \nL 130.016332 144.058345 \nL 131.236226 141.751206 \nL 131.846173 142.145335 \nL 132.45612 142.031499 \nL 133.676015 142.793868 \nL 135.505856 142.450324 \nL 136.72575 143.173292 \nL 137.335698 143.992848 \nL 137.945645 144.335457 \nL 138.555592 144.212931 \nL 139.165539 143.181013 \nL 139.775486 143.973861 \nL 140.385433 144.305567 \nL 140.995381 144.1872 \nL 141.605328 143.188246 \nL 142.215275 143.080549 \nL 142.825222 142.540184 \nL 144.045116 143.195039 \nL 144.655064 143.939356 \nL 145.874958 142.886355 \nL 147.094852 143.511817 \nL 147.704799 143.408867 \nL 148.314747 143.713218 \nL 148.924694 144.416031 \nL 150.144588 144.203089 \nL 150.754535 144.887469 \nL 151.364482 143.604626 \nL 151.97443 143.894836 \nL 152.584377 143.794943 \nL 153.194324 143.313008 \nL 154.414218 143.125218 \nL 155.024165 143.408867 \nL 155.634113 142.569337 \nL 156.24406 142.852911 \nL 156.854007 142.76455 \nL 158.073901 141.864545 \nL 158.683848 141.784319 \nL 159.293796 142.422497 \nL 162.953479 144.013162 \nL 163.563426 144.610001 \nL 164.173373 144.858441 \nL 164.78332 144.425856 \nL 165.393267 144.335457 \nL 166.003214 144.581055 \nL 167.223109 144.401641 \nL 167.833056 143.984556 \nL 168.443003 144.553476 \nL 169.05295 144.140385 \nL 169.662897 144.055321 \nL 170.272845 144.29261 \nL 170.882792 144.207654 \nL 171.492739 143.805978 \nL 172.102686 143.72475 \nL 172.712633 143.958535 \nL 173.32258 143.877364 \nL 173.932528 144.107695 \nL 174.542475 143.408867 \nL 175.152422 143.94639 \nL 175.762369 143.561597 \nL 176.372316 143.788614 \nL 178.202158 142.661617 \nL 178.812105 142.591282 \nL 179.422052 142.817421 \nL 181.861841 144.856659 \nL 183.081735 144.698453 \nL 183.691682 145.190768 \nL 184.301629 144.827117 \nL 184.911577 145.313783 \nL 185.521524 145.233971 \nL 186.131471 144.875581 \nL 188.57126 145.668287 \nL 189.791154 144.96825 \nL 191.011048 145.356049 \nL 191.620995 145.279866 \nL 195.280678 146.396475 \nL 195.890626 146.059343 \nL 196.500573 145.982729 \nL 197.11052 146.419216 \nL 198.330414 146.264795 \nL 198.940361 146.441343 \nL 200.160256 145.787947 \nL 201.38015 146.138997 \nL 202.600044 145.991842 \nL 203.209992 146.409059 \nL 203.819939 146.091105 \nL 205.039833 145.946915 \nL 205.64978 146.116439 \nL 206.259727 146.524129 \nL 207.479622 146.378705 \nL 208.089569 145.833776 \nL 209.309463 146.165184 \nL 209.91941 145.861603 \nL 211.139305 146.188637 \nL 211.749252 145.196683 \nL 212.359199 145.3616 \nL 212.969146 145.296369 \nL 214.189041 145.62134 \nL 214.798988 146.007839 \nL 215.408935 145.715964 \nL 216.018882 145.874792 \nL 216.628829 145.585792 \nL 217.238776 145.743874 \nL 217.848724 145.679198 \nL 218.458671 146.056269 \nL 219.678565 146.363743 \nL 220.288512 146.079631 \nL 220.898459 146.449238 \nL 221.508407 146.383328 \nL 222.118354 146.533416 \nL 222.728301 146.897 \nL 223.338248 146.83012 \nL 224.558142 147.546693 \nL 225.16809 147.689507 \nL 225.778037 147.62064 \nL 226.997931 147.902482 \nL 227.607878 148.250044 \nL 228.827773 148.524058 \nL 229.43772 148.247725 \nL 230.047667 148.383738 \nL 230.657614 148.314348 \nL 231.267561 148.652756 \nL 231.877508 148.785794 \nL 232.487456 148.7157 \nL 233.097403 148.041817 \nL 233.70735 148.175626 \nL 234.317297 147.908496 \nL 234.927244 148.041817 \nL 235.537191 147.37997 \nL 236.147139 147.118524 \nL 237.367033 146.994084 \nL 237.97698 147.128283 \nL 238.586927 147.456601 \nL 239.806822 147.33154 \nL 240.416769 147.65574 \nL 241.026716 147.400582 \nL 241.636663 146.955471 \nL 242.24661 147.086571 \nL 242.856557 146.835986 \nL 243.466505 146.966597 \nL 244.076452 146.718116 \nL 244.686399 147.036708 \nL 245.296346 146.789668 \nL 245.906293 146.731487 \nL 246.51624 147.046823 \nL 247.126188 147.174112 \nL 247.736135 147.485861 \nL 248.346082 147.610847 \nL 248.956029 147.55091 \nL 249.565976 147.674852 \nL 250.175923 147.43222 \nL 251.395818 147.315079 \nL 252.005765 147.438176 \nL 252.615712 147.199462 \nL 253.225659 147.142217 \nL 253.835606 147.444017 \nL 254.445554 147.386349 \nL 255.055501 147.507251 \nL 256.275395 147.392612 \nL 256.885342 147.688836 \nL 258.105237 147.223379 \nL 258.715184 147.342508 \nL 259.935078 146.883579 \nL 260.545025 146.829458 \nL 261.154972 147.120984 \nL 261.76492 147.066457 \nL 262.374867 147.355457 \nL 263.594761 147.245971 \nL 264.814655 147.476823 \nL 265.424603 147.422212 \nL 266.03455 147.704875 \nL 266.644497 147.817874 \nL 267.254444 147.762725 \nL 267.864391 148.041817 \nL 268.474338 147.986336 \nL 269.694233 148.20728 \nL 270.30418 148.1518 \nL 270.914127 148.425615 \nL 271.524074 148.205814 \nL 272.134021 147.823797 \nL 273.353916 148.041817 \nL 273.963863 147.987794 \nL 274.57381 147.610847 \nL 275.793704 147.506216 \nL 276.403652 147.294136 \nL 277.013599 147.56255 \nL 278.233493 147.777082 \nL 278.84344 147.725039 \nL 279.453387 147.831228 \nL 280.063335 147.621832 \nL 280.673282 147.570668 \nL 282.503123 147.886087 \nL 283.11307 147.679467 \nL 283.723018 147.009402 \nL 284.332965 147.269664 \nL 285.552859 147.478695 \nL 286.162806 147.12289 \nL 286.772753 147.074501 \nL 287.382701 147.33101 \nL 288.602595 147.536868 \nL 289.212542 147.185727 \nL 289.822489 147.137827 \nL 290.432436 147.390699 \nL 291.042384 147.492356 \nL 291.652331 147.742917 \nL 292.262278 147.843083 \nL 292.872225 147.794064 \nL 293.482172 147.893568 \nL 294.702067 147.796036 \nL 295.312014 148.041817 \nL 295.921961 147.992922 \nL 296.531908 147.797983 \nL 297.141855 147.895896 \nL 297.751802 147.702232 \nL 298.971697 147.897039 \nL 300.801538 147.754507 \nL 301.411485 147.850771 \nL 302.021433 147.803625 \nL 302.63138 147.899268 \nL 303.241327 147.56786 \nL 304.461221 147.758889 \nL 305.071168 147.994786 \nL 305.681116 147.807237 \nL 306.90101 147.995143 \nL 307.510957 147.948692 \nL 308.120904 148.041817 \nL 309.950746 147.903526 \nL 310.560693 148.13379 \nL 311.780587 148.316369 \nL 312.390534 148.543916 \nL 313.000482 148.497151 \nL 313.610429 148.58687 \nL 314.220376 148.268369 \nL 314.830323 148.087016 \nL 315.44027 148.312359 \nL 316.050217 148.131777 \nL 316.660165 148.355919 \nL 317.270112 148.176106 \nL 319.099953 148.441786 \nL 320.319848 148.086047 \nL 320.929795 148.174193 \nL 321.539742 148.393969 \nL 322.149689 148.480963 \nL 322.759636 148.30468 \nL 325.199425 148.649417 \nL 325.809372 148.344909 \nL 326.419319 148.560195 \nL 327.029266 148.645184 \nL 327.639214 148.342804 \nL 328.249161 148.556591 \nL 328.859108 148.641 \nL 329.469055 148.468818 \nL 330.079002 148.553045 \nL 330.688949 148.509362 \nL 331.908844 148.676474 \nL 334.348632 149.509268 \nL 334.95858 149.464127 \nL 335.568527 149.669612 \nL 336.178474 149.749242 \nL 336.788421 149.579213 \nL 337.398368 149.534312 \nL 338.008315 149.613718 \nL 338.618263 149.568941 \nL 339.22821 149.277273 \nL 339.838157 149.356712 \nL 340.448104 149.066809 \nL 341.058051 148.900914 \nL 342.277946 149.060048 \nL 342.887893 149.017177 \nL 343.49784 148.731184 \nL 344.107787 148.931997 \nL 344.717734 149.010806 \nL 345.327681 148.968407 \nL 345.937629 149.167397 \nL 346.547576 148.884171 \nL 347.76747 148.800665 \nL 348.377417 148.878737 \nL 350.207259 148.754579 \nL 350.817206 148.950629 \nL 351.427153 148.909265 \nL 353.256995 149.138841 \nL 353.866942 149.332008 \nL 355.086836 149.482319 \nL 356.306731 149.049826 \nL 356.916678 149.125097 \nL 358.136572 149.043538 \nL 358.746519 149.118354 \nL 359.356466 148.732443 \nL 361.186308 148.956974 \nL 361.796255 148.917035 \nL 362.406202 148.763344 \nL 363.016149 148.837663 \nL 363.626097 148.457841 \nL 364.845991 148.267814 \nL 365.455938 148.342539 \nL 367.895727 149.085863 \nL 369.725568 149.301985 \nL 369.725568 149.301985 \n\" style=\"fill:none;stroke:#2ca02c;stroke-linecap:square;stroke-width:1.5;\"/>\n   </g>\n   <g id=\"line2d_19\">\n    <path clip-path=\"url(#p9809218395)\" d=\"M 65.361932 129.51 \nL 65.971879 157.307725 \nL 66.581826 129.51 \nL 67.191773 157.307725 \nL 67.80172 162.867274 \nL 68.411668 175.839546 \nL 69.021615 185.105455 \nL 69.631562 171.206592 \nL 70.241509 160.396361 \nL 70.851456 151.748185 \nL 71.461403 159.834797 \nL 72.681298 146.616292 \nL 73.901192 151.748185 \nL 74.511139 153.833013 \nL 75.121086 158.942886 \nL 75.731034 151.130453 \nL 76.950928 154.527955 \nL 77.560875 153.336622 \nL 78.170822 147.199462 \nL 78.780769 146.430358 \nL 79.390717 148.041817 \nL 80.000664 151.748185 \nL 81.220558 154.219089 \nL 83.0504 157.307725 \nL 83.660347 158.204433 \nL 84.270294 155.570369 \nL 86.100135 153.336622 \nL 86.710083 154.219089 \nL 87.929977 152.918617 \nL 89.149871 148.968407 \nL 90.369766 150.689219 \nL 90.979713 152.782513 \nL 92.809554 154.890537 \nL 93.419502 154.350521 \nL 94.029449 154.99125 \nL 94.639396 156.740428 \nL 95.249343 152.860088 \nL 95.85929 151.312137 \nL 97.079185 150.489417 \nL 97.689132 151.130453 \nL 98.299079 150.73736 \nL 99.518973 151.943257 \nL 100.738868 151.182802 \nL 101.348815 152.674775 \nL 101.958762 150.472218 \nL 102.568709 151.030825 \nL 103.788603 150.3583 \nL 104.398551 150.892866 \nL 105.008498 150.568889 \nL 105.618445 151.914138 \nL 106.228392 151.584668 \nL 106.838339 150.459013 \nL 108.058234 151.43497 \nL 108.668181 152.674775 \nL 109.278128 152.357451 \nL 109.888075 150.546123 \nL 110.498022 149.524362 \nL 111.107969 150.724055 \nL 114.157705 152.846361 \nL 114.767652 153.239769 \nL 115.987547 151.351074 \nL 117.207441 153.428976 \nL 117.817388 151.875988 \nL 118.427335 150.990066 \nL 119.037283 151.373384 \nL 119.64723 151.130453 \nL 120.257177 150.281927 \nL 120.867124 150.056144 \nL 121.477071 151.030825 \nL 122.087018 150.210432 \nL 122.696966 151.162969 \nL 123.306913 151.516538 \nL 123.91686 150.716516 \nL 124.526807 150.50012 \nL 125.136754 150.849671 \nL 126.356649 150.427102 \nL 127.576543 151.100472 \nL 128.18649 151.962013 \nL 128.796437 152.277664 \nL 129.406384 151.0139 \nL 130.016332 150.293351 \nL 130.626279 150.100913 \nL 131.846173 150.73736 \nL 132.45612 151.547836 \nL 133.676015 151.157791 \nL 134.285962 151.455573 \nL 134.895909 151.264743 \nL 135.505856 150.597934 \nL 136.115803 150.892866 \nL 136.72575 150.240513 \nL 137.335698 151.000678 \nL 137.945645 150.3583 \nL 138.555592 150.185994 \nL 139.775486 150.753796 \nL 140.385433 150.134125 \nL 140.995381 149.969125 \nL 141.605328 150.689219 \nL 142.215275 150.084701 \nL 142.825222 150.3583 \nL 143.435169 149.334733 \nL 144.045116 149.609899 \nL 144.655064 149.456464 \nL 145.265011 150.147711 \nL 145.874958 150.41055 \nL 147.094852 150.100913 \nL 147.704799 150.3583 \nL 148.314747 149.800315 \nL 148.924694 149.653284 \nL 149.534641 150.308304 \nL 150.144588 150.556852 \nL 150.754535 149.618995 \nL 151.364482 149.085863 \nL 151.97443 149.726534 \nL 152.584377 149.586139 \nL 153.194324 149.831099 \nL 153.804271 149.311123 \nL 155.634113 150.031813 \nL 156.24406 150.636274 \nL 156.854007 150.128185 \nL 157.463954 149.992537 \nL 158.073901 150.222031 \nL 158.683848 150.087542 \nL 159.903743 148.398202 \nL 160.51369 147.923781 \nL 161.123637 147.807237 \nL 162.343531 148.968407 \nL 162.953479 148.156928 \nL 163.563426 148.385005 \nL 164.78332 148.154816 \nL 165.393267 148.7157 \nL 167.223109 148.372744 \nL 167.833056 148.590101 \nL 168.443003 148.150831 \nL 169.05295 148.692057 \nL 169.662897 148.903764 \nL 170.272845 148.79166 \nL 170.882792 148.361337 \nL 172.102686 148.778877 \nL 172.712633 148.355919 \nL 173.32258 148.562373 \nL 173.932528 148.145347 \nL 175.152422 148.553749 \nL 175.762369 147.532701 \nL 176.372316 148.041817 \nL 176.982263 148.243251 \nL 177.592211 148.141991 \nL 178.202158 148.639617 \nL 178.812105 148.834623 \nL 179.422052 148.140392 \nL 180.031999 148.041817 \nL 180.641946 148.236889 \nL 181.251894 147.847772 \nL 181.861841 147.752262 \nL 182.471788 147.945801 \nL 183.691682 147.756719 \nL 184.911577 147.00705 \nL 185.521524 147.199462 \nL 186.131471 147.110571 \nL 186.741418 146.744592 \nL 188.57126 146.489898 \nL 189.181207 146.679187 \nL 190.401101 146.512498 \nL 191.011048 146.161779 \nL 191.620995 146.349006 \nL 192.84089 146.188637 \nL 193.450837 146.37308 \nL 194.060784 146.031292 \nL 194.670731 146.214741 \nL 195.280678 146.656265 \nL 195.890626 146.576511 \nL 196.500573 146.240116 \nL 197.720467 146.596675 \nL 198.940361 146.441343 \nL 200.160256 146.789668 \nL 201.38015 146.635388 \nL 201.990097 147.053459 \nL 202.600044 146.72983 \nL 203.209992 147.1438 \nL 203.819939 147.310299 \nL 204.429886 147.718122 \nL 205.64978 147.079132 \nL 206.869675 146.928323 \nL 208.699516 147.413621 \nL 209.309463 147.338076 \nL 209.91941 147.496763 \nL 210.529358 147.188891 \nL 211.139305 147.578522 \nL 211.749252 147.503548 \nL 212.359199 147.199462 \nL 212.969146 147.584246 \nL 213.579093 147.510167 \nL 214.798988 146.911829 \nL 216.628829 148.041817 \nL 217.238776 147.745311 \nL 218.458671 148.041817 \nL 219.068618 147.968575 \nL 220.288512 147.387758 \nL 220.898459 147.31792 \nL 221.508407 147.464951 \nL 222.118354 147.395363 \nL 223.948195 147.828809 \nL 224.558142 147.546693 \nL 225.778037 147.410051 \nL 226.387984 147.132715 \nL 226.997931 147.275463 \nL 228.217825 146.727999 \nL 228.827773 147.077342 \nL 229.43772 147.218185 \nL 230.047667 146.947692 \nL 230.657614 147.292371 \nL 231.267561 147.023585 \nL 233.70735 147.57351 \nL 234.317297 147.508527 \nL 235.537191 147.777082 \nL 236.757086 147.647522 \nL 237.367033 147.976337 \nL 237.97698 147.519794 \nL 239.196874 147.782632 \nL 240.416769 148.427901 \nL 241.026716 148.170067 \nL 241.636663 148.105722 \nL 243.466505 148.484558 \nL 244.686399 148.355919 \nL 245.296346 148.480068 \nL 245.906293 148.416196 \nL 246.51624 148.166198 \nL 247.126188 148.475677 \nL 247.736135 148.227138 \nL 248.346082 148.534356 \nL 248.956029 148.655457 \nL 249.565976 148.225299 \nL 250.175923 148.163738 \nL 252.615712 148.643502 \nL 253.225659 148.941425 \nL 253.835606 148.878737 \nL 254.445554 149.173992 \nL 255.055501 149.110964 \nL 255.665448 148.693101 \nL 257.495289 149.038783 \nL 258.105237 148.97718 \nL 258.715184 149.090792 \nL 259.325131 148.855126 \nL 259.935078 148.968407 \nL 260.545025 148.90779 \nL 261.154972 149.192863 \nL 261.76492 149.131924 \nL 262.374867 148.899771 \nL 262.984814 148.497987 \nL 263.594761 148.610282 \nL 264.204708 148.551869 \nL 265.424603 147.760181 \nL 266.03455 147.704875 \nL 266.644497 147.481943 \nL 267.254444 147.762725 \nL 267.864391 147.54096 \nL 268.474338 147.486971 \nL 269.084286 147.1014 \nL 270.30418 147.656884 \nL 270.914127 147.603193 \nL 272.134021 147.823797 \nL 272.743969 147.607053 \nL 273.353916 147.716697 \nL 273.963863 147.987794 \nL 274.57381 147.934079 \nL 275.183757 148.041817 \nL 275.793704 148.309617 \nL 276.403652 148.415657 \nL 277.013599 148.361337 \nL 277.623546 148.148022 \nL 278.84344 148.358603 \nL 279.453387 148.147111 \nL 280.063335 148.409303 \nL 280.673282 148.041817 \nL 281.283229 147.519794 \nL 281.893176 147.313041 \nL 283.723018 147.628858 \nL 284.332965 147.424093 \nL 286.162806 147.735511 \nL 287.382701 147.635643 \nL 287.992648 147.738021 \nL 288.602595 147.688348 \nL 289.212542 147.941104 \nL 289.822489 147.891157 \nL 290.432436 147.99173 \nL 291.652331 147.892367 \nL 292.262278 148.141188 \nL 292.872225 148.24002 \nL 293.482172 147.597054 \nL 294.702067 147.796036 \nL 295.312014 147.747664 \nL 295.921961 147.992922 \nL 297.141855 148.187738 \nL 298.36175 147.799888 \nL 298.971697 147.462698 \nL 300.191591 147.657737 \nL 300.801538 147.610847 \nL 301.411485 147.420912 \nL 302.63138 147.329055 \nL 303.241327 147.425675 \nL 304.461221 147.05157 \nL 305.071168 147.148157 \nL 306.90101 146.594753 \nL 307.510957 146.551823 \nL 308.120904 146.369774 \nL 308.730851 146.466619 \nL 309.340799 146.285688 \nL 309.950746 146.24396 \nL 310.560693 146.478341 \nL 311.17064 146.161116 \nL 312.390534 146.079093 \nL 313.610429 146.270395 \nL 314.220376 146.501281 \nL 314.830323 146.324235 \nL 316.050217 146.782377 \nL 316.660165 146.471324 \nL 317.880059 146.657515 \nL 318.490006 145.948084 \nL 320.929795 145.791526 \nL 321.539742 146.016968 \nL 322.759636 145.938921 \nL 323.369583 146.162417 \nL 323.979531 146.254042 \nL 325.199425 146.175614 \nL 326.419319 146.357108 \nL 327.029266 146.576511 \nL 328.249161 146.75489 \nL 328.859108 146.715059 \nL 330.079002 146.891565 \nL 330.688949 146.851701 \nL 331.298897 146.684796 \nL 331.908844 146.264795 \nL 332.518791 146.226629 \nL 333.128738 146.062284 \nL 334.348632 145.987385 \nL 334.95858 146.075688 \nL 335.568527 146.038383 \nL 336.178474 146.126173 \nL 336.788421 145.964263 \nL 338.008315 146.138997 \nL 338.618263 146.101966 \nL 339.838157 145.781841 \nL 340.448104 145.868844 \nL 341.058051 146.078181 \nL 341.667998 146.164148 \nL 342.277946 146.37192 \nL 342.887893 146.213018 \nL 344.107787 146.382856 \nL 344.717734 146.588341 \nL 345.327681 146.672079 \nL 345.937629 146.514254 \nL 347.157523 146.680952 \nL 347.76747 146.643946 \nL 350.817206 147.05398 \nL 351.427153 147.253228 \nL 352.647048 146.942473 \nL 353.256995 146.43547 \nL 353.866942 146.165184 \nL 355.086836 146.328792 \nL 355.696783 146.526639 \nL 356.306731 146.607345 \nL 356.916678 146.571656 \nL 358.136572 146.731876 \nL 358.746519 146.580802 \nL 359.356466 146.545461 \nL 359.966414 146.395398 \nL 360.576361 146.360579 \nL 361.186308 145.982729 \nL 362.406202 146.370918 \nL 363.016149 146.336438 \nL 364.236044 146.494355 \nL 364.845991 146.459834 \nL 365.455938 146.199912 \nL 366.065885 146.166128 \nL 367.28578 145.986879 \nL 368.505674 145.920704 \nL 369.115621 145.999231 \nL 369.725568 145.855067 \nL 369.725568 145.855067 \n\" style=\"fill:none;stroke:#d62728;stroke-linecap:square;stroke-width:1.5;\"/>\n   </g>\n   <g id=\"line2d_20\">\n    <path clip-path=\"url(#p9809218395)\" d=\"M 65.361932 73.914541 \nL 65.971879 73.914541 \nL 66.581826 110.978183 \nL 67.191773 73.914541 \nL 67.80172 73.914541 \nL 69.021615 113.625586 \nL 69.631562 108.661708 \nL 70.241509 117.155455 \nL 70.851456 118.390912 \nL 71.461403 124.455873 \nL 72.071351 124.87705 \nL 73.291245 117.596689 \nL 73.901192 114.684543 \nL 74.511139 105.186987 \nL 75.121086 106.617756 \nL 75.731034 110.978183 \nL 76.340981 111.953543 \nL 76.950928 110.051593 \nL 78.170822 116.874673 \nL 78.780769 117.424035 \nL 79.390717 115.611142 \nL 80.000664 116.167089 \nL 80.610611 118.818567 \nL 81.220558 117.155455 \nL 82.440452 118.007494 \nL 83.0504 120.244092 \nL 83.660347 118.749592 \nL 84.270294 122.560567 \nL 84.880241 124.455873 \nL 85.490188 122.969359 \nL 86.100135 124.744674 \nL 86.710083 124.87705 \nL 87.929977 128.046964 \nL 88.539924 128.084476 \nL 89.149871 130.899885 \nL 89.759819 130.865985 \nL 90.369766 133.481104 \nL 90.979713 130.802916 \nL 92.199607 133.216368 \nL 92.809554 131.927196 \nL 93.419502 134.241526 \nL 94.029449 135.301196 \nL 94.639396 135.183011 \nL 95.249343 137.293363 \nL 97.079185 139.999708 \nL 99.518973 143.165025 \nL 100.12892 143.888134 \nL 100.738868 142.702144 \nL 101.348815 140.629088 \nL 101.958762 139.535411 \nL 104.398551 142.339719 \nL 105.008498 142.987689 \nL 105.618445 142.786528 \nL 106.228392 143.408867 \nL 106.838339 142.401703 \nL 108.058234 145.170695 \nL 108.668181 144.953181 \nL 109.278128 146.264795 \nL 110.498022 147.300548 \nL 111.107969 145.603421 \nL 112.327864 143.765244 \nL 112.937811 143.584802 \nL 113.547758 142.713924 \nL 114.157705 142.550913 \nL 114.767652 141.713885 \nL 115.3776 142.23667 \nL 115.987547 143.408867 \nL 116.597494 143.24535 \nL 117.817388 144.207654 \nL 118.427335 143.408867 \nL 119.037283 143.877364 \nL 119.64723 143.717733 \nL 120.867124 144.617465 \nL 121.477071 143.857217 \nL 122.696966 144.725601 \nL 123.306913 145.725342 \nL 123.91686 145.558172 \nL 124.526807 145.96172 \nL 125.136754 146.91868 \nL 125.746701 147.300548 \nL 126.356649 146.573951 \nL 126.966596 146.95171 \nL 127.576543 146.782377 \nL 128.18649 146.081727 \nL 129.406384 146.818017 \nL 130.016332 146.656265 \nL 131.236226 148.381857 \nL 131.846173 147.199462 \nL 132.45612 147.040096 \nL 133.066067 146.387197 \nL 133.676015 146.237838 \nL 134.895909 144.980039 \nL 136.72575 144.586738 \nL 137.335698 144.927226 \nL 137.945645 144.798752 \nL 139.165539 146.370918 \nL 139.775486 145.781841 \nL 140.385433 145.650617 \nL 140.995381 146.411022 \nL 141.605328 146.276882 \nL 142.825222 146.883579 \nL 143.435169 146.7489 \nL 144.045116 147.043956 \nL 144.655064 147.758889 \nL 145.265011 148.041817 \nL 145.874958 148.738507 \nL 146.484905 148.180116 \nL 147.704799 148.72314 \nL 148.314747 148.177092 \nL 148.924694 148.444686 \nL 149.534641 147.908496 \nL 150.144588 147.777082 \nL 151.364482 148.302832 \nL 151.97443 147.782632 \nL 153.194324 147.530597 \nL 153.804271 147.026377 \nL 154.414218 147.285421 \nL 155.024165 146.038383 \nL 155.634113 146.300575 \nL 156.24406 146.188637 \nL 158.073901 148.041817 \nL 158.683848 148.282494 \nL 159.293796 148.878737 \nL 159.903743 148.754579 \nL 160.51369 149.340226 \nL 161.123637 148.510977 \nL 161.733584 148.041817 \nL 162.953479 148.502237 \nL 163.563426 147.698637 \nL 165.393267 148.378759 \nL 166.003214 147.930185 \nL 166.613162 148.152786 \nL 167.223109 148.041817 \nL 167.833056 148.261129 \nL 168.443003 147.823797 \nL 169.662897 148.25731 \nL 170.272845 148.148942 \nL 171.492739 148.571304 \nL 172.102686 147.831228 \nL 172.712633 147.727723 \nL 173.32258 147.000704 \nL 173.932528 147.213579 \nL 175.152422 147.01796 \nL 175.762369 147.227231 \nL 176.372316 147.13042 \nL 177.592211 147.54096 \nL 178.202158 147.145117 \nL 178.812105 147.645418 \nL 179.422052 147.844674 \nL 180.641946 147.066457 \nL 181.251894 147.265621 \nL 181.861841 146.883579 \nL 182.471788 147.369681 \nL 183.081735 147.277617 \nL 183.691682 147.471612 \nL 184.301629 147.947267 \nL 184.911577 148.135886 \nL 185.521524 148.603389 \nL 186.741418 148.968407 \nL 187.351365 148.871604 \nL 187.961312 149.050977 \nL 188.57126 148.133111 \nL 189.181207 148.041817 \nL 189.791154 148.222615 \nL 190.401101 147.861897 \nL 191.011048 148.041817 \nL 191.620995 147.952727 \nL 192.230943 148.130493 \nL 192.84089 148.041817 \nL 193.450837 148.480963 \nL 194.060784 148.129233 \nL 195.280678 147.95522 \nL 196.500573 148.813978 \nL 197.11052 148.981223 \nL 197.720467 148.636875 \nL 198.940361 148.462994 \nL 199.550309 148.880361 \nL 200.160256 149.043538 \nL 200.770203 148.955947 \nL 201.38015 148.620936 \nL 202.600044 149.435803 \nL 203.209992 148.8582 \nL 203.819939 149.261019 \nL 205.64978 149.726534 \nL 206.259727 149.639391 \nL 206.869675 149.791608 \nL 208.089569 149.618995 \nL 208.699516 149.062642 \nL 210.529358 148.817209 \nL 211.749252 149.579727 \nL 212.359199 149.726534 \nL 212.969146 150.100913 \nL 214.798988 149.849806 \nL 215.408935 149.992537 \nL 216.018882 149.90995 \nL 216.628829 150.05129 \nL 217.238776 149.746748 \nL 218.458671 150.027373 \nL 219.068618 149.726534 \nL 219.678565 149.646938 \nL 220.288512 150.004011 \nL 222.118354 150.412165 \nL 223.948195 149.532887 \nL 224.558142 149.66866 \nL 225.16809 149.169228 \nL 225.778037 149.09476 \nL 226.387984 149.44045 \nL 226.997931 149.365518 \nL 227.607878 149.08293 \nL 228.217825 149.424793 \nL 228.827773 149.144085 \nL 229.43772 149.277273 \nL 230.047667 149.204329 \nL 230.657614 148.72314 \nL 231.267561 148.856402 \nL 231.877508 149.191604 \nL 232.487456 149.322199 \nL 233.097403 149.250415 \nL 233.70735 148.978447 \nL 234.317297 149.308381 \nL 234.927244 149.237417 \nL 235.537191 149.564078 \nL 236.147139 149.492708 \nL 236.757086 149.618995 \nL 237.367033 149.940843 \nL 237.97698 150.064661 \nL 238.586927 149.992537 \nL 239.196874 149.532141 \nL 240.416769 149.393097 \nL 241.026716 149.709046 \nL 241.636663 149.447682 \nL 242.24661 149.570216 \nL 242.856557 149.501514 \nL 243.466505 149.053794 \nL 244.076452 149.365518 \nL 245.906293 149.726534 \nL 246.51624 149.658694 \nL 247.736135 148.412459 \nL 248.346082 148.349656 \nL 248.956029 147.735005 \nL 249.565976 147.674852 \nL 250.175923 147.98086 \nL 251.395818 147.860132 \nL 252.005765 147.438176 \nL 252.615712 147.199462 \nL 253.225659 147.142217 \nL 253.835606 147.264677 \nL 255.055501 147.150866 \nL 255.665448 147.272124 \nL 256.275395 147.215559 \nL 256.885342 146.806369 \nL 257.495289 146.575691 \nL 258.105237 146.521859 \nL 258.715184 146.118708 \nL 259.935078 146.709848 \nL 261.154972 146.603013 \nL 261.76492 146.377976 \nL 262.374867 146.325909 \nL 262.984814 146.445229 \nL 263.594761 146.393286 \nL 264.204708 146.681689 \nL 264.814655 146.459834 \nL 265.424603 146.746282 \nL 266.03455 146.525579 \nL 266.644497 146.642131 \nL 267.254444 146.423076 \nL 267.864391 146.706194 \nL 268.474338 146.821165 \nL 269.084286 146.769487 \nL 269.694233 146.387197 \nL 270.30418 146.172143 \nL 270.914127 146.122842 \nL 271.524074 146.401835 \nL 272.134021 146.352154 \nL 272.743969 146.465799 \nL 273.353916 146.253661 \nL 274.57381 146.802774 \nL 275.183757 146.591506 \nL 275.793704 146.702814 \nL 276.403652 146.973705 \nL 277.013599 146.923518 \nL 278.233493 146.506326 \nL 279.453387 146.725638 \nL 280.063335 146.519374 \nL 281.283229 147.049979 \nL 281.893176 147.000704 \nL 282.503123 147.107439 \nL 283.11307 147.368878 \nL 283.723018 147.47399 \nL 284.332965 147.424093 \nL 284.942912 147.220463 \nL 285.552859 147.32512 \nL 286.162806 147.582349 \nL 286.772753 147.37997 \nL 287.992648 147.586119 \nL 288.602595 147.536868 \nL 289.822489 147.740489 \nL 290.432436 147.240445 \nL 291.042384 147.492356 \nL 291.652331 147.593467 \nL 292.872225 147.496763 \nL 293.482172 147.745311 \nL 294.092119 147.844674 \nL 295.312014 147.747664 \nL 295.921961 147.552857 \nL 296.531908 147.651673 \nL 297.141855 147.458142 \nL 297.751802 147.411153 \nL 298.36175 147.509571 \nL 299.581644 147.416074 \nL 300.191591 147.513713 \nL 301.411485 147.994057 \nL 302.021433 147.946538 \nL 303.241327 148.136615 \nL 303.851274 148.372744 \nL 304.461221 148.466208 \nL 305.071168 148.276993 \nL 305.681116 148.370234 \nL 306.291063 148.322607 \nL 306.90101 148.555299 \nL 307.510957 148.367757 \nL 308.120904 148.320495 \nL 309.340799 148.781246 \nL 309.950746 148.871604 \nL 312.390534 148.680848 \nL 313.000482 148.770344 \nL 314.220376 148.676159 \nL 314.830323 148.900608 \nL 316.050217 148.536601 \nL 316.660165 148.625144 \nL 317.270112 148.578975 \nL 317.880059 148.666988 \nL 318.490006 148.888222 \nL 320.319848 149.14754 \nL 320.929795 149.100783 \nL 321.539742 148.790135 \nL 322.149689 148.876194 \nL 323.369583 148.5226 \nL 325.199425 148.389023 \nL 325.809372 148.474808 \nL 326.419319 148.171409 \nL 327.639214 148.084821 \nL 328.249161 147.913127 \nL 328.859108 147.870629 \nL 329.469055 147.956422 \nL 330.079002 147.914014 \nL 330.688949 148.126831 \nL 331.298897 148.211448 \nL 331.908844 148.422608 \nL 332.518791 148.379529 \nL 333.128738 147.957581 \nL 333.738685 148.041817 \nL 334.348632 147.874108 \nL 334.95858 147.958153 \nL 336.788421 147.834061 \nL 337.398368 147.668697 \nL 338.008315 147.876353 \nL 338.618263 147.587809 \nL 339.838157 147.754184 \nL 341.667998 147.633629 \nL 342.277946 147.471612 \nL 342.887893 147.554141 \nL 343.49784 147.757961 \nL 344.717734 147.193961 \nL 345.327681 147.034653 \nL 345.937629 147.237835 \nL 346.547576 147.199462 \nL 347.76747 146.883579 \nL 348.987365 146.80902 \nL 349.597312 146.652926 \nL 350.207259 146.73509 \nL 350.817206 146.698366 \nL 351.427153 146.780083 \nL 352.0371 146.743416 \nL 353.256995 146.905616 \nL 353.866942 147.103496 \nL 354.476889 147.066457 \nL 355.086836 147.146376 \nL 357.526625 146.999403 \nL 359.356466 147.236087 \nL 360.576361 147.162994 \nL 361.796255 147.318815 \nL 362.406202 147.282322 \nL 363.016149 147.359665 \nL 363.626097 147.550156 \nL 364.236044 147.400192 \nL 365.455938 147.553155 \nL 366.065885 147.291543 \nL 366.675832 147.255622 \nL 367.28578 147.107754 \nL 368.505674 147.260361 \nL 369.115621 147.224788 \nL 369.725568 147.411741 \nL 369.725568 147.411741 \n\" style=\"fill:none;stroke:#9467bd;stroke-linecap:square;stroke-width:1.5;\"/>\n   </g>\n   <g id=\"line2d_21\">\n    <path clip-path=\"url(#p9809218395)\" d=\"M 65.361932 18.319091 \nL 65.971879 73.914541 \nL 67.191773 73.914541 \nL 67.80172 85.033638 \nL 68.411668 83.180458 \nL 69.021615 81.856749 \nL 69.631562 101.712275 \nL 70.241509 104.800911 \nL 70.851456 107.271823 \nL 72.071351 120.244092 \nL 72.681298 125.233427 \nL 73.901192 125.80364 \nL 75.121086 132.780321 \nL 75.731034 135.687272 \nL 76.340981 132.43608 \nL 76.950928 135.069548 \nL 78.170822 134.564136 \nL 79.390717 143.408867 \nL 80.000664 138.405274 \nL 80.610611 140.201433 \nL 81.220558 143.923641 \nL 81.830505 145.394414 \nL 83.0504 144.335457 \nL 84.270294 146.883579 \nL 86.100135 154.925066 \nL 87.32003 153.551278 \nL 88.539924 155.169439 \nL 89.149871 154.527955 \nL 89.759819 155.273747 \nL 91.58966 149.726534 \nL 92.199607 151.748185 \nL 92.809554 150.056144 \nL 93.419502 151.984762 \nL 94.029449 151.516538 \nL 94.639396 148.798221 \nL 95.249343 147.300548 \nL 95.85929 148.041817 \nL 96.469237 146.616292 \nL 97.689132 150.100913 \nL 98.299079 147.704875 \nL 98.909026 148.372744 \nL 99.518973 147.066457 \nL 100.12892 146.763762 \nL 100.738868 148.355919 \nL 101.348815 148.041817 \nL 101.958762 149.560822 \nL 102.568709 149.237417 \nL 103.178656 150.689219 \nL 103.788603 148.620936 \nL 104.398551 147.471612 \nL 106.228392 146.679187 \nL 106.838339 148.041817 \nL 107.448286 146.982859 \nL 108.058234 142.821588 \nL 109.278128 142.456885 \nL 109.888075 143.784513 \nL 110.498022 144.335457 \nL 111.717917 146.838454 \nL 112.327864 146.616292 \nL 112.937811 147.807237 \nL 113.547758 147.578522 \nL 114.157705 148.041817 \nL 114.767652 147.137827 \nL 115.3776 146.925448 \nL 115.987547 147.37997 \nL 116.597494 147.169738 \nL 118.427335 148.462994 \nL 119.037283 147.625378 \nL 119.64723 148.041817 \nL 120.257177 147.83817 \nL 121.477071 148.639617 \nL 122.087018 147.253228 \nL 123.306913 148.041817 \nL 123.91686 147.277617 \nL 124.526807 147.096322 \nL 125.136754 147.480253 \nL 126.356649 147.124406 \nL 126.966596 145.861603 \nL 127.576543 145.70285 \nL 129.406384 143.671108 \nL 130.016332 143.538757 \nL 130.626279 143.923641 \nL 131.236226 142.26125 \nL 131.846173 143.15616 \nL 132.45612 143.534077 \nL 133.676015 143.285869 \nL 134.285962 143.652709 \nL 135.505856 145.325952 \nL 136.115803 145.190768 \nL 136.72575 145.529027 \nL 137.335698 145.394414 \nL 138.555592 146.050801 \nL 139.165539 145.915219 \nL 139.775486 145.329846 \nL 140.385433 145.202267 \nL 140.995381 144.631963 \nL 141.605328 145.394414 \nL 143.435169 146.317931 \nL 144.045116 145.333325 \nL 144.655064 146.061323 \nL 145.265011 145.514753 \nL 146.484905 146.105661 \nL 147.094852 145.982729 \nL 148.924694 146.833219 \nL 149.534641 146.708597 \nL 150.144588 146.982859 \nL 150.754535 146.858942 \nL 151.364482 147.519794 \nL 151.97443 147.393855 \nL 152.584377 147.65574 \nL 153.804271 148.930332 \nL 154.414218 148.420023 \nL 155.024165 149.043538 \nL 155.634113 148.912446 \nL 156.24406 148.412459 \nL 156.854007 147.55091 \nL 157.463954 148.163738 \nL 158.073901 147.678448 \nL 158.683848 147.921486 \nL 159.293796 147.444017 \nL 160.51369 147.923781 \nL 161.123637 147.807237 \nL 161.733584 148.041817 \nL 162.343531 147.578522 \nL 162.953479 147.466293 \nL 163.563426 147.698637 \nL 164.173373 147.587055 \nL 164.78332 148.154816 \nL 165.393267 147.367933 \nL 166.613162 147.819879 \nL 167.223109 148.372744 \nL 167.833056 148.261129 \nL 168.443003 147.823797 \nL 169.662897 147.610847 \nL 170.272845 147.827575 \nL 170.882792 148.361337 \nL 171.492739 147.618237 \nL 172.102686 148.147111 \nL 173.32258 148.562373 \nL 173.932528 148.145347 \nL 174.542475 148.659549 \nL 175.152422 147.632279 \nL 176.372316 148.649417 \nL 176.982263 147.941104 \nL 178.202158 148.340717 \nL 180.031999 148.041817 \nL 180.641946 147.651673 \nL 181.251894 147.556692 \nL 182.471788 148.521921 \nL 183.081735 148.423917 \nL 183.691682 148.041817 \nL 184.301629 147.947267 \nL 184.911577 147.289257 \nL 187.351365 149.148194 \nL 187.961312 149.3262 \nL 189.181207 150.222031 \nL 189.791154 150.3922 \nL 190.401101 150.020944 \nL 191.011048 150.190434 \nL 191.620995 150.625579 \nL 192.230943 150.524551 \nL 192.84089 150.15974 \nL 193.450837 150.061877 \nL 195.280678 150.55314 \nL 196.500573 150.3583 \nL 197.11052 150.774623 \nL 197.720467 150.422057 \nL 198.330414 150.580429 \nL 198.940361 150.990066 \nL 200.770203 150.701091 \nL 201.38015 150.854683 \nL 201.990097 150.01855 \nL 202.600044 150.173799 \nL 203.209992 150.08277 \nL 203.819939 150.236379 \nL 204.429886 149.903091 \nL 205.039833 150.056144 \nL 205.64978 150.44855 \nL 207.479622 150.180103 \nL 209.91941 150.767084 \nL 210.529358 151.143377 \nL 211.139305 150.3583 \nL 211.749252 150.733159 \nL 212.359199 150.645461 \nL 212.969146 150.100913 \nL 213.579093 150.244373 \nL 214.189041 150.613583 \nL 214.798988 150.527798 \nL 215.408935 149.992537 \nL 217.238776 150.413888 \nL 217.848724 149.887615 \nL 218.458671 149.586139 \nL 219.068618 149.726534 \nL 219.678565 150.084701 \nL 220.288512 149.785991 \nL 222.118354 149.550226 \nL 222.728301 149.258194 \nL 223.338248 149.609899 \nL 223.948195 149.532887 \nL 224.558142 149.244268 \nL 225.16809 149.592013 \nL 226.997931 149.365518 \nL 227.607878 149.499377 \nL 228.217825 149.424793 \nL 228.827773 149.557434 \nL 230.047667 148.999183 \nL 231.267561 149.263695 \nL 231.877508 149.191604 \nL 233.097403 149.854718 \nL 234.317297 150.108319 \nL 234.927244 150.034489 \nL 235.537191 150.15974 \nL 236.147139 150.481953 \nL 237.367033 150.333737 \nL 237.97698 150.651931 \nL 238.586927 149.992537 \nL 239.196874 150.309696 \nL 239.806822 150.043511 \nL 240.416769 150.165258 \nL 241.636663 150.789642 \nL 242.24661 150.907562 \nL 243.466505 150.761509 \nL 244.076452 151.067425 \nL 244.686399 150.428966 \nL 245.906293 151.036864 \nL 246.51624 151.151189 \nL 247.126188 151.450685 \nL 247.736135 151.377551 \nL 248.346082 151.120197 \nL 248.956029 151.416819 \nL 250.175923 151.272696 \nL 251.395818 150.767084 \nL 252.005765 150.87894 \nL 252.615712 151.170566 \nL 253.835606 151.030825 \nL 254.445554 151.140386 \nL 255.665448 151.712662 \nL 258.715184 152.2377 \nL 259.325131 152.166455 \nL 259.935078 151.748185 \nL 261.154972 151.61006 \nL 261.76492 151.713755 \nL 262.374867 151.645227 \nL 262.984814 151.748185 \nL 263.594761 151.679972 \nL 264.204708 151.442152 \nL 264.814655 151.714285 \nL 266.03455 151.916656 \nL 266.644497 151.513033 \nL 267.864391 151.714791 \nL 269.084286 152.246051 \nL 269.694233 152.01292 \nL 270.30418 152.111123 \nL 270.914127 152.373224 \nL 271.524074 152.305781 \nL 273.353916 152.593497 \nL 273.963863 152.526195 \nL 274.57381 152.782513 \nL 275.183757 152.87621 \nL 275.793704 152.487316 \nL 276.403652 152.581311 \nL 277.013599 152.515019 \nL 277.623546 152.767701 \nL 278.233493 152.860088 \nL 278.84344 152.635176 \nL 279.453387 152.569481 \nL 280.063335 152.661653 \nL 280.673282 152.596248 \nL 281.283229 152.374608 \nL 281.893176 152.310387 \nL 282.503123 152.402244 \nL 283.11307 152.183007 \nL 283.723018 152.429574 \nL 284.332965 152.057043 \nL 284.942912 151.840589 \nL 285.552859 151.932479 \nL 286.162806 151.71755 \nL 286.772753 151.656543 \nL 287.382701 151.13892 \nL 287.992648 150.776023 \nL 288.602595 151.02105 \nL 289.212542 151.113669 \nL 289.822489 151.35645 \nL 290.432436 151.297408 \nL 291.042384 151.088832 \nL 292.262278 150.973124 \nL 292.872225 150.767084 \nL 293.482172 150.710402 \nL 294.092119 150.50616 \nL 294.702067 150.745404 \nL 295.921961 150.926724 \nL 297.141855 150.522455 \nL 298.971697 150.792633 \nL 299.581644 150.44855 \nL 300.191591 150.250272 \nL 300.801538 150.34034 \nL 301.411485 150.57323 \nL 302.63138 150.180103 \nL 303.851274 150.3583 \nL 304.461221 150.163783 \nL 305.071168 150.252467 \nL 305.681116 150.481447 \nL 306.291063 150.568889 \nL 306.90101 150.235766 \nL 308.120904 150.131872 \nL 308.730851 149.802344 \nL 309.340799 149.751735 \nL 309.950746 149.977981 \nL 310.560693 149.651279 \nL 311.17064 149.876655 \nL 311.780587 149.963641 \nL 312.390534 149.639391 \nL 313.610429 149.268193 \nL 314.830323 149.171805 \nL 315.44027 148.853428 \nL 316.050217 149.07636 \nL 317.270112 149.250415 \nL 317.880059 148.800955 \nL 318.490006 148.888222 \nL 319.099953 148.708435 \nL 319.7099 148.795504 \nL 320.319848 148.484103 \nL 320.929795 148.438928 \nL 321.539742 148.261916 \nL 322.149689 148.217479 \nL 322.759636 148.30468 \nL 323.369583 148.260358 \nL 323.979531 148.347046 \nL 324.589478 148.56384 \nL 325.199425 148.649417 \nL 325.809372 148.604698 \nL 326.419319 148.819379 \nL 327.029266 148.51589 \nL 328.249161 148.685289 \nL 328.859108 148.641 \nL 329.469055 148.468818 \nL 330.079002 148.553045 \nL 331.298897 148.465885 \nL 331.908844 148.549541 \nL 332.518791 148.506172 \nL 333.128738 148.589347 \nL 333.738685 148.798221 \nL 334.348632 148.754579 \nL 334.95858 148.585644 \nL 335.568527 148.79311 \nL 336.178474 148.624846 \nL 336.788421 148.831292 \nL 337.398368 148.912446 \nL 338.008315 148.496844 \nL 339.22821 148.906639 \nL 339.838157 148.986898 \nL 340.448104 148.820813 \nL 341.058051 148.778181 \nL 341.667998 148.613289 \nL 343.49784 148.48788 \nL 344.107787 148.567833 \nL 344.717734 148.768555 \nL 345.327681 148.726694 \nL 346.547576 148.402833 \nL 347.76747 148.800665 \nL 348.377417 148.759177 \nL 348.987365 148.598568 \nL 349.597312 148.676739 \nL 351.427153 148.554404 \nL 352.0371 148.632003 \nL 352.647048 148.591493 \nL 353.256995 148.668687 \nL 353.866942 148.510977 \nL 354.476889 148.705063 \nL 355.696783 148.391475 \nL 357.526625 148.273464 \nL 358.136572 148.350045 \nL 358.746519 148.195608 \nL 359.966414 148.577865 \nL 360.576361 148.538548 \nL 361.186308 148.613786 \nL 363.016149 148.496587 \nL 363.626097 148.684758 \nL 364.845991 148.493812 \nL 365.455938 148.455306 \nL 366.065885 148.529501 \nL 366.675832 148.378759 \nL 367.895727 148.526552 \nL 368.505674 148.488369 \nL 369.115621 148.561752 \nL 369.725568 148.412459 \nL 369.725568 148.412459 \n\" style=\"fill:none;stroke:#8c564b;stroke-linecap:square;stroke-width:1.5;\"/>\n   </g>\n   <g id=\"line2d_22\">\n    <path clip-path=\"url(#p9809218395)\" d=\"M 50.14375 147.856501 \nL 384.94375 147.856501 \n\" style=\"fill:none;stroke:#000000;stroke-dasharray:5.55,2.4;stroke-dashoffset:0;stroke-width:1.5;\"/>\n   </g>\n   <g id=\"patch_3\">\n    <path d=\"M 50.14375 251.82 \nL 50.14375 7.2 \n\" style=\"fill:none;stroke:#000000;stroke-linecap:square;stroke-linejoin:miter;stroke-width:0.8;\"/>\n   </g>\n   <g id=\"patch_4\">\n    <path d=\"M 384.94375 251.82 \nL 384.94375 7.2 \n\" style=\"fill:none;stroke:#000000;stroke-linecap:square;stroke-linejoin:miter;stroke-width:0.8;\"/>\n   </g>\n   <g id=\"patch_5\">\n    <path d=\"M 50.14375 251.82 \nL 384.94375 251.82 \n\" style=\"fill:none;stroke:#000000;stroke-linecap:square;stroke-linejoin:miter;stroke-width:0.8;\"/>\n   </g>\n   <g id=\"patch_6\">\n    <path d=\"M 50.14375 7.2 \nL 384.94375 7.2 \n\" style=\"fill:none;stroke:#000000;stroke-linecap:square;stroke-linejoin:miter;stroke-width:0.8;\"/>\n   </g>\n   <g id=\"legend_1\">\n    <g id=\"patch_7\">\n     <path d=\"M 299.310938 103.26875 \nL 377.94375 103.26875 \nQ 379.94375 103.26875 379.94375 101.26875 \nL 379.94375 14.2 \nQ 379.94375 12.2 377.94375 12.2 \nL 299.310938 12.2 \nQ 297.310938 12.2 297.310938 14.2 \nL 297.310938 101.26875 \nQ 297.310938 103.26875 299.310938 103.26875 \nz\n\" style=\"fill:#ffffff;opacity:0.8;stroke:#cccccc;stroke-linejoin:miter;\"/>\n    </g>\n    <g id=\"line2d_23\">\n     <path d=\"M 301.310938 20.298437 \nL 321.310938 20.298437 \n\" style=\"fill:none;stroke:#1f77b4;stroke-linecap:square;stroke-width:1.5;\"/>\n    </g>\n    <g id=\"line2d_24\"/>\n    <g id=\"text_18\">\n     <!-- P(diie=1) -->\n     <g transform=\"translate(329.310938 23.798437)scale(0.1 -0.1)\">\n      <defs>\n       <path d=\"M 19.671875 64.796875 \nL 19.671875 37.40625 \nL 32.078125 37.40625 \nQ 38.96875 37.40625 42.71875 40.96875 \nQ 46.484375 44.53125 46.484375 51.125 \nQ 46.484375 57.671875 42.71875 61.234375 \nQ 38.96875 64.796875 32.078125 64.796875 \nz\nM 9.8125 72.90625 \nL 32.078125 72.90625 \nQ 44.34375 72.90625 50.609375 67.359375 \nQ 56.890625 61.8125 56.890625 51.125 \nQ 56.890625 40.328125 50.609375 34.8125 \nQ 44.34375 29.296875 32.078125 29.296875 \nL 19.671875 29.296875 \nL 19.671875 0 \nL 9.8125 0 \nz\n\" id=\"DejaVuSans-80\"/>\n       <path d=\"M 31 75.875 \nQ 24.46875 64.65625 21.28125 53.65625 \nQ 18.109375 42.671875 18.109375 31.390625 \nQ 18.109375 20.125 21.3125 9.0625 \nQ 24.515625 -2 31 -13.1875 \nL 23.1875 -13.1875 \nQ 15.875 -1.703125 12.234375 9.375 \nQ 8.59375 20.453125 8.59375 31.390625 \nQ 8.59375 42.28125 12.203125 53.3125 \nQ 15.828125 64.359375 23.1875 75.875 \nz\n\" id=\"DejaVuSans-40\"/>\n       <path d=\"M 10.59375 45.40625 \nL 73.1875 45.40625 \nL 73.1875 37.203125 \nL 10.59375 37.203125 \nz\nM 10.59375 25.484375 \nL 73.1875 25.484375 \nL 73.1875 17.1875 \nL 10.59375 17.1875 \nz\n\" id=\"DejaVuSans-61\"/>\n       <path d=\"M 8.015625 75.875 \nL 15.828125 75.875 \nQ 23.140625 64.359375 26.78125 53.3125 \nQ 30.421875 42.28125 30.421875 31.390625 \nQ 30.421875 20.453125 26.78125 9.375 \nQ 23.140625 -1.703125 15.828125 -13.1875 \nL 8.015625 -13.1875 \nQ 14.5 -2 17.703125 9.0625 \nQ 20.90625 20.125 20.90625 31.390625 \nQ 20.90625 42.671875 17.703125 53.65625 \nQ 14.5 64.65625 8.015625 75.875 \nz\n\" id=\"DejaVuSans-41\"/>\n      </defs>\n      <use xlink:href=\"#DejaVuSans-80\"/>\n      <use x=\"60.302734\" xlink:href=\"#DejaVuSans-40\"/>\n      <use x=\"99.316406\" xlink:href=\"#DejaVuSans-100\"/>\n      <use x=\"162.792969\" xlink:href=\"#DejaVuSans-105\"/>\n      <use x=\"190.576172\" xlink:href=\"#DejaVuSans-105\"/>\n      <use x=\"218.359375\" xlink:href=\"#DejaVuSans-101\"/>\n      <use x=\"279.882812\" xlink:href=\"#DejaVuSans-61\"/>\n      <use x=\"363.671875\" xlink:href=\"#DejaVuSans-49\"/>\n      <use x=\"427.294922\" xlink:href=\"#DejaVuSans-41\"/>\n     </g>\n    </g>\n    <g id=\"line2d_25\">\n     <path d=\"M 301.310938 34.976562 \nL 321.310938 34.976562 \n\" style=\"fill:none;stroke:#ff7f0e;stroke-linecap:square;stroke-width:1.5;\"/>\n    </g>\n    <g id=\"line2d_26\"/>\n    <g id=\"text_19\">\n     <!-- P(diie=2) -->\n     <g transform=\"translate(329.310938 38.476562)scale(0.1 -0.1)\">\n      <use xlink:href=\"#DejaVuSans-80\"/>\n      <use x=\"60.302734\" xlink:href=\"#DejaVuSans-40\"/>\n      <use x=\"99.316406\" xlink:href=\"#DejaVuSans-100\"/>\n      <use x=\"162.792969\" xlink:href=\"#DejaVuSans-105\"/>\n      <use x=\"190.576172\" xlink:href=\"#DejaVuSans-105\"/>\n      <use x=\"218.359375\" xlink:href=\"#DejaVuSans-101\"/>\n      <use x=\"279.882812\" xlink:href=\"#DejaVuSans-61\"/>\n      <use x=\"363.671875\" xlink:href=\"#DejaVuSans-50\"/>\n      <use x=\"427.294922\" xlink:href=\"#DejaVuSans-41\"/>\n     </g>\n    </g>\n    <g id=\"line2d_27\">\n     <path d=\"M 301.310938 49.654687 \nL 321.310938 49.654687 \n\" style=\"fill:none;stroke:#2ca02c;stroke-linecap:square;stroke-width:1.5;\"/>\n    </g>\n    <g id=\"line2d_28\"/>\n    <g id=\"text_20\">\n     <!-- P(diie=3) -->\n     <g transform=\"translate(329.310938 53.154687)scale(0.1 -0.1)\">\n      <use xlink:href=\"#DejaVuSans-80\"/>\n      <use x=\"60.302734\" xlink:href=\"#DejaVuSans-40\"/>\n      <use x=\"99.316406\" xlink:href=\"#DejaVuSans-100\"/>\n      <use x=\"162.792969\" xlink:href=\"#DejaVuSans-105\"/>\n      <use x=\"190.576172\" xlink:href=\"#DejaVuSans-105\"/>\n      <use x=\"218.359375\" xlink:href=\"#DejaVuSans-101\"/>\n      <use x=\"279.882812\" xlink:href=\"#DejaVuSans-61\"/>\n      <use x=\"363.671875\" xlink:href=\"#DejaVuSans-51\"/>\n      <use x=\"427.294922\" xlink:href=\"#DejaVuSans-41\"/>\n     </g>\n    </g>\n    <g id=\"line2d_29\">\n     <path d=\"M 301.310938 64.332812 \nL 321.310938 64.332812 \n\" style=\"fill:none;stroke:#d62728;stroke-linecap:square;stroke-width:1.5;\"/>\n    </g>\n    <g id=\"line2d_30\"/>\n    <g id=\"text_21\">\n     <!-- P(diie=4) -->\n     <g transform=\"translate(329.310938 67.832812)scale(0.1 -0.1)\">\n      <use xlink:href=\"#DejaVuSans-80\"/>\n      <use x=\"60.302734\" xlink:href=\"#DejaVuSans-40\"/>\n      <use x=\"99.316406\" xlink:href=\"#DejaVuSans-100\"/>\n      <use x=\"162.792969\" xlink:href=\"#DejaVuSans-105\"/>\n      <use x=\"190.576172\" xlink:href=\"#DejaVuSans-105\"/>\n      <use x=\"218.359375\" xlink:href=\"#DejaVuSans-101\"/>\n      <use x=\"279.882812\" xlink:href=\"#DejaVuSans-61\"/>\n      <use x=\"363.671875\" xlink:href=\"#DejaVuSans-52\"/>\n      <use x=\"427.294922\" xlink:href=\"#DejaVuSans-41\"/>\n     </g>\n    </g>\n    <g id=\"line2d_31\">\n     <path d=\"M 301.310938 79.010937 \nL 321.310938 79.010937 \n\" style=\"fill:none;stroke:#9467bd;stroke-linecap:square;stroke-width:1.5;\"/>\n    </g>\n    <g id=\"line2d_32\"/>\n    <g id=\"text_22\">\n     <!-- P(diie=5) -->\n     <g transform=\"translate(329.310938 82.510937)scale(0.1 -0.1)\">\n      <use xlink:href=\"#DejaVuSans-80\"/>\n      <use x=\"60.302734\" xlink:href=\"#DejaVuSans-40\"/>\n      <use x=\"99.316406\" xlink:href=\"#DejaVuSans-100\"/>\n      <use x=\"162.792969\" xlink:href=\"#DejaVuSans-105\"/>\n      <use x=\"190.576172\" xlink:href=\"#DejaVuSans-105\"/>\n      <use x=\"218.359375\" xlink:href=\"#DejaVuSans-101\"/>\n      <use x=\"279.882812\" xlink:href=\"#DejaVuSans-61\"/>\n      <use x=\"363.671875\" xlink:href=\"#DejaVuSans-53\"/>\n      <use x=\"427.294922\" xlink:href=\"#DejaVuSans-41\"/>\n     </g>\n    </g>\n    <g id=\"line2d_33\">\n     <path d=\"M 301.310938 93.689062 \nL 321.310938 93.689062 \n\" style=\"fill:none;stroke:#8c564b;stroke-linecap:square;stroke-width:1.5;\"/>\n    </g>\n    <g id=\"line2d_34\"/>\n    <g id=\"text_23\">\n     <!-- P(diie=6) -->\n     <g transform=\"translate(329.310938 97.189062)scale(0.1 -0.1)\">\n      <defs>\n       <path d=\"M 33.015625 40.375 \nQ 26.375 40.375 22.484375 35.828125 \nQ 18.609375 31.296875 18.609375 23.390625 \nQ 18.609375 15.53125 22.484375 10.953125 \nQ 26.375 6.390625 33.015625 6.390625 \nQ 39.65625 6.390625 43.53125 10.953125 \nQ 47.40625 15.53125 47.40625 23.390625 \nQ 47.40625 31.296875 43.53125 35.828125 \nQ 39.65625 40.375 33.015625 40.375 \nz\nM 52.59375 71.296875 \nL 52.59375 62.3125 \nQ 48.875 64.0625 45.09375 64.984375 \nQ 41.3125 65.921875 37.59375 65.921875 \nQ 27.828125 65.921875 22.671875 59.328125 \nQ 17.53125 52.734375 16.796875 39.40625 \nQ 19.671875 43.65625 24.015625 45.921875 \nQ 28.375 48.1875 33.59375 48.1875 \nQ 44.578125 48.1875 50.953125 41.515625 \nQ 57.328125 34.859375 57.328125 23.390625 \nQ 57.328125 12.15625 50.6875 5.359375 \nQ 44.046875 -1.421875 33.015625 -1.421875 \nQ 20.359375 -1.421875 13.671875 8.265625 \nQ 6.984375 17.96875 6.984375 36.375 \nQ 6.984375 53.65625 15.1875 63.9375 \nQ 23.390625 74.21875 37.203125 74.21875 \nQ 40.921875 74.21875 44.703125 73.484375 \nQ 48.484375 72.75 52.59375 71.296875 \nz\n\" id=\"DejaVuSans-54\"/>\n      </defs>\n      <use xlink:href=\"#DejaVuSans-80\"/>\n      <use x=\"60.302734\" xlink:href=\"#DejaVuSans-40\"/>\n      <use x=\"99.316406\" xlink:href=\"#DejaVuSans-100\"/>\n      <use x=\"162.792969\" xlink:href=\"#DejaVuSans-105\"/>\n      <use x=\"190.576172\" xlink:href=\"#DejaVuSans-105\"/>\n      <use x=\"218.359375\" xlink:href=\"#DejaVuSans-101\"/>\n      <use x=\"279.882812\" xlink:href=\"#DejaVuSans-61\"/>\n      <use x=\"363.671875\" xlink:href=\"#DejaVuSans-54\"/>\n      <use x=\"427.294922\" xlink:href=\"#DejaVuSans-41\"/>\n     </g>\n    </g>\n   </g>\n  </g>\n </g>\n <defs>\n  <clipPath id=\"p9809218395\">\n   <rect height=\"244.62\" width=\"334.8\" x=\"50.14375\" y=\"7.2\"/>\n  </clipPath>\n </defs>\n</svg>\n"
     },
     "metadata": {
      "needs_background": "light"
     }
    }
   ],
   "source": [
    "counts = multinomial.Multinomial(10, fair_probs).sample((500, ))\n",
    "print(counts.shape)\n",
    "cum_counts = counts.cumsum(dim=0)\n",
    "print(cum_counts)\n",
    "estimates = cum_counts / cum_counts.sum(dim=1, keepdims=True)\n",
    "print(estimates)\n",
    "\n",
    "d2l.set_figsize((6, 4.5))\n",
    "for i in range(6):\n",
    "    d2l.plt.plot(estimates[:, i].numpy(), label=(\"P(diie=\" + str(i + 1) + \")\"))\n",
    "d2l.plt.axhline(y=0.167, color='black', linestyle='dashed')\n",
    "d2l.plt.gca().set_xlabel('Groups of experiments')\n",
    "d2l.plt.gca().set_ylabel('Estimated probability')\n",
    "d2l.plt.legend()"
   ]
  },
  {
   "cell_type": "code",
   "execution_count": 145,
   "metadata": {},
   "outputs": [],
   "source": [
    "a = torch.tensor(\n",
    "    [[1, 2, 3],\n",
    "    [1, 2, 3],\n",
    "    [1, 2, 3]]\n",
    ")"
   ]
  },
  {
   "cell_type": "code",
   "execution_count": 148,
   "metadata": {},
   "outputs": [
    {
     "output_type": "execute_result",
     "data": {
      "text/plain": [
       "tensor([[1, 3, 6],\n",
       "        [1, 3, 6],\n",
       "        [1, 3, 6]])"
      ]
     },
     "metadata": {},
     "execution_count": 148
    }
   ],
   "source": [
    "a.cumsum()"
   ]
  },
  {
   "cell_type": "code",
   "execution_count": null,
   "metadata": {},
   "outputs": [],
   "source": []
  }
 ]
}